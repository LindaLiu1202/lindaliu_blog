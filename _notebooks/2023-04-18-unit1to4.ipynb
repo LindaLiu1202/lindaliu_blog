{
 "cells": [
  {
   "attachments": {},
   "cell_type": "markdown",
   "metadata": {},
   "source": [
    "# Unit 1 to 4"
   ]
  },
  {
   "attachments": {},
   "cell_type": "markdown",
   "metadata": {},
   "source": [
    "## Hack 1"
   ]
  },
  {
   "cell_type": "code",
   "execution_count": 26,
   "metadata": {},
   "outputs": [],
   "source": [
    "import java.util.Scanner;\n",
    "\n",
    "public class Hack1 {\n",
    "    public static void main(String[] args) {\n",
    "        Scanner scanner = new Scanner(System.in);\n",
    "\n",
    "        System.out.println(\"Enter the number of cars: \");\n",
    "        double car = scanner.nextDouble();\n",
    "        int wheel = (int)(car * 4);\n",
    "\n",
    "        System.out.println(\"The number of wheels of the cars is \" + wheel);\n",
    "\n",
    "        scanner.close();\n",
    "    }\n",
    "}\n",
    "\n",
    "\n",
    "Hack1.main(null);"
   ]
  },
  {
   "attachments": {},
   "cell_type": "markdown",
   "metadata": {},
   "source": [
    "## Hack 2\n",
    "\n",
    "Create a class named “Car” with the following attributes:\n",
    "\n",
    "make (String) model (String) year (int) price (double) isUsed (boolean) Create a constructor that initializes all of these attributes.\n",
    "\n",
    "Create a method named “printCarDetails()” that prints out all of the attributes of the car.\n",
    "\n",
    "In the main method, create an array of three cars with the following details:\n",
    "\n",
    "Car 1: Make = “Toyota”, Model = “Corolla”, Year = 2022, Price = 24999.99, isUsed = false Car 2: Make = “Honda”, Model = “Accord”, Year = 2018, Price = 18999.99, isUsed = true Car 3: Make = “Ford”, Model = “Mustang”, Year = 2020, Price = 34999.99, isUsed = true Loop through the array and print out the details of each car using the “printCarDetails()” method."
   ]
  },
  {
   "cell_type": "code",
   "execution_count": 1,
   "metadata": {},
   "outputs": [
    {
     "name": "stdout",
     "output_type": "stream",
     "text": [
      "Toyota\n",
      "Corolla\n",
      "2022\n",
      "24999.99\n",
      "false\n"
     ]
    }
   ],
   "source": [
    "public class Car {\n",
    "    //instance variables\n",
    "    private String make;\n",
    "    private String model;\n",
    "    private int year;\n",
    "    private double price;\n",
    "    private boolean isUsed;\n",
    "\n",
    "    //constructors\n",
    "    public Car(String make, String model, int year, double price, boolean isUsed) {\n",
    "        this.make = make;\n",
    "        this.model = model;\n",
    "        this.year = year;\n",
    "        this.price = price;\n",
    "        this.isUsed = isUsed;\n",
    "    }\n",
    "\n",
    "    //getters\n",
    "    public String getMake() {\n",
    "        return make;\n",
    "    }\n",
    "    public String getModel() {\n",
    "        return model;\n",
    "    }\n",
    "    public int getYear() {\n",
    "        return year;\n",
    "    }\n",
    "    public double getPrice() {\n",
    "        return price;\n",
    "    }\n",
    "    public boolean getIsUsed() {\n",
    "        return isUsed;\n",
    "    }\n",
    "\n",
    "    // method to print car details\n",
    "    public void printCarDetails() {\n",
    "    System.out.println(getMake());\n",
    "    System.out.println(getModel());\n",
    "    System.out.println(getYear());\n",
    "    System.out.println(getPrice());\n",
    "    System.out.println(getIsUsed());\n",
    "    }\n",
    "\n",
    "    public static void main (String[] args) {\n",
    "        Car car1 = new Car(\"Toyota\", \"Corolla\", 2022, 24999.99, false);\n",
    "        car1.printCarDetails();\n",
    "    }\n",
    "}\n",
    "\n",
    "\n",
    "Car.main(null);"
   ]
  },
  {
   "attachments": {},
   "cell_type": "markdown",
   "metadata": {},
   "source": [
    "## Hack 3\n",
    "\n",
    "Create a Car object named myCar with the following details:\n",
    "Make: “Toyota”\n",
    "Model: “Camry”\n",
    "Year: 2019\n",
    "Price: 25000.0\n",
    "Print the car details using the getMake(), getModel(), getYear(), and getPrice() methods.\n",
    "\n",
    "Check if the car is affordable within a budget of $20000 using the isAffordable() method and print the result using if-else statement.\n",
    "\n",
    "Determine and print the car’s classification based on its price using if-else-if statement:\n",
    "\n",
    "If the price is greater than $50000, print “The car is a luxury car.”\n",
    "If the price is greater than $30000, print “The car is a mid-range car.”\n",
    "Otherwise, print “The car is an affordable car.”"
   ]
  },
  {
   "cell_type": "code",
   "execution_count": null,
   "metadata": {},
   "outputs": [],
   "source": [
    "public class Car {\n",
    "    private String make;\n",
    "    private String model;\n",
    "    private int year;\n",
    "    private double price;\n",
    "    \n",
    "    // Constructor\n",
    "    public Car(String make, String model, int year, double price) {\n",
    "        this.make = make;\n",
    "        this.model = model;\n",
    "        this.year = year;\n",
    "        this.price = price;\n",
    "    }\n",
    "    \n",
    "    // Getter methods\n",
    "    public String getMake() {\n",
    "        return make;\n",
    "    }\n",
    "    \n",
    "    public String getModel() {\n",
    "        return model;\n",
    "    }\n",
    "    \n",
    "    public int getYear() {\n",
    "        return year;\n",
    "    }\n",
    "    \n",
    "    public double getPrice() {\n",
    "        return price;\n",
    "    }\n",
    "    \n",
    "    // Method to determine if the car is affordable or not\n",
    "    public boolean isAffordable(double budget) {\n",
    "        if (price <= budget) {\n",
    "            return true;\n",
    "        } else {\n",
    "            return false;\n",
    "        }\n",
    "    }\n",
    "    \n",
    "    // Main method\n",
    "    public static void main(String[] args) {\n",
    "        // Create a new Car object\n",
    "\n",
    "        // Print the car details\n",
    "        \n",
    "        // Check if the car is affordable with a budget of $20000 using an if-else statement\n",
    "       \n",
    "        // Check if the car is a luxury car based on its price using if-else-if statement\n",
    "    \n",
    "    }\n",
    "}\n",
    "Car.main(null);"
   ]
  },
  {
   "attachments": {},
   "cell_type": "markdown",
   "metadata": {},
   "source": [
    "## Hack 4\n",
    "ou are tasked with creating a program that allows a user to enter the number of cars they own, and then input the make and model of each car. The program will then print out the list of cars.\n",
    "\n",
    "Here are the specific requirements:\n",
    "\n",
    "- Use a try-catch statement to catch any input/output exceptions that may occur.\n",
    "- Use a while loop to ensure that the user enters a positive integer for the number of cars they own.\n",
    "- Use a for loop to iterate over each car and prompt the user to enter the make and model of the car."
   ]
  },
  {
   "cell_type": "code",
   "execution_count": null,
   "metadata": {},
   "outputs": [],
   "source": []
  }
 ],
 "metadata": {
  "kernelspec": {
   "display_name": "Java",
   "language": "java",
   "name": "java"
  },
  "language_info": {
   "codemirror_mode": "java",
   "file_extension": ".jshell",
   "mimetype": "text/x-java-source",
   "name": "java",
   "pygments_lexer": "java",
   "version": "17.0.5+0"
  },
  "orig_nbformat": 4
 },
 "nbformat": 4,
 "nbformat_minor": 2
}
