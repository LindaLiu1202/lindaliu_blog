{
 "cells": [
  {
   "cell_type": "markdown",
   "metadata": {},
   "source": [
    "# FRQ 4 2D Array\n",
    "- toc: true \n",
    "- badges: true\n",
    "- comments: true\n",
    "- categories: [jupyter]"
   ]
  },
  {
   "cell_type": "markdown",
   "metadata": {},
   "source": [
    "The LightBoard class models a two-dimensional display of lights, where each light is either on or off, as represented by a Boolean value. You will implement a constructor to initialize the display and a method to evaluate a light. "
   ]
  },
  {
   "cell_type": "markdown",
   "metadata": {},
   "source": [
    "## Part a"
   ]
  },
  {
   "cell_type": "markdown",
   "metadata": {},
   "source": [
    "Write the constructor for the LightBoard class, which initializes lights so that each light is set to on with a 40% probability. The notation lights[r][c] represents the array element at row r and column c."
   ]
  },
  {
   "cell_type": "code",
   "execution_count": null,
   "metadata": {
    "vscode": {
     "languageId": "java"
    }
   },
   "outputs": [],
   "source": [
    "public LightBoard(int numRows, int numCols) {\n",
    "\n",
    "    lights = new boolean[numRows][numCols];\n",
    "    \n",
    "    for (int r = 0; r < lights.length; r++) {\n",
    "        for(int c = 0; c < lights.[r].length; c++){\n",
    "            if (Math.random() <= .4) {\n",
    "                lights[r][c] = true;\n",
    "            }\n",
    "        }\n",
    "    }\n",
    "}"
   ]
  },
  {
   "cell_type": "markdown",
   "metadata": {},
   "source": [
    "## Part b"
   ]
  },
  {
   "cell_type": "markdown",
   "metadata": {},
   "source": [
    "Write the method evaluateLight, which computes and returns the status of a light at a given row and column based on the following rules."
   ]
  },
  {
   "cell_type": "markdown",
   "metadata": {},
   "source": [
    "need a counter to keep track of on lights in a column"
   ]
  },
  {
   "cell_type": "code",
   "execution_count": null,
   "metadata": {
    "vscode": {
     "languageId": "java"
    }
   },
   "outputs": [],
   "source": [
    "public boolean evaluateLight(int row, int col) {\n",
    "int lightsOn = 0; \n",
    "    for(int r = 0; r < lights.length; r++) {\n",
    "        if (lights[r][col]){    // if this reveal to true - on; not need to do if (lights[r][c] = on)\n",
    "            lightsOn++;\n",
    "        }\n",
    "        if (light[row][col]) {\n",
    "            if (lightsOn % 2 ==0){ \n",
    "                return false;\n",
    "            }\n",
    "            if (lightsOn % 3 ==0) \n",
    "                return true;\n",
    "        }\n",
    "    }\n",
    "    return lights[row][col];\n",
    "}"
   ]
  }
 ],
 "metadata": {
  "kernelspec": {
   "display_name": "Java",
   "language": "java",
   "name": "java"
  },
  "language_info": {
   "codemirror_mode": "java",
   "file_extension": ".jshell",
   "mimetype": "text/x-java-source",
   "name": "Java",
   "pygments_lexer": "java",
   "version": "17.0.5+0"
  },
  "orig_nbformat": 4
 },
 "nbformat": 4,
 "nbformat_minor": 2
}
