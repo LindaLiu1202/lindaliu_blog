{
 "cells": [
  {
   "attachments": {},
   "cell_type": "markdown",
   "metadata": {},
   "source": [
    "# Key Technicals & Learning"
   ]
  },
  {
   "attachments": {},
   "cell_type": "markdown",
   "metadata": {},
   "source": [
    "## JWT authentication \n",
    "\n",
    "user authenticate with server using credentials\n",
    "\n",
    "server validates credentials and return user a JSON web token"
   ]
  },
  {
   "attachments": {},
   "cell_type": "markdown",
   "metadata": {},
   "source": [
    "<img width=\"1407\" alt=\"image\" src=\"https://user-images.githubusercontent.com/89223976/219744181-bd8e0b48-d010-4c73-b4d7-066410f76e7b.png\">\n",
    "<img width=\"1192\" alt=\"image\" src=\"https://user-images.githubusercontent.com/89223976/219449606-3ab3c0b4-ba89-437b-9a4b-b98b116c73ff.png\">"
   ]
  },
  {
   "attachments": {},
   "cell_type": "markdown",
   "metadata": {},
   "source": [
    "![image](https://user-images.githubusercontent.com/89223976/219449391-b7a4c3af-f2ad-4bda-918a-1440858ee94e.png)"
   ]
  },
  {
   "attachments": {},
   "cell_type": "markdown",
   "metadata": {},
   "source": [
    "postman\n",
    "<img width=\"834\" alt=\"image\" src=\"https://user-images.githubusercontent.com/89223976/219744977-4f0b8ee3-4b3d-4581-80cd-17fa551b1ce7.png\">\n",
    "<img width=\"804\" alt=\"image\" src=\"https://user-images.githubusercontent.com/89223976/219745333-22fd897e-418a-4593-839d-14bef220a1d3.png\">"
   ]
  }
 ],
 "metadata": {
  "kernelspec": {
   "display_name": "Java",
   "language": "java",
   "name": "java"
  },
  "language_info": {
   "name": "java"
  },
  "orig_nbformat": 4
 },
 "nbformat": 4,
 "nbformat_minor": 2
}
