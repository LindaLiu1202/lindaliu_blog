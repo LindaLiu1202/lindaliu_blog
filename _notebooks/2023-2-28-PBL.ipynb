{
 "cells": [
  {
   "attachments": {},
   "cell_type": "markdown",
   "metadata": {},
   "source": [
    "# Key Technicals & Learning"
   ]
  },
  {
   "attachments": {},
   "cell_type": "markdown",
   "metadata": {},
   "source": [
    "## JWT authentication \n",
    "\n",
    "user authenticate with server using credentials\n",
    "\n",
    "server validates credentials and return user a JSON web token"
   ]
  },
  {
   "attachments": {},
   "cell_type": "markdown",
   "metadata": {},
   "source": [
    "mindmap on jwt when learning from articles\n",
    "![jwt](../images/jwt.png)\n",
    "how jwt works\n",
    "![jwt2](../images/jwt2.png)\n",
    "jwt files\n",
    "![jwt3](../images/jwt3.png)"
   ]
  },
  {
   "attachments": {},
   "cell_type": "markdown",
   "metadata": {},
   "source": [
    "testing using postman\n",
    "\n",
    "receiving cookie from posting authenticate method for the person\n",
    "![jwt4](../images/jwt4.png)\n",
    "using cookie to access person data\n",
    "![jwt5](../images/jwt5.png)"
   ]
  },
  {
   "cell_type": "markdown",
   "metadata": {},
   "source": []
  }
 ],
 "metadata": {
  "kernelspec": {
   "display_name": "Java",
   "language": "java",
   "name": "java"
  },
  "language_info": {
   "name": "java"
  },
  "orig_nbformat": 4
 },
 "nbformat": 4,
 "nbformat_minor": 2
}
