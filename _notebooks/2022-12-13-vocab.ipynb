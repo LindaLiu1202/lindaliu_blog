{
 "cells": [
  {
   "cell_type": "markdown",
   "metadata": {},
   "source": [
    "# CB Key Learnings and Vocabs"
   ]
  },
  {
   "cell_type": "markdown",
   "metadata": {},
   "source": [
    "### Casting"
   ]
  },
  {
   "cell_type": "markdown",
   "metadata": {},
   "source": [
    "type casting - to convert variable values from one type to another\n",
    "\n",
    "Situation to use casting: If you have integers and you want a double result from some mathematical operation cast one of the integers to a double using (double)\n",
    "\n",
    "casting operators (int) and (double) - used right next to a number or variable to create a temporary value converted to a different data type"
   ]
  },
  {
   "cell_type": "code",
   "execution_count": 40,
   "metadata": {
    "vscode": {
     "languageId": "java"
    }
   },
   "outputs": [
    {
     "name": "stdout",
     "output_type": "stream",
     "text": [
      "0.3333333333333333\n"
     ]
    }
   ],
   "source": [
    "System.out.println((double) 1 / 3);"
   ]
  },
  {
   "cell_type": "markdown",
   "metadata": {},
   "source": [
    "Values of type double can be rounded to the nearest integer by adding or subtracting .5 and casting with (int) using formulas like the following."
   ]
  },
  {
   "cell_type": "markdown",
   "metadata": {},
   "source": [
    "int nearestInt = (int)(number + 0.5);\n",
    "int nearestNegInt = (int)(negNumber – 0.5);"
   ]
  },
  {
   "cell_type": "markdown",
   "metadata": {},
   "source": [
    "## Wrapper Classes"
   ]
  },
  {
   "cell_type": "markdown",
   "metadata": {},
   "source": [
    "Provide a way to use primitive data types (int, boolean, etc..) as objects.\n",
    "\n",
    "Must use wrapper classes when working with ArrayList (collection objects), where primitive types cannot be used (the list can only store objects)\n"
   ]
  },
  {
   "cell_type": "markdown",
   "metadata": {},
   "source": [
    "![wrapperClass](../images/wrapperClass.png)"
   ]
  },
  {
   "cell_type": "code",
   "execution_count": 41,
   "metadata": {
    "vscode": {
     "languageId": "java"
    }
   },
   "outputs": [],
   "source": [
    "ArrayList<String> names = new ArrayList<String>();"
   ]
  },
  {
   "cell_type": "markdown",
   "metadata": {},
   "source": [
    "### Concatenation"
   ]
  },
  {
   "cell_type": "markdown",
   "metadata": {},
   "source": [
    "Concatenation - the operation of joining two strings together.\n",
    "can join strings using either the addition (+) operator or the String’s concat() method"
   ]
  },
  {
   "cell_type": "code",
   "execution_count": 42,
   "metadata": {
    "vscode": {
     "languageId": "java"
    }
   },
   "outputs": [
    {
     "name": "stdout",
     "output_type": "stream",
     "text": [
      "panhandle\n"
     ]
    }
   ],
   "source": [
    "System.out.println(\"pan\" + \"handle\"); //addition operator\n"
   ]
  },
  {
   "cell_type": "markdown",
   "metadata": {},
   "source": [
    "```java\n",
    "public String concat(String s) //syntax for String's concat() method\n",
    "```"
   ]
  },
  {
   "cell_type": "code",
   "execution_count": 43,
   "metadata": {
    "vscode": {
     "languageId": "java"
    }
   },
   "outputs": [
    {
     "name": "stdout",
     "output_type": "stream",
     "text": [
      "Strings are immutable all the time\n"
     ]
    }
   ],
   "source": [
    "public class Test {\n",
    "\n",
    "    public static void main(String args[]) {\n",
    "       String s = \"Strings are immutable\";\n",
    "       s = s.concat(\" all the time\");\n",
    "       System.out.println(s);\n",
    "    }\n",
    " }\n",
    "\n",
    "Test.main(null);"
   ]
  },
  {
   "cell_type": "markdown",
   "metadata": {},
   "source": [
    "Mixed type Concatenation"
   ]
  },
  {
   "cell_type": "code",
   "execution_count": 44,
   "metadata": {
    "vscode": {
     "languageId": "java"
    }
   },
   "outputs": [
    {
     "name": "stdout",
     "output_type": "stream",
     "text": [
      "My age is 12\n"
     ]
    }
   ],
   "source": [
    "int age = 12;\n",
    "System.out.println(\"My age is \" + age);"
   ]
  },
  {
   "cell_type": "markdown",
   "metadata": {},
   "source": [
    "### Math class (Random usage)"
   ]
  },
  {
   "cell_type": "markdown",
   "metadata": {},
   "source": [
    "The java.lang.Math.random() method returns a pseudorandom double type number greater than or equal to 0.0 and less than 1.0."
   ]
  },
  {
   "cell_type": "code",
   "execution_count": 45,
   "metadata": {
    "vscode": {
     "languageId": "java"
    }
   },
   "outputs": [
    {
     "name": "stdout",
     "output_type": "stream",
     "text": [
      "0.3718845004114565\n"
     ]
    }
   ],
   "source": [
    "double rand = Math.random();\n",
    "System.out.println(rand); //output: 0.0~1.0"
   ]
  },
  {
   "cell_type": "markdown",
   "metadata": {},
   "source": [
    "### Compound Boolean Expression"
   ]
  },
  {
   "cell_type": "markdown",
   "metadata": {},
   "source": [
    "If two boolean values/expressions are combined with a logical and (&&) and the first expression is false, then the second expression won't be executed\n",
    "The logical AND (&&) (logical conjunction) operator for a set of boolean operands will be true if and only if all the operands are true. Otherwise it will be false."
   ]
  },
  {
   "cell_type": "code",
   "execution_count": 46,
   "metadata": {
    "vscode": {
     "languageId": "java"
    }
   },
   "outputs": [
    {
     "name": "stdout",
     "output_type": "stream",
     "text": [
      "false\n",
      "true\n"
     ]
    }
   ],
   "source": [
    "int a = 3;\n",
    "int b = -2;\n",
    "\n",
    "System.out.println(a > 0 && b > 0); //false because b is less than 0\n",
    "System.out.println(a > 0 || b > 0); //true because one expression evaluates to true"
   ]
  },
  {
   "cell_type": "markdown",
   "metadata": {},
   "source": [
    "### De Morgan's Law"
   ]
  },
  {
   "cell_type": "markdown",
   "metadata": {},
   "source": [
    "the complement of the union of two sets will be equal to the intersection of their individual complements\n",
    "\n",
    "show how to handle the negation of a complex conditional, which is a conditional statement with more than one condition joined by an and (&&) or or (||), such as (x < 3) && (y > 2)"
   ]
  },
  {
   "cell_type": "markdown",
   "metadata": {},
   "source": [
    "< becomes >=\n",
    "\n",
    "\"> becomes <=\"\n",
    "\n",
    "== becomes !=\n",
    "\n",
    "<= becomes >\n",
    "\n",
    "\">= becomes <\"\n",
    "\n",
    "!= becomes =="
   ]
  },
  {
   "cell_type": "markdown",
   "metadata": {},
   "source": [
    "![deMorgan's](../images/demorgan1.png)"
   ]
  },
  {
   "cell_type": "markdown",
   "metadata": {},
   "source": [
    "!(a || b) == !a && !b\n",
    "\n",
    "not (A or B) = not A and not B\n",
    "\n",
    "\"I don't like chocolate or vanilla\" = \"I do not like chocolate and I do not like vanilla\""
   ]
  },
  {
   "cell_type": "markdown",
   "metadata": {},
   "source": [
    "![deMorgan's](../images/demorgan2.png)"
   ]
  },
  {
   "cell_type": "code",
   "execution_count": 47,
   "metadata": {
    "vscode": {
     "languageId": "java"
    }
   },
   "outputs": [
    {
     "name": "stdout",
     "output_type": "stream",
     "text": [
      "true\n",
      "true\n"
     ]
    }
   ],
   "source": [
    "// using De Morgan's Law, outputs are the same\n",
    "int x = 2;\n",
    "int y = 2;\n",
    "     System.out.println(!(x < 3 && y > 2)); \n",
    "     System.out.println(x >= 3 || y <= 2); // < becomes >=; > becomes <=; and && becomes ||"
   ]
  },
  {
   "cell_type": "code",
   "execution_count": 48,
   "metadata": {
    "vscode": {
     "languageId": "java"
    }
   },
   "outputs": [
    {
     "name": "stdout",
     "output_type": "stream",
     "text": [
      "true\n",
      "false\n"
     ]
    }
   ],
   "source": [
    "// if not use De Morgan's Law correctly, you will get different outputs\n",
    "int x = 2;\n",
    "int y = 2;\n",
    "     System.out.println(!(x < 3 && y > 2)); \n",
    "     System.out.println(x >= 3 || y < 2);    // > should become <="
   ]
  },
  {
   "cell_type": "markdown",
   "metadata": {},
   "source": [
    "### .compareTo()"
   ]
  },
  {
   "cell_type": "markdown",
   "metadata": {},
   "source": [
    ".compareTo() compares two strings lexicographically returns 0 if the string is equal to the other string. A value less than 0 is returned if the string is less than the other string (less characters) and a value greater than 0 if the string is greater than the other string (more characters)"
   ]
  },
  {
   "cell_type": "code",
   "execution_count": 49,
   "metadata": {
    "vscode": {
     "languageId": "java"
    }
   },
   "outputs": [
    {
     "ename": "CompilationException",
     "evalue": "",
     "output_type": "error",
     "traceback": [
      "\u001b[1m\u001b[30m|   \u001b[1m\u001b[30mif(guess1.compareTo(\u001b[0m\u001b[1m\u001b[30m\u001b[41mguess2\u001b[0m\u001b[1m\u001b[30m) > 0) { \u001b[0m",
      "\u001b[1m\u001b[31mcannot find symbol\u001b[0m",
      "\u001b[1m\u001b[31m  symbol:   variable guess2\u001b[0m",
      "",
      "\u001b[1m\u001b[30m|   \u001b[1m\u001b[30mif(\u001b[0m\u001b[1m\u001b[30m\u001b[41mguess1\u001b[0m\u001b[1m\u001b[30m.compareTo(guess2) > 0) { \u001b[0m",
      "\u001b[1m\u001b[31mcannot find symbol\u001b[0m",
      "\u001b[1m\u001b[31m  symbol:   variable guess1\u001b[0m",
      "",
      "\u001b[1m\u001b[30m|   \u001b[1m\u001b[30m    return \u001b[0m\u001b[1m\u001b[30m\u001b[41mguess1\u001b[0m\u001b[1m\u001b[30m;\u001b[0m",
      "\u001b[1m\u001b[31mcannot find symbol\u001b[0m",
      "\u001b[1m\u001b[31m  symbol:   variable guess1\u001b[0m",
      "",
      "\u001b[1m\u001b[30m|   \u001b[1m\u001b[30m    return \u001b[0m\u001b[1m\u001b[30m\u001b[41mguess2\u001b[0m\u001b[1m\u001b[30m;\u001b[0m",
      "\u001b[1m\u001b[31mcannot find symbol\u001b[0m",
      "\u001b[1m\u001b[31m  symbol:   variable guess2\u001b[0m",
      ""
     ]
    }
   ],
   "source": [
    "if(guess1.compareTo(guess2) > 0) { \n",
    "    return guess1;\n",
    "}\n",
    "else\n",
    "    return guess2;"
   ]
  },
  {
   "cell_type": "markdown",
   "metadata": {},
   "source": [
    "### Comparing String vs Comparing Numbers"
   ]
  },
  {
   "cell_type": "markdown",
   "metadata": {},
   "source": [
    "comparing numbers - use == \n",
    "comparing strings - use .equal()"
   ]
  },
  {
   "cell_type": "code",
   "execution_count": null,
   "metadata": {
    "vscode": {
     "languageId": "java"
    }
   },
   "outputs": [],
   "source": [
    "if(secret.substring(i, i+guess.length()).equals(guess)) //in 2021 FRQ"
   ]
  },
  {
   "cell_type": "markdown",
   "metadata": {},
   "source": [
    "### Difference between Looping through Array, ArrayLists, String"
   ]
  },
  {
   "cell_type": "markdown",
   "metadata": {},
   "source": [
    "```java\n",
    "String    str\n",
    "for(int i=0; i<str.length(); i++)\n",
    "    str.substring(i,i+1)       // means get every character in String \n",
    " 01234\n",
    "\"Linda\".substring(0,1)      \"Linda\".substring(4)\n",
    ".substring(start , end)     [start, end)     from start to end-1          \n",
    "\n",
    "\n",
    "Array    arr\n",
    "for(int i=0; i<arr.length; i++)\n",
    "     arr[i]             //   means get every element in the arr\n",
    "\n",
    "\n",
    "ArrayList  list \n",
    "for(int i=0; i<list.size(); i++) \n",
    "     list.get(i)          //  means get every item in the ArrayList\n",
    "```"
   ]
  },
  {
   "cell_type": "markdown",
   "metadata": {},
   "source": [
    "### Show use case of access modifiers: Public, Private, Protected"
   ]
  },
  {
   "cell_type": "markdown",
   "metadata": {},
   "source": [
    "protected - attribute isn't affected by outside modifiers"
   ]
  },
  {
   "cell_type": "markdown",
   "metadata": {},
   "source": [
    "```java\n",
    "public class Car {\n",
    "    protected String brandName;\n",
    "    protected double range;\n",
    "    protected double doorNumber;\n",
    "    protected double maxSpeed;\n",
    "...\n",
    "}\n",
    "```"
   ]
  },
  {
   "cell_type": "markdown",
   "metadata": {},
   "source": [
    "### Inheritance, extends"
   ]
  },
  {
   "cell_type": "markdown",
   "metadata": {},
   "source": [
    "extends (inherit the attributes and methods of the base class) - avoid having lots of repeated code (no need to redefine the methods)"
   ]
  },
  {
   "cell_type": "code",
   "execution_count": null,
   "metadata": {
    "vscode": {
     "languageId": "java"
    }
   },
   "outputs": [],
   "source": [
    "```java\n",
    "public class CpopArtist extends Artist { //subclass CpopArtist inherits attributes and methods of superclass Artist\n",
    "...\n",
    "}\n",
    "```\n"
   ]
  },
  {
   "cell_type": "markdown",
   "metadata": {},
   "source": [
    "### Subclass constructor, super Keyword"
   ]
  },
  {
   "cell_type": "markdown",
   "metadata": {},
   "source": [
    "constructor for the subclass uses the superclass constructor with the super keyword\n",
    "\n",
    "super keyword - to use constructors and methods of superclass in a subclass\n",
    "\n",
    "super class - have the generic methods all subclasses would have"
   ]
  },
  {
   "cell_type": "code",
   "execution_count": null,
   "metadata": {
    "vscode": {
     "languageId": "java"
    }
   },
   "outputs": [],
   "source": [
    "public class KpopArtist extends Artist {\n",
    "    // Constructor for Subclass\n",
    "    public KpopArtist(String name, double age, String rapName) {\n",
    "        // use the Superclass constructor for the shared attributes through the keyword \"super\"\n",
    "        super(name, age);\n",
    "        //not in Superclass, add this separately in the constructor\n",
    "        this.rapName = rapName;\n",
    "    }\n",
    "    ...\n",
    "}"
   ]
  },
  {
   "cell_type": "markdown",
   "metadata": {},
   "source": [
    "### Overloading a method, same name different parameters"
   ]
  },
  {
   "cell_type": "markdown",
   "metadata": {},
   "source": []
  },
  {
   "cell_type": "markdown",
   "metadata": {},
   "source": [
    "### Overriding a method, same signature of a method"
   ]
  },
  {
   "cell_type": "markdown",
   "metadata": {},
   "source": [
    "### Late binding of object, referencing superclass object, ie Animal a = new Chicken(); Animal b = new Goat();"
   ]
  },
  {
   "cell_type": "markdown",
   "metadata": {},
   "source": [
    "### Polymorphism: any of overloading, overriding, late binding"
   ]
  },
  {
   "cell_type": "markdown",
   "metadata": {},
   "source": [
    "### Ternary Operator"
   ]
  },
  {
   "cell_type": "markdown",
   "metadata": {},
   "source": [
    "the only conditional operator that takes three operands (condition, expression1, expression2)\n",
    "\n",
    "can use the ternary operator in place of if-else conditions or even switch conditions using nested ternary operators\n",
    "\n",
    "takes less space and helps to write the if-else statements in the shortest way possible"
   ]
  },
  {
   "cell_type": "markdown",
   "metadata": {},
   "source": [
    "![ternaryOperator](../images/ternaryOperator.jpeg)"
   ]
  },
  {
   "cell_type": "code",
   "execution_count": null,
   "metadata": {
    "vscode": {
     "languageId": "java"
    }
   },
   "outputs": [],
   "source": [
    "//use if-else statements\n",
    "class Main {\n",
    "    public static void main(String[] args) {\n",
    "      \n",
    "      // create a variable \n",
    "      int number = 24;\n",
    "  \n",
    "      if(number > 0) {\n",
    "        System.out.println(\"Positive Number\");\n",
    "      }\n",
    "      else {\n",
    "        System.out.println(\"Negative Number\");\n",
    "      }\n",
    "    }\n",
    "  }\n",
    "\n",
    "  Main.main(null);"
   ]
  },
  {
   "cell_type": "code",
   "execution_count": null,
   "metadata": {
    "vscode": {
     "languageId": "java"
    }
   },
   "outputs": [],
   "source": [
    "//use ternary operator (shorten to one line of code)\n",
    "class Main {\n",
    "    public static void main(String[] args) {\n",
    "      \n",
    "      // create a variable \n",
    "      int number = 24;\n",
    "  \n",
    "      String result = (number > 0) ? \"Positive Number\" : \"Negative Number\"; //shorter\n",
    "      System.out.println(result);\n",
    "    }\n",
    "  }\n",
    "  \n",
    "  Main.main(null);"
   ]
  },
  {
   "cell_type": "code",
   "execution_count": null,
   "metadata": {
    "vscode": {
     "languageId": "java"
    }
   },
   "outputs": [],
   "source": [
    "//nested ternary operator\n",
    "class Main {\n",
    "    public static void main(String[] args) {\n",
    "      \n",
    "      // create a variable\n",
    "      int n1 = 2, n2 = 9, n3 = -11;\n",
    "  \n",
    "      // nested ternary operator\n",
    "      // to find the largest number\n",
    "      int largest = (n1 >= n2) ? ((n1 >= n3) ? n1 : n3) : ((n2 >= n3) ? n2 : n3);\n",
    "      System.out.println(\"Largest Number: \" + largest);\n",
    "    }\n",
    "  }\n",
    "\n",
    "Main.main(null);\n",
    "\n",
    "//(n1 >= n2) - first test condition that checks if n1 is greater than n2\n",
    "//(n1 >= n3) - second test condition that is executed if the first condition is true\n",
    "//(n2 >= n3) - third test condition that is executed if the first condition is false\n",
    "//However, it is not recommended to use nested ternary operators. This is because it makes our code more complex."
   ]
  },
  {
   "cell_type": "markdown",
   "metadata": {},
   "source": [
    "In FRQ 4 (nested for loops) for print print single character, except at midpoint print color code"
   ]
  },
  {
   "cell_type": "code",
   "execution_count": null,
   "metadata": {
    "vscode": {
     "languageId": "java"
    }
   },
   "outputs": [],
   "source": [
    "String c = (i == (int) (ROWS / 2) && j == (int) (COLS / 2) ) \n",
    "? lights[row][col].getRGB()\n",
    ": (j == (int) (COLS / 2))  // nested ternary\n",
    "? \" \".repeat(lights[row][col].getRGB().length())\n",
    ": \" \";"
   ]
  }
 ],
 "metadata": {
  "kernelspec": {
   "display_name": "Java",
   "language": "java",
   "name": "java"
  },
  "language_info": {
   "codemirror_mode": "java",
   "file_extension": ".jshell",
   "mimetype": "text/x-java-source",
   "name": "Java",
   "pygments_lexer": "java",
   "version": "17.0.5+0"
  },
  "orig_nbformat": 4,
  "vscode": {
   "interpreter": {
    "hash": "b0fa6594d8f4cbf19f97940f81e996739fb7646882a419484c72d19e05852a7e"
   }
  }
 },
 "nbformat": 4,
 "nbformat_minor": 2
}
