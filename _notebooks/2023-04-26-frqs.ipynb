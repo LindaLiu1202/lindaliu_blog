{
 "cells": [
  {
   "attachments": {},
   "cell_type": "markdown",
   "metadata": {},
   "source": [
    "## 2D Array #1\n",
    "\n",
    "(a) Write the method isNonZeroRow, which returns true if and only if all elements in row r of a two-dimensional array array2D are not equal to zero."
   ]
  },
  {
   "cell_type": "code",
   "execution_count": null,
   "metadata": {},
   "outputs": [],
   "source": [
    "int[][] array2D = {{2, 1, 0},\n",
    "\n",
    "{1, 3, 2},\n",
    "\n",
    "{0, 0, 0},\n",
    "\n",
    "{4, 5, 6}};\n",
    "\n",
    "//specifically check row r\n",
    "//return true if row r does not contain 0\n",
    "public static boolean isNonZeroRow(int[][] array2D, int r){\n",
    "//loop through row r\n",
    "    for (int i=0; i<array2D[r].length; i++){\n",
    "        //check element in row r equal to 0 or not\n",
    "        if(array2D[r][i] == 0){\n",
    "            return false;\n",
    "        }\n",
    "    }\n",
    "    return true;\n",
    "}\n",
    "\n",
    "\n"
   ]
  },
  {
   "attachments": {},
   "cell_type": "markdown",
   "metadata": {},
   "source": [
    "(b) Write the method resize, which returns a new two-dimensional array containing only rows from array2D with all non-zero values. The elements in the new array should appear in the same order as the order in which they appeared in the original array."
   ]
  },
  {
   "cell_type": "code",
   "execution_count": null,
   "metadata": {},
   "outputs": [],
   "source": [
    "/** Returns a new, possibly smaller, two-dimensional array that\n",
    "\n",
    "* contains only rows from array2D with no zeros, as described\n",
    "\n",
    "* in part (b).\n",
    "\n",
    "* Precondition: array2D contains at least one column\n",
    "\n",
    "* and at least one row with no zeros.\n",
    "\n",
    "* Postcondition: array2D is unchanged.\n",
    "\n",
    "*/\n",
    "\n",
    "public static int[][] resize(int[][] array2D){ //return type is 2d array\n",
    "//new 2d array storing only non zero rows\n",
    "//numNonZeroRows - return # of non zero rows\n",
    "//create new 2d array with length of non zero rows, loop through 2d array and check for non zero rows, add those rows to new 2d array\n",
    "\n",
    "int[][] nonZero2dArray = new int[numNonZeroRows(array2D)][array2D[0].length]; //numNonZeroRows needs to input an 2d array and it returns an integer\n",
    "int counter = 0;  //counter is for iterating through the row index in nonZero2dArray\n",
    "    for(int i=0; i<array2D.length; i++) { \n",
    "        if(isNonZeroRow(array2D, i)){ //check if row i in 2dArray is non zero\n",
    "            for(int c = 0, c < array2D[i].length; c++){ //we need this forloop to find the specific colume index - we can put the whole row in, we need to find the row and column index and put each element into the new 2dArray\n",
    "                int column = array2D[i][c]; //create int column (primitive) because 2dArray is reference type (address) so change 2dArray won't affect new 2d array\n",
    "                nonZero2dArray[counter][c] = column; \n",
    "            }\n",
    "            counter++; //if isNonZeroRow returns true and we put the elements of that non zero row into the new 2d array, counter ++ -> move to the next row of new 2d array\n",
    "        }\n",
    "\n",
    "    }\n",
    "    return nonZero2dArray; //return a 2d array\n",
    "\n",
    "}\n",
    "\n",
    "//when using method, beaware of the input parameter\n",
    "//is the method static or not (are we suppose to use classObject.method())\n"
   ]
  },
  {
   "attachments": {},
   "cell_type": "markdown",
   "metadata": {},
   "source": [
    "## Array & Arraylist #1\n",
    "\n",
    "(a) Write the ClubMembers method addMembers, which takes two parameters. The first parameter is a String array containing the names of new club members to be added. The second parameter is the graduation year of all the new club members. The method adds the new members to the memberList instance variable. The names can be added in any order. All members added are initially in good standing and share the same graduation year, gradYear.\n"
   ]
  },
  {
   "cell_type": "code",
   "execution_count": null,
   "metadata": {},
   "outputs": [],
   "source": [
    "/** Constructs a MemberInfo object for the club member with name\n",
    "\n",
    "* name, graduation year gradYear, and standing hasGoodStanding.\n",
    "\n",
    "*/\n",
    "\n",
    "public void addMembers(String[] names, int gradYear){\n",
    "//2 parameters: string array and int gradyear\n",
    "//add new memebers to memeberList -> new memeber to would be new objects adding to the list\n",
    "\n",
    "//need to create new member object and use .add() to add them to memeberlist \n",
    "\n",
    "for (int i=0; i<names.length; i++) {\n",
    "    MemberInfo newMember = new MemberInfo(names[i], gradYear, true);\n",
    "    memberList.add(newMember);\n",
    "}\n",
    "\n",
    "}\n"
   ]
  },
  {
   "attachments": {},
   "cell_type": "markdown",
   "metadata": {},
   "source": [
    "(b) Write the ClubMembers method removeMembers, which takes the following actions.\n",
    "\n",
    "Returns a list of all students who have graduated and are in good standing. A member has graduated if the member’s graduation year is less than or equal to the method’s year parameter. If no members meet these criteria, an empty list is returned.\n",
    "\n",
    "Removes from memberList all members who have graduated, regardless of whether or not they are in good standing."
   ]
  },
  {
   "cell_type": "code",
   "execution_count": null,
   "metadata": {},
   "outputs": [],
   "source": [
    "//return a list of good standing graduates \n",
    "//check if graduated using gradyear\n",
    "//check if in goodstanding - then add to new list\n",
    "//remove graduates from memberList regardless of good standing\n",
    "\n",
    "/** Removes members who have graduated and returns a list of\n",
    "\n",
    "* members who have graduated and are in good standing,\n",
    "\n",
    "* as described in part (b).\n",
    "\n",
    "*/\n",
    "\n",
    "public ArrayList<MemberInfo> removeMembers(int year){\n",
    "    //create an arraylist\n",
    "    Arraylist<MemberInfo> graduatesList= new Arraylist<MemberInfo>();\n",
    "\n",
    "    //check if graduated using gradyear\n",
    "    for(int i=memberlist.size(); i >0; i--){\n",
    "        if(memberList.get(i).getGradYear() <= year){\n",
    "            //check if good standing\n",
    "            if (memberList.get(i).inGoodStanding())\n",
    "            graduatesList.add(memberList.get(i));\n",
    "        }\n",
    "        //remove regardless of in good standing or not\n",
    "        memberList.remove(i); \n",
    "    }\n",
    " \n",
    "    return graduatesList;\n",
    "}\n",
    "\n",
    "\n",
    "\n",
    "\n"
   ]
  },
  {
   "attachments": {},
   "cell_type": "markdown",
   "metadata": {},
   "source": [
    "write down all instances, methods(parameter), and getters/setters given\n",
    "  - will be using them in writing code\n",
    "\n",
    "if private instances were to be used in another class, need to use getter\n",
    "\n",
    "can use the java quick reference sheet\n",
    "\n",
    "\n",
    "(arraylist) \n",
    "\n",
    "arraylist.size()-1 (not.length)\n",
    "has to loop backwards of the arraylist(dynamic) because if remove elements from arraylist index number would change so you would skip some elements\n",
    "\n",
    "\n",
    "arraylist.get()\n",
    "array[i]\n",
    "\n",
    "remove(i)\n",
    "\n",
    "Arraylist<MemberInfo> graduatesList= new Arraylist<MemberInfo>();\n",
    "\n"
   ]
  },
  {
   "attachments": {},
   "cell_type": "markdown",
   "metadata": {},
   "source": [
    "## Class #1\n",
    "\n",
    "Methods:\n",
    "currentNumber - returns the current number in the pattern\n",
    "next - moves to the next number in the pattern\n",
    "prev - moves to the previous number in the pattern or takes no action if there is no previous number\n",
    "\n",
    "Write the complete AdditonPattern class. Your implementation must meet all specifications and conform to all examples."
   ]
  },
  {
   "cell_type": "code",
   "execution_count": null,
   "metadata": {},
   "outputs": [],
   "source": [
    "public class AdditionPattern{\n",
    "private int start;\n",
    "private int addingNum;\n",
    "private int current;\n",
    "\n",
    "//first positive integer parameter - starting number\n",
    "//second positive integer parameter - value that is to be added\n",
    "public AdditionPattern(int start, int addingNum){\n",
    "    this.start = start;\n",
    "    this.addingNum = addingNum;\n",
    "    current = start;\n",
    "}\n",
    "\n",
    "public int currentNumber(){\n",
    "    return current;\n",
    "}\n",
    "\n",
    "public void next(){\n",
    "    current+=addingNum;\n",
    "}\n",
    "\n",
    "public void prev(){\n",
    "    if(current>start){\n",
    "        current-=addingNum;\n",
    "    }\n",
    "}\n",
    "}\n",
    "\n"
   ]
  },
  {
   "attachments": {},
   "cell_type": "markdown",
   "metadata": {},
   "source": [
    "writing class\n",
    " we need \n",
    "    - private instances\n",
    "    - constructer\n",
    "    - methods"
   ]
  },
  {
   "attachments": {},
   "cell_type": "markdown",
   "metadata": {},
   "source": [
    "## Methods and Control Structures #1\n",
    "(a) Write the getCheck method, which computes the check digit for a number according to the following rules.\n",
    "\n",
    "Multiply the first digit by 7, the second digit (if one exists) by 6, the third digit (if one exists) by 5, and so on. The length of the method's int parameter is at most six; therefore, the last digit of a six-digit number will be multiplied by 2.\n",
    "Add the products calculated in the previous step.\n",
    "Extract the check digit, which is the rightmost digit of the sum calculated in the previous step.\n",
    "\n",
    "helper methods: \n",
    "getNumberOfDigits returns the number of digits in its int parameter.\n",
    "getDigit returns the nth digit of its int parameter."
   ]
  },
  {
   "cell_type": "code",
   "execution_count": null,
   "metadata": {},
   "outputs": [],
   "source": [
    "/** Returns the check digit for num, as described in part (a).\n",
    "\n",
    " * Precondition: The number of digits in num is between one and six, inclusive.\n",
    "\n",
    "* num >= 0\n",
    "\n",
    " */\n",
    "\n",
    " public static int getCheck(int num){\n",
    "    int total = 0;\n",
    "\n",
    "    for(int i = 1; i<=getNumberOfDigits(num); i++){\n",
    "        total += getDigit(num, i) * (8 - i);\n",
    "    }\n",
    "    return getDigit(total, getNumberofDigit(total));\n",
    "\n",
    " }\n"
   ]
  },
  {
   "attachments": {},
   "cell_type": "markdown",
   "metadata": {},
   "source": [
    "(b) Write the isValid method. The method returns true if its parameter numWithCheckDigit, which represents a number containing a check digit, is valid, and false otherwise. The check digit is always the rightmost digit of numWithCheckDigit."
   ]
  },
  {
   "cell_type": "code",
   "execution_count": null,
   "metadata": {},
   "outputs": [],
   "source": [
    "//return boolean, parameter - numWithCheckDigit"
   ]
  },
  {
   "cell_type": "code",
   "execution_count": null,
   "metadata": {},
   "outputs": [],
   "source": [
    "/** Returns true if numWithCheckDigit is valid, or false otherwise, as described in part (b).\n",
    "\n",
    "* Precondition: The number of digits in numWithCheckDigit is between two and seven, inclusive.\n",
    "\n",
    "* numWithCheckDigit >= 0\n",
    "\n",
    " */\n",
    "\n",
    " public static boolean isValid(int numWithCheckDigit){\n",
    "    int numWithoutCheckDigit = numWithCheckDigit/10;\n",
    "    int checkDigit = getCheck(numWithoutCheckDigit);\n",
    "\n",
    "    if (getDigit(numWithCheckDigit, numWithCheckDigit(total)) == checkDigit){\n",
    "      return true;\n",
    "    }\n",
    "      return false;\n",
    " }"
   ]
  },
  {
   "attachments": {},
   "cell_type": "markdown",
   "metadata": {},
   "source": [
    "can initialize some values (outside/inside loop)\n",
    "    - int multiplier\n",
    "    - int total/sum"
   ]
  },
  {
   "attachments": {},
   "cell_type": "markdown",
   "metadata": {},
   "source": [
    "---"
   ]
  },
  {
   "attachments": {},
   "cell_type": "markdown",
   "metadata": {},
   "source": [
    "## 2dArray #2\n",
    "\n",
    "getName\n",
    "getValue\n",
    "\n",
    "(a)   Write the mostValuableNeighbor method, which compares the item in row r and column c to the items to its left and to its right. The method determines which of the three items has the greatest value and returns its name. If more than one of the values have a value that is greatest, then any of their names can be returned. If the item has no item to its left, it is compared only to the item to its right. If the item has no item to its right, it is compared only to the item to its left.\n",
    "\n",
    "The helper method isValid has been provided. The isValid method returns true if xPos is a valid row index and yPos is a valid column index in the two-dimensional array grid, and returns false otherwise.\n",
    "\n",
    "Assume that the ItemGrid object ig has been created such that the two-dimensional array grid contains the following item objects.\n",
    "\n"
   ]
  },
  {
   "cell_type": "code",
   "execution_count": null,
   "metadata": {},
   "outputs": [],
   "source": [
    "/** Compares the item in row r and column c to the items to its\n",
    "\n",
    "* left and to its right. Returns the name of the item with\n",
    "\n",
    "* the greatest value, as described in part (a).\n",
    "\n",
    "* Precondition: r and c are valid indices\n",
    "\n",
    "*/\n",
    "\n",
    "//getName & getValue\n",
    "\n",
    "public String mostValuableNeighbor(int r, int c){\n",
    "int maxVal = ig[r][c].getValue();\n",
    "int leftVal = ig[r][c-1].getValue();\n",
    "int rightVal = ig[r][c+1].getValue();\n",
    "\n",
    "if(isValid(ig[r][c-1])){\n",
    "    //if left is valid\n",
    "    if(leftVal >= maxVal){\n",
    "        //if greater than max\n",
    "        //check if right is valid\n",
    "        if (isValid(ig[r][c+1])){\n",
    "            //if right is valid\n",
    "            //left is greater than right\n",
    "            if (leftVal >= rightVal){\n",
    "                return ig[r][c-1].getName(); //return left\n",
    "            }\n",
    "            //if left is less then right with left greater than max\n",
    "            return ig[r][c+1].getName(); //return right\n",
    "        }\n",
    "         //if right is not valid & left is greater than max\n",
    "         return ig[r][c-1].getName();\n",
    "    }\n",
    "    //if left is less than max\n",
    "    //check if right is valid\n",
    "    if (isValid(ig[r][c+1])){\n",
    "        //if right is valid\n",
    "        if (rightVal >= maxVal){\n",
    "            return ig[r][c+1].getName();\n",
    "        }\n",
    "        return ig[r][c].getName();\n",
    "    }\n",
    "    return ig[r][c].getName();\n",
    "}\n",
    "....\n",
    "???????????????????!!!!!!!!!!!!!!!!!!!!!!\n",
    "\n",
    "\n",
    "    "
   ]
  },
  {
   "attachments": {},
   "cell_type": "markdown",
   "metadata": {},
   "source": [
    "(b)   Write the findAverage method, which returns the average value of all items in grid. For example, for the ItemGrid object ig shown in part (a), the findAverage method should return 9.5, which is the average value of the twelve items in the 2D array."
   ]
  },
  {
   "cell_type": "code",
   "execution_count": null,
   "metadata": {},
   "outputs": [],
   "source": [
    "public double findAverage(){\n",
    "double counter = 0;\n",
    "double sum = 0;\n",
    "    for(int r=0; r<ig.length; r++){\n",
    "        for (int c=0; c<ig[0].length; c++) {\n",
    "            sum += ig[r][c].getValue();\n",
    "            counter++;\n",
    "        }\n",
    "    }\n",
    "    return double average = sum/counter;\n",
    "}\n"
   ]
  },
  {
   "attachments": {},
   "cell_type": "markdown",
   "metadata": {},
   "source": [
    "can initialize values - give it a name - easier to use"
   ]
  },
  {
   "attachments": {},
   "cell_type": "markdown",
   "metadata": {},
   "source": [
    "## 2d Array #3\n",
    "\n",
    "(a) Write the method diagonalOp, which returns the sum of the products of the corresponding entries on the main diagonals of two given square 2D arrays that have the same dimensions. The main diagonal goes from the top-left corner to the bottom-right corner in a square 2D array."
   ]
  },
  {
   "cell_type": "code",
   "execution_count": null,
   "metadata": {},
   "outputs": [],
   "source": [
    "/** Returns an integer, as described in part (a).\n",
    "\n",
    "* Precondition: matA and matB are 2D arrays that are both square,\n",
    "\n",
    "* have at least one row, and have the same dimensions.\n",
    "\n",
    "*/\n",
    "\n",
    "//return int sum of products of the diagonals of the two 2d array\n",
    "public static int diagonalOp(int[][] matA, int[][] matB){\n",
    "int sum = 0;\n",
    "    for(int r=0; r<mat1.length; r++){\n",
    "        for (int c=0; c<mat[0].length; c++){\n",
    "            if (r = c){ //diagonal -> r = c\n",
    "                sum += mat1[r][c] + mat2[r][c];\n",
    "            }\n",
    "        }\n",
    "    }\n",
    "    return sum;\n",
    "}"
   ]
  },
  {
   "attachments": {},
   "cell_type": "markdown",
   "metadata": {},
   "source": [
    "(b) Write the method expandMatrix, which returns an expanded version of a given 2D array. To expand a 2D array, a new 2D array must be created and filled with values such that each element of the original 2D array occurs a total of four times in the new 2D array, arranged as shown in the example below.\n",
    "\n",
    "\n",
    "returns an expanded version of a given 2D array\n",
    "element of the original 2D array occurs a total of four times in the new 2D array"
   ]
  },
  {
   "cell_type": "code",
   "execution_count": null,
   "metadata": {},
   "outputs": [],
   "source": [
    "/** Returns a 2D array, as described in part (b).\n",
    "\n",
    "* Precondition: matA is a 2D array with at least one row and\n",
    "\n",
    "* at least one column.\n",
    "\n",
    "*/\n",
    "\n",
    "//row length * 2 & column length *2\n",
    "public static int[][] expandMatrix(int[][] matA){\n",
    "    \n",
    "}"
   ]
  },
  {
   "attachments": {},
   "cell_type": "markdown",
   "metadata": {},
   "source": [
    "--- "
   ]
  },
  {
   "cell_type": "markdown",
   "metadata": {},
   "source": []
  }
 ],
 "metadata": {
  "kernelspec": {
   "display_name": "Java",
   "language": "java",
   "name": "java"
  },
  "language_info": {
   "codemirror_mode": "java",
   "file_extension": ".jshell",
   "mimetype": "text/x-java-source",
   "name": "java",
   "pygments_lexer": "java",
   "version": "17.0.5+0"
  },
  "orig_nbformat": 4
 },
 "nbformat": 4,
 "nbformat_minor": 2
}
