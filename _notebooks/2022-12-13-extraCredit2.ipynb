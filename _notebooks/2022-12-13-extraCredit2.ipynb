{
 "cells": [
  {
   "cell_type": "markdown",
   "metadata": {},
   "source": [
    "# Extra Credit Speaker Event\n",
    "- toc: true \n",
    "- badges: true\n",
    "- comments: true\n",
    "- categories: [jupyter]"
   ]
  },
  {
   "cell_type": "markdown",
   "metadata": {},
   "source": [
    "## Kathyleen Beveridge (project management)"
   ]
  },
  {
   "cell_type": "markdown",
   "metadata": {},
   "source": [
    "### Journey into high tech and how it has influence her life\n",
    "\n",
    "undergrades, study aboard in Spain, move to San Diego in 2004\n",
    "\n",
    "finance degree, MBA at USC 5 years ago (waited)\n",
    "\n",
    "favorite line - \"my mission in life ins not merely to survive, but to thrive; and to do so with some passion, some compassion, some humour and some style\"\n",
    "\n",
    "\n",
    "### Worked in 3 high tech companies\n",
    "\n",
    "their mission statements:\n",
    "\n",
    "HP Inc -  create technology that makes life better for everyone, everywhere\n",
    "\n",
    "Qualcomm - inventing the tech the world love\n",
    "\n",
    "Thermo Fisher Scientific - enable our customers to make the world healthier, cleaner and safer\n",
    "\n",
    "\n",
    "\n",
    "What are in common?\n",
    "\n",
    "using tech to benefit the people and inprove people's qualities of lives\n",
    "\n",
    "every company make a product/service - aim to satisfied what the people/society want or need\n",
    "\n",
    "\n",
    "\n",
    "How high technology impacts lives - global impact on people/the world through products/services\n",
    "\n",
    "\n",
    "Stage thresholds for developing products\n",
    "\n",
    "Asking people (voice of sales/customers) if the product makes sense for the customer/market\n",
    "\n",
    "Commercialize the product - Work closely with the scrum master - bring the product to the world\n"
   ]
  },
  {
   "cell_type": "markdown",
   "metadata": {},
   "source": [
    "## Kris Porter (developer operation)"
   ]
  },
  {
   "cell_type": "markdown",
   "metadata": {},
   "source": [
    "### How it started...\n",
    "taking bunch of math, physcis classes in high school\n",
    "\n",
    "USLA electrical engineering\n",
    "\n",
    "first computer science class - second quarter in USLA - failed (something that you failed in school might still be your career in the future)\n",
    "\n",
    "stop programming for 8 years - still have a career relating to cs\n",
    "\n",
    "\n",
    "### Research\n",
    "skills when stock market crashed \n",
    "\n",
    "network info cheminal system - learn linux operating system\n",
    "\n",
    "(no company is hiring when stock market crash)\n",
    "\n",
    "\n",
    "### Jobs and Experiences (projects)\n",
    "\n",
    "not in the tech space at first\n",
    "\n",
    "job at a startup - email marketing automation\n",
    "\n",
    "(his job) devops - deploy software - ensure security - set up control to secure sites\n",
    "\n",
    "streaming media infrastructure for olympic game\n",
    "\n",
    "start up at carlsbed - first real devops job \n",
    "\n",
    "\n",
    "Qualcomm\n",
    "\n",
    "work for 6 years, devops, automation, monitoring\n",
    "\n",
    "\n",
    "Twitter\n",
    "\n",
    "project - twitter app scroll and see your own timeline\n",
    "\n",
    "3 weeks of learning how to work at twitter\n",
    "\n",
    "everything in twitter use restapi, then slowly moving to recqUL\n",
    "\n",
    "\n",
    "Continous learning\n",
    "\n",
    "learn program languages continuously (self taught python)\n",
    "\n",
    "\n",
    "\n",
    "\n"
   ]
  },
  {
   "cell_type": "markdown",
   "metadata": {},
   "source": [
    "## Q&A"
   ]
  },
  {
   "cell_type": "markdown",
   "metadata": {},
   "source": [
    "### Experience with agile methodology \n",
    "\n",
    "different company has different version\n",
    "\n",
    "depending on what they need\n",
    "\n",
    "qualcomm - big meetings in 2 or 3 days\n",
    "\n",
    "projects that takes longer - do short sprints\n"
   ]
  },
  {
   "cell_type": "markdown",
   "metadata": {},
   "source": [
    "### Twitter\n",
    "\n",
    "anyone working remotely got fired\n",
    "\n",
    "see company shaffle - start looking for new jobs - don't wait for it to happen"
   ]
  },
  {
   "cell_type": "markdown",
   "metadata": {},
   "source": [
    "### Machine learning in qualcomm\n",
    "\n",
    "learn how to use python libraries and other machine laaring framework and to simulate\n",
    "\n",
    "analytic infrastruture - what user are downaoing - use info to predict of when to delete or archive repository - cost money\n",
    "\n",
    "data scientist - ultralaod freezer - access to maasive data based to predict costumer demand, use databases to predict when it's harvast season what the weather may llok like/good or bad harvest - buying what product to use..\n",
    "\n",
    "use in a non technical world, how to apply it"
   ]
  },
  {
   "cell_type": "markdown",
   "metadata": {},
   "source": [
    "### Most important skill to have to work in the tech industry\n",
    "\n",
    "continuous learning - learning how to learn - always learning new stuff/everyone always has different way of doing \n",
    "\n",
    "don't be concern about the thing that you read on the news\n",
    "\n",
    "go to startup - risk? - biggest risk is stop learning \n",
    "\n",
    "be adaptive - people who work closely with tech people - listen to requirements & translate it into how technology can solve the requirement & able to explain to non tech people with clear and understandable term"
   ]
  },
  {
   "cell_type": "markdown",
   "metadata": {},
   "source": [
    "### Biggest challenge in the tech industry and how did overcome\n",
    "\n",
    "qualcomm - semi conductor industry - going through acquisition \n",
    "\n",
    "be adaptive and always continuous learning\n",
    "\n",
    "interviews - a series of time random test - problem to solve in a time limit - code has to complie and work with no errors"
   ]
  },
  {
   "cell_type": "markdown",
   "metadata": {},
   "source": [
    "### Work-life balance working in tech industry \n",
    "\n",
    "depends on companies and the individuals - a question you wanna ask yourself\n",
    "\n",
    "have other hobbies - negotiate with company\n",
    "\n",
    "twitter \"university\" - fromer training of their system/built tool - not working with things out in public - engineers built everything in company - need to be effective in job - so they teach \n",
    "be able to navigate through thousand of code and being effective\n"
   ]
  },
  {
   "cell_type": "markdown",
   "metadata": {},
   "source": [
    "### How learning to code/coding skills help in business industry\n",
    "\n",
    "learn how to code - learn a way of thinking - critical, problem solving thinking\n",
    "\n",
    "interview - able to be a critical thinker and problem solver and being able to walk other people through how they solve the question\n",
    "\n",
    "interview question - in room with only whiteboard - how many card where sold in the us last year - not caring about the number, but the process of your thinking and trying to figure out "
   ]
  },
  {
   "cell_type": "markdown",
   "metadata": {},
   "source": [
    "### How coding help with investment and finance\n",
    "\n",
    "trade in stocks (make money) - understanding algorithm and patetrn - predictive analytics"
   ]
  },
  {
   "cell_type": "markdown",
   "metadata": {},
   "source": [
    "## Some of my Thoughts\n",
    "\n",
    "I really agree with the idea that learning how to code is learning a way of thinking,a critical, problem solving thinking, also with the idea of learning how to learn.\n",
    "When we encounter things that we don't know in coding, we would search it up and try to figure it out ourselves, then ask for help, this is the process of learning how to learn. Only information taught in class is not enough, and especially there are so many resources online, we are learning how to take use of those resources and exercising our ability to solve problem on our own, which I think is a really impactful and beneficial mindset even for the future career or life. This is a good mindset (critical thinking, problem solving mindset) to have even in other fields, not just computer science. I also really agree that the most useful skill to have is continuous learning and also be adaptive. We all would still be learning in the future outside of school, but more of learning on our own which is driven by motivation within ourselves. I think that the earlier we adapt to these mindset and get use to learning continuous, it would be really helpful and beneficial for any job in the future."
   ]
  }
 ],
 "metadata": {
  "kernelspec": {
   "display_name": "Java",
   "language": "java",
   "name": "java"
  },
  "language_info": {
   "name": "java"
  },
  "orig_nbformat": 4
 },
 "nbformat": 4,
 "nbformat_minor": 2
}
