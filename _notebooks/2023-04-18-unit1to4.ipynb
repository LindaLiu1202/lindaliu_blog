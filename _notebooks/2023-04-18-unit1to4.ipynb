{
 "cells": [
  {
   "attachments": {},
   "cell_type": "markdown",
   "metadata": {},
   "source": [
    "# Unit 1 to 4"
   ]
  },
  {
   "attachments": {},
   "cell_type": "markdown",
   "metadata": {},
   "source": [
    "## Hack 1"
   ]
  },
  {
   "cell_type": "code",
   "execution_count": 2,
   "metadata": {
    "vscode": {
     "languageId": "java"
    }
   },
   "outputs": [
    {
     "name": "stdout",
     "output_type": "stream",
     "text": [
      "Enter the number of cars: \n"
     ]
    },
    {
     "ename": "EvalException",
     "evalue": "null",
     "output_type": "error",
     "traceback": [
      "\u001b[1m\u001b[31m---------------------------------------------------------------------------\u001b[0m",
      "\u001b[1m\u001b[31mjava.util.InputMismatchException: null\u001b[0m",
      "\u001b[1m\u001b[31m\tat java.base/java.util.Scanner.throwFor(Scanner.java:939)\u001b[0m",
      "\u001b[1m\u001b[31m\tat java.base/java.util.Scanner.next(Scanner.java:1594)\u001b[0m",
      "\u001b[1m\u001b[31m\tat java.base/java.util.Scanner.nextDouble(Scanner.java:2564)\u001b[0m",
      "\u001b[1m\u001b[31m\tat Hack1.main(#13:1)\u001b[0m",
      "\u001b[1m\u001b[31m\tat .(#15:1)\u001b[0m"
     ]
    }
   ],
   "source": [
    "import java.util.Scanner;\n",
    "\n",
    "public class Hack1 {\n",
    "    public static void main(String[] args) {\n",
    "        Scanner scanner = new Scanner(System.in);\n",
    "\n",
    "        System.out.println(\"Enter the number of cars: \");\n",
    "        double car = scanner.nextDouble();\n",
    "        int wheel = (int)(car * 4);\n",
    "\n",
    "        System.out.println(\"The number of wheels of the cars is \" + wheel);\n",
    "\n",
    "        scanner.close();\n",
    "    }\n",
    "}\n",
    "\n",
    "\n",
    "Hack1.main(null);"
   ]
  },
  {
   "attachments": {},
   "cell_type": "markdown",
   "metadata": {},
   "source": [
    "## Hack 2\n",
    "\n",
    "Create a class named “Car” with the following attributes:\n",
    "\n",
    "make (String) model (String) year (int) price (double) isUsed (boolean) Create a constructor that initializes all of these attributes.\n",
    "\n",
    "Create a method named “printCarDetails()” that prints out all of the attributes of the car.\n",
    "\n",
    "In the main method, create an array of three cars with the following details:\n",
    "\n",
    "Car 1: Make = “Toyota”, Model = “Corolla”, Year = 2022, Price = 24999.99, isUsed = false Car 2: Make = “Honda”, Model = “Accord”, Year = 2018, Price = 18999.99, isUsed = true Car 3: Make = “Ford”, Model = “Mustang”, Year = 2020, Price = 34999.99, isUsed = true Loop through the array and print out the details of each car using the “printCarDetails()” method."
   ]
  },
  {
   "cell_type": "code",
   "execution_count": null,
   "metadata": {
    "vscode": {
     "languageId": "java"
    }
   },
   "outputs": [
    {
     "name": "stdout",
     "output_type": "stream",
     "text": [
      "Toyota Corolla 2022 24999.99 false\n"
     ]
    }
   ],
   "source": [
    "public class Car {\n",
    "    //instance variables\n",
    "    private String make;\n",
    "    private String model;\n",
    "    private int year;\n",
    "    private double price;\n",
    "    private boolean isUsed;\n",
    "\n",
    "    //constructors\n",
    "    public Car(String make, String model, int year, double price, boolean isUsed) {\n",
    "        this.make = make;\n",
    "        this.model = model;\n",
    "        this.year = year;\n",
    "        this.price = price;\n",
    "        this.isUsed = isUsed;\n",
    "    }\n",
    "\n",
    "    //getters\n",
    "    public String getMake() {\n",
    "        return make;\n",
    "    }\n",
    "    public String getModel() {\n",
    "        return model;\n",
    "    }\n",
    "    public int getYear() {\n",
    "        return year;\n",
    "    }\n",
    "    public double getPrice() {\n",
    "        return price;\n",
    "    }\n",
    "    public boolean getIsUsed() {\n",
    "        return isUsed;\n",
    "    }\n",
    "\n",
    "    // method to print car details\n",
    "    public void printCarDetails() {\n",
    "        System.out.println(getMake() +\" \"+ getModel() +\" \" + getYear()  +\" \"+ getPrice()  +\" \"+ getIsUsed());\n",
    "    }\n",
    "\n",
    "    public static void main (String[] args) {\n",
    "        Car car1 = new Car(\"Toyota\", \"Corolla\", 2022, 24999.99, false);\n",
    "        car1.printCarDetails();\n",
    "    }\n",
    "}\n",
    "\n",
    "\n",
    "Car.main(null);"
   ]
  },
  {
   "attachments": {},
   "cell_type": "markdown",
   "metadata": {},
   "source": [
    "## Hack 3\n",
    "\n",
    "Create a Car object named myCar with the following details:\n",
    "Make: “Toyota”\n",
    "Model: “Camry”\n",
    "Year: 2019\n",
    "Price: 25000.0\n",
    "Print the car details using the getMake(), getModel(), getYear(), and getPrice() methods.\n",
    "\n",
    "Check if the car is affordable within a budget of $20000 using the isAffordable() method and print the result using if-else statement.\n",
    "\n",
    "Determine and print the car’s classification based on its price using if-else-if statement:\n",
    "\n",
    "If the price is greater than $50000, print “The car is a luxury car.”\n",
    "If the price is greater than $30000, print “The car is a mid-range car.”\n",
    "Otherwise, print “The car is an affordable car.”"
   ]
  },
  {
   "cell_type": "code",
   "execution_count": null,
   "metadata": {
    "vscode": {
     "languageId": "java"
    }
   },
   "outputs": [
    {
     "name": "stdout",
     "output_type": "stream",
     "text": [
      "Toyota Camry 2019 25000.0\n",
      "not affordable\n",
      "regular car"
     ]
    }
   ],
   "source": [
    "public class Car {\n",
    "    private String make;\n",
    "    private String model;\n",
    "    private int year;\n",
    "    private double price;\n",
    "    \n",
    "    // Constructor\n",
    "    public Car(String make, String model, int year, double price) {\n",
    "        this.make = make;\n",
    "        this.model = model;\n",
    "        this.year = year;\n",
    "        this.price = price;\n",
    "    }\n",
    "    \n",
    "    // Getter methods\n",
    "    public String getMake() {\n",
    "        return make;\n",
    "    }\n",
    "    \n",
    "    public String getModel() {\n",
    "        return model;\n",
    "    }\n",
    "    \n",
    "    public int getYear() {\n",
    "        return year;\n",
    "    }\n",
    "    \n",
    "    public double getPrice() {\n",
    "        return price;\n",
    "    }\n",
    "    \n",
    "    // Method to determine if the car is affordable or not\n",
    "    public boolean isAffordable(double budget) {\n",
    "        if (price <= budget) {\n",
    "            return true;\n",
    "        } else {\n",
    "            return false;\n",
    "        }\n",
    "    }\n",
    "\n",
    "    public void printCarDetails() {\n",
    "        System.out.println(getMake() +\" \"+ getModel() +\" \" + getYear()  +\" \"+ getPrice());\n",
    "    }\n",
    "    \n",
    "    // Main method\n",
    "    public static void main(String[] args) {\n",
    "        // Create a new Car object\n",
    "        Car myCar = new Car(\"Toyota\", \"Camry\", 2019, 25000.0);\n",
    "\n",
    "        // Print the car details\n",
    "        myCar.printCarDetails();\n",
    "        \n",
    "        // Check if the car is affordable with a budget of $20000 using an if-else statement\n",
    "        if (myCar.getPrice() < 20000) {\n",
    "            System.out.print(\"affordable\");\n",
    "        }\n",
    "        else System.out.println(\"not affordable\");\n",
    "\n",
    "        // Check if the car is a luxury car based on its price using if-else-if statement\n",
    "        if (myCar.getPrice() > 200000){\n",
    "            System.out.print(\"luxury car\");\n",
    "        }\n",
    "        else if (myCar.getPrice() > 50000){\n",
    "            System.out.print(\"not a luxury car\");\n",
    "        }\n",
    "            System.out.print(\"regular car\");\n",
    "    }\n",
    "}\n",
    "Car.main(null);"
   ]
  },
  {
   "attachments": {},
   "cell_type": "markdown",
   "metadata": {},
   "source": [
    "## Hack 4\n",
    "You are tasked with creating a program that allows a user to enter the number of cars they own, and then input the make and model of each car. The program will then print out the list of cars.\n",
    "\n",
    "Here are the specific requirements:\n",
    "\n",
    "- Use a try-catch statement to catch any input/output exceptions that may occur.\n",
    "- Use a while loop to ensure that the user enters a positive integer for the number of cars they own.\n",
    "- Use a for loop to iterate over each car and prompt the user to enter the make and model of the car."
   ]
  },
  {
   "cell_type": "code",
   "execution_count": 5,
   "metadata": {
    "vscode": {
     "languageId": "java"
    }
   },
   "outputs": [
    {
     "ename": "UnresolvedReferenceException",
     "evalue": "Attempt to use definition snippet with unresolved references in Snippet:ClassKey(Car)#16-   \n\nclass Car {\nprivate String make;\nprivate String model;\n\npublic Car(String make, String model){\n  this.make = make;\n  this.model = model;\n}\n\n//getter\npublic String getMake(){\n  return make;\n}\n\npublic String getModel(){\n  return model;\n}\n\n//setter linked to scanner object\n\npublic void setMake(String newMake){\n  this.make = newMake;\n}\n\npublic void setModel(String newModel) {\n  this.model = newModel;\n}\n\n  public static void main(String[] args) {\n  \n  //input num of car\n    try{ \n      Scanner myObj = new Scanner(System.in);  \n      System.out.println(\"Enter number of cars\");\n      int carNum = myObj.nextInt();  //enter integer\n        //create carList\n      Car[] carList = new Car[carNum]; //carNum = length of carList\n      Scanner sc = new Scanner(System.in);\n    } catch (Exception e) {\n      System.out.println(\"Error: please enter a number\"); //must enter a number otherwise error\n    }\n\n\n    while (carNum >= 0){ //carNum must be a positive integer\n      for(int i=0; i<carList.length; i++){ //iterate each car\n        carList[i] = new Car();\n        System.out.println(\"Enter make of car\"); //prompt input make of car\n        carList[i].setMake(sc.next());\n        System.out.println();\n        System.out.println(\"Enter model of car\"); //prompt input model of car\n        carList[i].setModel(sc.next());\n        System.out.println();\n      }\n      \n      System.out.println(\"car list:\" + Arrays.toString(carList));\n      \n    }\n  }\n}",
     "output_type": "error",
     "traceback": [
      "\u001b[1m\u001b[30m|   \u001b[1m\u001b[30m   \u001b[0m",
      "\u001b[1m\u001b[30m|   \u001b[1m\u001b[30m\u001b[0m",
      "\u001b[1m\u001b[30m|   \u001b[1m\u001b[30mclass Car {\u001b[0m",
      "\u001b[1m\u001b[30m|   \u001b[1m\u001b[30mprivate String make;\u001b[0m",
      "\u001b[1m\u001b[30m|   \u001b[1m\u001b[30mprivate String model;\u001b[0m",
      "\u001b[1m\u001b[30m|   \u001b[1m\u001b[30m\u001b[0m",
      "\u001b[1m\u001b[30m|   \u001b[1m\u001b[30mpublic Car(String make, String model){\u001b[0m",
      "\u001b[1m\u001b[30m|   \u001b[1m\u001b[30m  this.make = make;\u001b[0m",
      "\u001b[1m\u001b[30m|   \u001b[1m\u001b[30m  this.model = model;\u001b[0m",
      "\u001b[1m\u001b[30m|   \u001b[1m\u001b[30m}\u001b[0m",
      "\u001b[1m\u001b[30m|   \u001b[1m\u001b[30m\u001b[0m",
      "\u001b[1m\u001b[30m|   \u001b[1m\u001b[30m//getter\u001b[0m",
      "\u001b[1m\u001b[30m|   \u001b[1m\u001b[30mpublic String getMake(){\u001b[0m",
      "\u001b[1m\u001b[30m|   \u001b[1m\u001b[30m  return make;\u001b[0m",
      "\u001b[1m\u001b[30m|   \u001b[1m\u001b[30m}\u001b[0m",
      "\u001b[1m\u001b[30m|   \u001b[1m\u001b[30m\u001b[0m",
      "\u001b[1m\u001b[30m|   \u001b[1m\u001b[30mpublic String getModel(){\u001b[0m",
      "\u001b[1m\u001b[30m|   \u001b[1m\u001b[30m  return model;\u001b[0m",
      "\u001b[1m\u001b[30m|   \u001b[1m\u001b[30m}\u001b[0m",
      "\u001b[1m\u001b[30m|   \u001b[1m\u001b[30m\u001b[0m",
      "\u001b[1m\u001b[30m|   \u001b[1m\u001b[30m//setter linked to scanner object\u001b[0m",
      "\u001b[1m\u001b[30m|   \u001b[1m\u001b[30m\u001b[0m",
      "\u001b[1m\u001b[30m|   \u001b[1m\u001b[30mpublic void setMake(String newMake){\u001b[0m",
      "\u001b[1m\u001b[30m|   \u001b[1m\u001b[30m  this.make = newMake;\u001b[0m",
      "\u001b[1m\u001b[30m|   \u001b[1m\u001b[30m}\u001b[0m",
      "\u001b[1m\u001b[30m|   \u001b[1m\u001b[30m\u001b[0m",
      "\u001b[1m\u001b[30m|   \u001b[1m\u001b[30mpublic void setModel(String newModel) {\u001b[0m",
      "\u001b[1m\u001b[30m|   \u001b[1m\u001b[30m  this.model = newModel;\u001b[0m",
      "\u001b[1m\u001b[30m|   \u001b[1m\u001b[30m}\u001b[0m",
      "\u001b[1m\u001b[30m|   \u001b[1m\u001b[30m\u001b[0m",
      "\u001b[1m\u001b[30m|   \u001b[1m\u001b[30m  public static void main(String[] args) {\u001b[0m",
      "\u001b[1m\u001b[30m|   \u001b[1m\u001b[30m  \u001b[0m",
      "\u001b[1m\u001b[30m|   \u001b[1m\u001b[30m  //input num of car\u001b[0m",
      "\u001b[1m\u001b[30m|   \u001b[1m\u001b[30m    try{ \u001b[0m",
      "\u001b[1m\u001b[30m|   \u001b[1m\u001b[30m      Scanner myObj = new Scanner(System.in);  \u001b[0m",
      "\u001b[1m\u001b[30m|   \u001b[1m\u001b[30m      System.out.println(\"Enter number of cars\");\u001b[0m",
      "\u001b[1m\u001b[30m|   \u001b[1m\u001b[30m      int carNum = myObj.nextInt();  //enter integer\u001b[0m",
      "\u001b[1m\u001b[30m|   \u001b[1m\u001b[30m        //create carList\u001b[0m",
      "\u001b[1m\u001b[30m|   \u001b[1m\u001b[30m      Car[] carList = new Car[carNum]; //carNum = length of carList\u001b[0m",
      "\u001b[1m\u001b[30m|   \u001b[1m\u001b[30m      Scanner sc = new Scanner(System.in);\u001b[0m",
      "\u001b[1m\u001b[30m|   \u001b[1m\u001b[30m    } catch (Exception e) {\u001b[0m",
      "\u001b[1m\u001b[30m|   \u001b[1m\u001b[30m      System.out.println(\"Error: please enter a number\"); //must enter a number otherwise error\u001b[0m",
      "\u001b[1m\u001b[30m|   \u001b[1m\u001b[30m    }\u001b[0m",
      "\u001b[1m\u001b[30m|   \u001b[1m\u001b[30m\u001b[0m",
      "\u001b[1m\u001b[30m|   \u001b[1m\u001b[30m\u001b[0m",
      "\u001b[1m\u001b[30m|   \u001b[1m\u001b[30m    while (carNum >= 0){ //carNum must be a positive integer\u001b[0m",
      "\u001b[1m\u001b[30m|   \u001b[1m\u001b[30m      for(int i=0; i<carList.length; i++){ //iterate each car\u001b[0m",
      "\u001b[1m\u001b[30m|   \u001b[1m\u001b[30m        carList[i] = new Car();\u001b[0m",
      "\u001b[1m\u001b[30m|   \u001b[1m\u001b[30m        System.out.println(\"Enter make of car\"); //prompt input make of car\u001b[0m",
      "\u001b[1m\u001b[30m|   \u001b[1m\u001b[30m        carList[i].setMake(sc.next());\u001b[0m",
      "\u001b[1m\u001b[30m|   \u001b[1m\u001b[30m        System.out.println();\u001b[0m",
      "\u001b[1m\u001b[30m|   \u001b[1m\u001b[30m        System.out.println(\"Enter model of car\"); //prompt input model of car\u001b[0m",
      "\u001b[1m\u001b[30m|   \u001b[1m\u001b[30m        carList[i].setModel(sc.next());\u001b[0m",
      "\u001b[1m\u001b[30m|   \u001b[1m\u001b[30m        System.out.println();\u001b[0m",
      "\u001b[1m\u001b[30m|   \u001b[1m\u001b[30m      }\u001b[0m",
      "\u001b[1m\u001b[30m|   \u001b[1m\u001b[30m      \u001b[0m",
      "\u001b[1m\u001b[30m|   \u001b[1m\u001b[30m      System.out.println(\"car list:\" + Arrays.toString(carList));\u001b[0m",
      "\u001b[1m\u001b[30m|   \u001b[1m\u001b[30m      \u001b[0m",
      "\u001b[1m\u001b[30m|   \u001b[1m\u001b[30m    }\u001b[0m",
      "\u001b[1m\u001b[30m|   \u001b[1m\u001b[30m  }\u001b[0m",
      "\u001b[1m\u001b[30m|   \u001b[1m\u001b[30m}\u001b[0m",
      "\u001b[1m\u001b[31mUnresolved dependencies:\u001b[0m",
      "\u001b[1m\u001b[31m   - variable carNum\u001b[0m",
      "\u001b[1m\u001b[31m   - variable carList\u001b[0m",
      "\u001b[1m\u001b[31m   - variable sc\u001b[0m"
     ]
    }
   ],
   "source": [
    "import java.util.Scanner;   \n",
    "\n",
    "class Car {\n",
    "private String make;\n",
    "private String model;\n",
    "\n",
    "public Car(String make, String model){\n",
    "  this.make = make;\n",
    "  this.model = model;\n",
    "}\n",
    "\n",
    "//getter\n",
    "public String getMake(){\n",
    "  return make;\n",
    "}\n",
    "\n",
    "public String getModel(){\n",
    "  return model;\n",
    "}\n",
    "\n",
    "//setter linked to scanner object\n",
    "\n",
    "public void setMake(String newMake){\n",
    "  this.make = newMake;\n",
    "}\n",
    "\n",
    "public void setModel(String newModel) {\n",
    "  this.model = newModel;\n",
    "}\n",
    "\n",
    "  public static void main(String[] args) {\n",
    "  \n",
    "  //input num of car\n",
    "    try{ \n",
    "      Scanner myObj = new Scanner(System.in);  \n",
    "      System.out.println(\"Enter number of cars\");\n",
    "      int carNum = myObj.nextInt();  //enter integer\n",
    "    } catch (Exception e) {\n",
    "      System.out.println(\"Error: please enter a number\"); //must enter a number otherwise error\n",
    "    }\n",
    "\n",
    "  //create carList\n",
    "    Car[] carList = new Car[carNum]; //carNum = length of carList\n",
    "    Scanner sc = new Scanner(System.in);\n",
    "\n",
    "    while (carNum >= 0){ //carNum must be a positive integer\n",
    "      for(int i=0; i<carList.length; i++){ //iterate each car\n",
    "        carList[i] = new Car();\n",
    "        System.out.println(\"Enter make of car\"); //prompt input make of car\n",
    "        carList[i].setMake(sc.next());\n",
    "        System.out.println();\n",
    "        System.out.println(\"Enter model of car\"); //prompt input model of car\n",
    "        carList[i].setModel(sc.next());\n",
    "        System.out.println();\n",
    "      }\n",
    "      \n",
    "      System.out.println(\"car list:\" + Arrays.toString(carList));\n",
    "      \n",
    "    }\n",
    "  }\n",
    "}\n",
    "\n",
    "Car.main(null);"
   ]
  }
 ],
 "metadata": {
  "kernelspec": {
   "display_name": "Java",
   "language": "java",
   "name": "java"
  },
  "language_info": {
   "codemirror_mode": "java",
   "file_extension": ".jshell",
   "mimetype": "text/x-java-source",
   "name": "Java",
   "pygments_lexer": "java",
   "version": "17.0.5+0"
  },
  "orig_nbformat": 4
 },
 "nbformat": 4,
 "nbformat_minor": 2
}
