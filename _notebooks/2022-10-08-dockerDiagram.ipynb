{
 "cells": [
  {
   "cell_type": "markdown",
   "metadata": {},
   "source": [
    "# Docker Diagram"
   ]
  },
  {
   "cell_type": "markdown",
   "metadata": {},
   "source": [
    "## Mindmap about Docker\n",
    "- what are\n",
    "  - docker image\n",
    "  - docker container\n",
    "  - port mapping\n",
    "  - docker-compose\n",
    "  - dockerfile"
   ]
  },
  {
   "cell_type": "markdown",
   "metadata": {},
   "source": [
    "![dockerMindmap](../images/dockerMindmap.png)"
   ]
  },
  {
   "cell_type": "markdown",
   "metadata": {},
   "source": [
    "Some resources that I used:\n",
    "  - https://nighthawkcoders.github.io/APCSA//techtalk/deploy\n",
    "  - https://aws.amazon.com/docker/\n",
    "  - https://www.geeksforgeeks.org/difference-between-docker-image-and-container/\n",
    "  - https://www.youtube.com/watch?v=8vyMVzRBPdI&t=113s\n",
    "  - https://shivam1410.medium.com/dockerfile-and-docker-compose-d1bff2de4bf3"
   ]
  },
  {
   "cell_type": "markdown",
   "metadata": {},
   "source": [
    "![dockerfile](../images/dockerfile.png)"
   ]
  },
  {
   "cell_type": "markdown",
   "metadata": {},
   "source": [
    "![dockercompose](../images/dockercompose.png)"
   ]
  },
  {
   "cell_type": "markdown",
   "metadata": {},
   "source": [
    "## Process of making the Docker diagram with Divya"
   ]
  },
  {
   "cell_type": "markdown",
   "metadata": {},
   "source": [
    "![docker1](../images/docker1.jpg)"
   ]
  },
  {
   "cell_type": "markdown",
   "metadata": {},
   "source": [
    "![docker2](../images/docker2.jpg)"
   ]
  },
  {
   "cell_type": "markdown",
   "metadata": {},
   "source": [
    "![docker3](../images/docker3.jpg)"
   ]
  },
  {
   "cell_type": "markdown",
   "metadata": {},
   "source": [
    "![docker4](../images/docker4.jpg)"
   ]
  },
  {
   "cell_type": "markdown",
   "metadata": {},
   "source": [
    "![docker5](../images/docker5.jpg)"
   ]
  }
 ],
 "metadata": {
  "kernelspec": {
   "display_name": "Java",
   "language": "java",
   "name": "java"
  },
  "language_info": {
   "codemirror_mode": "java",
   "file_extension": ".jshell",
   "mimetype": "text/x-java-source",
   "name": "Java",
   "pygments_lexer": "java",
   "version": "17.0.4+8"
  },
  "orig_nbformat": 4
 },
 "nbformat": 4,
 "nbformat_minor": 2
}
