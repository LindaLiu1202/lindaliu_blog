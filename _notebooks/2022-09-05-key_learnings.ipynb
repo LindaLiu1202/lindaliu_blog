{
 "cells": [
  {
   "cell_type": "markdown",
   "metadata": {},
   "source": [
    "# Code.org Key Learnings"
   ]
  },
  {
   "cell_type": "markdown",
   "metadata": {},
   "source": [
    "## Use of extends (from lesson 6)"
   ]
  },
  {
   "cell_type": "markdown",
   "metadata": {},
   "source": [
    "- inheritance\t- an object-oriented programming principle where a subclass inherits the attributes and behaviors of a superclass\n",
    "- subclass - a class that extends a superclass and inherits its attributes and behaviors\n",
    "- superclass - a class that can be extended to create subclasses"
   ]
  },
  {
   "cell_type": "markdown",
   "metadata": {},
   "source": [
    "Club Example"
   ]
  },
  {
   "cell_type": "code",
   "execution_count": 19,
   "metadata": {
    "vscode": {
     "languageId": "java"
    }
   },
   "outputs": [
    {
     "ename": "CompilationException",
     "evalue": "",
     "output_type": "error",
     "traceback": [
      "\u001b[1m\u001b[30m|   \u001b[1m\u001b[30mpublic class ClubOfficer extends ClubMember { //extends tells java that ClubOfficer class should inherit the attributes and behaviors of ClubMember class\u001b[0m",
      "\u001b[1m\u001b[30m|   \u001b[1m\u001b[30m    public ClubOfficer() { //subclass constructor\u001b[0m",
      "\u001b[1m\u001b[30m|   \u001b[1m\u001b[30m        super(); //to call the superclass constructor in subclass\u001b[0m",
      "\u001b[1m\u001b[30m|   \u001b[1m\u001b[30m    }\u001b[0m",
      "\u001b[1m\u001b[30m|   \u001b[1m\u001b[30m}\u001b[0m",
      "\u001b[1m\u001b[31mUnresolved dependencies:\u001b[0m",
      "\u001b[1m\u001b[31m   - class ClubMember\u001b[0m"
     ]
    }
   ],
   "source": [
    "public class ClubOfficer extends ClubMember { //extends tells java that ClubOfficer class should inherit the attributes and behaviors of ClubMember class\n",
    "    public ClubOfficer() { //subclass constructor\n",
    "        super(); //to call the superclass constructor in subclass\n",
    "    }\n",
    "}"
   ]
  },
  {
   "cell_type": "markdown",
   "metadata": {},
   "source": [
    "PainterPlus Example"
   ]
  },
  {
   "cell_type": "code",
   "execution_count": null,
   "metadata": {
    "vscode": {
     "languageId": "java"
    }
   },
   "outputs": [],
   "source": [
    "public class PainterPlus extends Painter {\n",
    "    public PainterPlus() {\n",
    "      super();\n",
    "    }\n",
    "  }"
   ]
  },
  {
   "cell_type": "markdown",
   "metadata": {},
   "source": [
    "Creating PainterPlus\n",
    "  - Instantiate a PainterPlus object called myPainterPlus\n",
    "  - sytax: ClassName objectName = new ClassName();"
   ]
  },
  {
   "cell_type": "code",
   "execution_count": null,
   "metadata": {
    "vscode": {
     "languageId": "java"
    }
   },
   "outputs": [],
   "source": [
    "public class MyNeighborhood {\n",
    "    public static void main(String[] args) {\n",
    "  \n",
    "      // Lesson 6 Level 3\n",
    "      // TO DO #1: Instantiate a PainterPlus object.\n",
    "      PainterPlus myPainterPlus = new PainterPlus();\n",
    "\n",
    "    }\n",
    "  }"
   ]
  },
  {
   "cell_type": "markdown",
   "metadata": {},
   "source": [
    "## Creating Objects"
   ]
  },
  {
   "cell_type": "markdown",
   "metadata": {},
   "source": [
    "An object is instantiated using the following syntax:\n",
    "\n",
    "ClassName objectName = new ClassName();\n"
   ]
  },
  {
   "cell_type": "markdown",
   "metadata": {},
   "source": [
    "Example:"
   ]
  },
  {
   "cell_type": "code",
   "execution_count": null,
   "metadata": {
    "vscode": {
     "languageId": "java"
    }
   },
   "outputs": [],
   "source": [
    "public class MyNeighborhood {\n",
    "    public static void main(String[] args) {\n",
    "  \n",
    "      // TO DO #1: Instantiate a Painter object called myPainter.\n",
    "      Painter myPainter = new Painter();\n",
    "  \n",
    "      myPainter.move();\n",
    "      \n",
    "    }\n",
    "  }"
   ]
  },
  {
   "cell_type": "markdown",
   "metadata": {},
   "source": [
    "## Using Objects"
   ]
  },
  {
   "cell_type": "markdown",
   "metadata": {},
   "source": [
    "We can use methods to nevigate the object.\n",
    "\n",
    "For example, for the myPainter object, we can use the move() and turnLeft() methods to navigate the myPainter object to the traffic cone.\n"
   ]
  },
  {
   "cell_type": "markdown",
   "metadata": {},
   "source": [
    "A method is called using the following syntax:"
   ]
  },
  {
   "cell_type": "code",
   "execution_count": null,
   "metadata": {
    "vscode": {
     "languageId": "java"
    }
   },
   "outputs": [],
   "source": [
    "variableName.methodName();\n",
    "\n",
    "OR\n",
    "\n",
    "variableName.methodName(argument);"
   ]
  },
  {
   "cell_type": "markdown",
   "metadata": {},
   "source": [
    "\n",
    "Example:\n",
    "\n",
    "    myPainterPlus.turnRight();"
   ]
  },
  {
   "cell_type": "markdown",
   "metadata": {},
   "source": [
    "A method signature for a void method uses the following syntax:"
   ]
  },
  {
   "cell_type": "code",
   "execution_count": null,
   "metadata": {
    "vscode": {
     "languageId": "java"
    }
   },
   "outputs": [],
   "source": [
    "public void methodName() {\n",
    "    // code to execute when the method is called\n",
    " }"
   ]
  },
  {
   "cell_type": "markdown",
   "metadata": {},
   "source": [
    "Example:"
   ]
  },
  {
   "cell_type": "code",
   "execution_count": null,
   "metadata": {
    "vscode": {
     "languageId": "java"
    }
   },
   "outputs": [],
   "source": [
    "\n",
    "  public void turnRight() {\n",
    "    turnLeft();\n",
    "    turnLeft();\n",
    "    turnLeft();\n",
    "  }"
   ]
  },
  {
   "cell_type": "markdown",
   "metadata": {},
   "source": [
    "## Lesson 8\n",
    "Purpose of the // and /* */ is to add comments to explain the function of the code\n",
    "\n",
    "- The Backpack allows you to save classes that you create so you can import them into other projects."
   ]
  },
  {
   "cell_type": "markdown",
   "metadata": {},
   "source": [
    "## Lesson 9 \n",
    "- control structure - a conditional or iteration statement which affects the flow of a program\n",
    "- iteration statement (loop) - a control structure that repeatedly executes a block of code\n",
    "- while loop - a control structure which executes a block of code repeatedly as long as a condition is true\n",
    "\n",
    "\n",
    "A while loop uses the following syntax:"
   ]
  },
  {
   "cell_type": "code",
   "execution_count": null,
   "metadata": {
    "vscode": {
     "languageId": "java"
    }
   },
   "outputs": [],
   "source": [
    "while (condition) {\n",
    "    // code to execute while the condition is true\n",
    " }"
   ]
  },
  {
   "cell_type": "markdown",
   "metadata": {},
   "source": [
    "\n",
    "Example:\n",
    "(in PainterPlus.java)"
   ]
  },
  {
   "cell_type": "code",
   "execution_count": null,
   "metadata": {
    "vscode": {
     "languageId": "java"
    }
   },
   "outputs": [],
   "source": [
    "public void takeAllPaint() {\n",
    "    while (isOnBucket()){\n",
    "      takePaint();\n",
    "    }\n",
    "  }\n",
    "\n",
    "  public void paintLine() {\n",
    "    while (hasPaint()) {\n",
    "      paint(\"white\");\n",
    "      move();\n",
    "    }\n",
    "  }"
   ]
  },
  {
   "cell_type": "markdown",
   "metadata": {},
   "source": [
    "## Lesson 10\n",
    "- NOT ( ! ) operator - a logical operator that returns true when the operand is false and returns false when the operand is true\n",
    "- if-else statement (two-way selection statement) - specifies a block of code to execute when the condition is true and a block of code to execute when the condition is false\n",
    "- logical operator - an operator that returns a Boolean value\n",
    "\n",
    "An if-else statement uses the following syntax:"
   ]
  },
  {
   "cell_type": "code",
   "execution_count": null,
   "metadata": {
    "vscode": {
     "languageId": "java"
    }
   },
   "outputs": [],
   "source": [
    "if (condition) {\n",
    "   // code to execute if the condition is true\n",
    "}\n",
    "else {\n",
    "   // code to execute if the condition is false\n",
    "}"
   ]
  },
  {
   "cell_type": "markdown",
   "metadata": {},
   "source": [
    "\n",
    "Problem:\n",
    "can't run the code if there is { after else\n"
   ]
  },
  {
   "cell_type": "code",
   "execution_count": null,
   "metadata": {
    "vscode": {
     "languageId": "java"
    }
   },
   "outputs": [],
   "source": [
    "public void moveOrTakePaint(){\n",
    "    while (canMove()) {\n",
    "      if (!isOnBucket()) {\n",
    "           move();\n",
    "        }\n",
    "      else {\n",
    "      takeAllPaint();\n",
    "    }\n",
    "  }"
   ]
  },
  {
   "cell_type": "markdown",
   "metadata": {},
   "source": [
    "code is working if there is no { after else"
   ]
  },
  {
   "cell_type": "code",
   "execution_count": null,
   "metadata": {
    "vscode": {
     "languageId": "java"
    }
   },
   "outputs": [],
   "source": [
    "public void moveOrTakePaint(){\n",
    "    while (canMove()) {\n",
    "      if (!isOnBucket()) {\n",
    "           move();\n",
    "        }\n",
    "      else \n",
    "      takeAllPaint();\n",
    "    }\n",
    "  }"
   ]
  },
  {
   "cell_type": "markdown",
   "metadata": {},
   "source": [
    "## Lesson 11\n",
    "- concatenation - joining two strings together\n",
    "\n",
    "\n",
    "Printing to the console uses the following syntax:\n",
    "\n",
    "System.out.print();\n",
    "\n",
    "OR\n",
    "\n",
    "System.out.println();\n",
    "\n",
    "- System.out.print() - leaves the cursor at the end of the line that it printed\n",
    "- System.out.println() - to print a line of text and then move the cursor to the next line\n",
    "\n",
    "\n",
    "Problem:\n",
    "Inside the printStatus() method, write the code to print information about the state of a PainterPlus object\n",
    "\n",
    "My code:\n",
    "\n",
    "  public void printStatus() {\n",
    "    System.out.println();\n",
    "  }\n",
    "\n",
    "how to print the state of the object??\n"
   ]
  },
  {
   "cell_type": "code",
   "execution_count": null,
   "metadata": {
    "vscode": {
     "languageId": "java"
    }
   },
   "outputs": [],
   "source": [
    "public void printStatus() {\n",
    "    System.out.println(\"Paint: \" + getMyPaint());\n",
    "    System.out.println(\"X Location: \" + getX());\n",
    "    System.out.println(\"Y Location: \" + getY());\n",
    "    System.out.println(\"Direction: \" + getDirection());\n",
    "  }"
   ]
  },
  {
   "cell_type": "markdown",
   "metadata": {},
   "source": [
    "## Lesson 12\n",
    "\n",
    "- Method Decomposition - the process of breaking a problem down into smaller parts to write methods for each part\n",
    "- edge case - a bug that occurs at the highest or lowest end of a range of possible values or in extreme situations\n",
    "\n"
   ]
  },
  {
   "cell_type": "markdown",
   "metadata": {},
   "source": [
    "## Lesson 13\n",
    "- inheritance hierarchy - where a class serves as a superclass for more than one subclass\n",
    "\n",
    "Problem: \n",
    "how to paint pattern if there is no paint to pick up?"
   ]
  },
  {
   "cell_type": "markdown",
   "metadata": {},
   "source": [
    "## The main method\n",
    "The main method in Java is arguably the most important method – it is the entry-point into any Java program. The syntax is the same for any Java program. The JVM (Java Virtual Machine) executes Java byte code, and the main method must have specific syntax for the JVM to identify it and execute its contents.\n",
    "\n",
    "public static void main(String[] args)\n",
    "\n",
    "public: The method needs to be public for the JVM to identify it.\n",
    "\n",
    "static: static in this context means that there will be only one type of this method and that it will be shared. When we call the main method, it does not require a new instantiated object – it can be called without the creation of a new object.\n",
    "\n",
    "void: There is nothing returned from the main method.\n",
    "\n",
    "main: The general signature of the main method that is identified by the JVM to execute any program from start to finish.\n",
    "\n",
    "String[] args: The main method's argument (or input parameter) is an array of type String. This allows the method to accept command line arguments, which are stored as Strings in this variable. The name args can be changed."
   ]
  },
  {
   "cell_type": "markdown",
   "metadata": {},
   "source": [
    "Examples\n",
    "\n",
    "This method will be identified by the JVM and will execute accordingly assuming there are no other errors.\n",
    "\n",
    "public static void main(String [] args) {\n",
    "    System.out.println(\"Main Method\");\n",
    " }\n"
   ]
  },
  {
   "cell_type": "markdown",
   "metadata": {},
   "source": [
    "Syntax\n",
    "\n",
    "public static void main(String[] args)"
   ]
  }
 ],
 "metadata": {
  "kernelspec": {
   "display_name": "Java",
   "language": "java",
   "name": "java"
  },
  "language_info": {
   "codemirror_mode": "java",
   "file_extension": ".jshell",
   "mimetype": "text/x-java-source",
   "name": "Java",
   "pygments_lexer": "java",
   "version": "17.0.4+8"
  },
  "orig_nbformat": 4
 },
 "nbformat": 4,
 "nbformat_minor": 2
}
