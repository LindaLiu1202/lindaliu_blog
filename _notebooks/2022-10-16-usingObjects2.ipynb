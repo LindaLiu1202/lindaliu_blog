{
 "cells": [
  {
   "cell_type": "markdown",
   "metadata": {},
   "source": [
    "# Using Objects\n",
    "- toc: true \n",
    "- badges: true\n",
    "- comments: true\n",
    "- categories: [jupyter]"
   ]
  },
  {
   "cell_type": "markdown",
   "metadata": {},
   "source": [
    "## What are Objects and Classes?\n",
    "- A class defines a new data type (a classification). It is the formal implementation, or blueprint, of the attributes and behaviors of the objects of that class.\n",
    "- An object is a specific instance of a class with defined attributes. Objects are declared as variables of a class type.\n",
    "- An attribute or instance variable is data the object knows about itself. For example a turtle object knows the direction it is facing or its color.\n",
    "- A behavior or method is something that an object can do. For example a turtle object can go forward 100 pixels."
   ]
  },
  {
   "cell_type": "markdown",
   "metadata": {},
   "source": [
    "## Creating and Initializing Objects: Constructors\n",
    "- Each class has constructors like World() and Turtle(habitat) which are used to initialize the attributes in a newly created object.\n",
    "- A new object is created with the new keyword followed by the class name (new Class()). When this code executes, it creates a new object of the specified class and calls a constructor, which has the same name as the class. \n",
    "  - new World() creates and initializes a new object of the World class, and new Turtle(habitat) creates and initializes a new Turtle object in the World habitat."
   ]
  },
  {
   "cell_type": "code",
   "execution_count": null,
   "metadata": {},
   "outputs": [],
   "source": [
    "// To create a new object and call a constructor write:\n",
    "// ClassName variableName = new ClassName(parameters);\n",
    "World habitat = new World();    // create a new World object\n",
    "Turtle t = new Turtle(habitat); // create a new Turtle object"
   ]
  },
  {
   "cell_type": "markdown",
   "metadata": {},
   "source": [
    "- Constructors initialize the attributes in newly created objects. They have the same name as the class.\n",
    "- A constructor signature is the constructor name followed by the parameter list which is a list of the types of the parameters and the variable names used to refer to them in the constructor.\n",
    "- Overloading is when there is more than one constructor. They must differ in the number, type, or order of parameters.\n",
    "- New is a keyword that is used to create a new object of a class. The syntax is new ClassName(). It creates a new object of the specified class and calls a constructor.\n",
    "- A no-argument constructor is a constructor that doesn’t take any passed in values (arguments).\n",
    "- Parameters allow values to be passed to the constructor to initialize the newly created object’s attributes.\n",
    "- The parameter list, in the header of a constructor, is a list of the type of the value being passed and a variable name. These variables are called the formal parameters.\n",
    "- Actual parameters are the values being passed to a constructor. The formal parameters are set to a copy of the value of the actual parameters.\n",
    "- Formal parameters are the specification of the parameters in the constructor header. In Java this is a list of the type and name for each parameter (World(int width, int height).\n",
    "- Call by value means that when you pass a value to a constructor or method it passes a copy of the value.- "
   ]
  }
 ],
 "metadata": {
  "kernelspec": {
   "display_name": "Java",
   "language": "java",
   "name": "java"
  },
  "language_info": {
   "name": "java"
  },
  "orig_nbformat": 4
 },
 "nbformat": 4,
 "nbformat_minor": 2
}
