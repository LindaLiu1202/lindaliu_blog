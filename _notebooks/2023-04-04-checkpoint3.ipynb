{
 "cells": [
  {
   "attachments": {},
   "cell_type": "markdown",
   "metadata": {},
   "source": [
    "# Checkpoint 3\n",
    "- toc: true \n",
    "- badges: true\n",
    "- categories: [jupyter]"
   ]
  },
  {
   "attachments": {},
   "cell_type": "markdown",
   "metadata": {},
   "source": [
    "### Experiment with existing code (bubble sort)"
   ]
  },
  {
   "cell_type": "code",
   "execution_count": 339,
   "metadata": {
    "vscode": {
     "languageId": "java"
    }
   },
   "outputs": [],
   "source": [
    "public abstract class Collectable implements Comparable <Collectable> {\n",
    "\tpublic final String masterType = \"Collectable\";\n",
    "\tprivate String type;\t// extender should define their data type\n",
    "\n",
    "\t// enumerated interface\n",
    "\tpublic interface KeyTypes {\n",
    "\t\tString name();\n",
    "\t}\n",
    "\tprotected abstract KeyTypes getKey();  \t// this method helps force usage of KeyTypes\n",
    "\n",
    "\t// getter\n",
    "\tpublic String getMasterType() {\n",
    "\t\treturn masterType;\n",
    "\t}\n",
    "\n",
    "\t// getter\n",
    "\tpublic String getType() {\n",
    "\t\treturn type;\n",
    "\t}\n",
    "\n",
    "\t// setter\n",
    "\tpublic void setType(String type) {\n",
    "\t\tthis.type = type;\n",
    "\t}\n",
    "\t\n",
    "\t// this method is used to establish key order\n",
    "\tpublic abstract String toString();\n",
    "\n",
    "\t// this method is used to compare toString of objects\n",
    "\tpublic int compareTo(Collectable obj) {\n",
    "\t\treturn this.toString().compareTo(obj.toString());\n",
    "\t}\n",
    "\n",
    "\t// static print method used by extended classes\n",
    "\tpublic static void print(Collectable[] objs) {\n",
    "\t\t// print 'Object' properties\n",
    "\t\tSystem.out.println(objs.getClass() + \" \" + objs.length);\n",
    "\n",
    "\t\t// print 'Collectable' properties\n",
    "\t\tif (objs.length > 0) {\n",
    "\t\t\tCollectable obj = objs[0];\t// Look at properties of 1st element\n",
    "\t\t\tSystem.out.println(\n",
    "\t\t\t\t\tobj.getMasterType() + \": \" + \n",
    "\t\t\t\t\tobj.getType() +\n",
    "\t\t\t\t\t\" listed by \" +\n",
    "\t\t\t\t\tobj.getKey());\n",
    "\t\t}\n",
    "\n",
    "\t\t// print \"Collectable: Objects'\n",
    "\t\tfor(Object o : objs)\t// observe that type is Opaque\n",
    "\t\t\tSystem.out.println(o);\n",
    "\n",
    "\t\tSystem.out.println();\n",
    "\t}\n",
    "}\n"
   ]
  },
  {
   "cell_type": "code",
   "execution_count": 340,
   "metadata": {
    "vscode": {
     "languageId": "java"
    }
   },
   "outputs": [
    {
     "name": "stdout",
     "output_type": "stream",
     "text": [
      "class [LREPL.$JShell$40D$Cupcake; 9\n",
      "Collectable: Cupcake listed by title\n",
      "Cupcake: Red Velvet, Red, 12\n",
      "Cupcake: Orange, Orange, 5\n",
      "Cupcake: Lemon, Yellow, 6\n",
      "Cupcake: Apple, Green, 7\n",
      "Cupcake: Blueberry, Blue, 8\n",
      "Cupcake: Blackberry, Purple, 9\n",
      "Cupcake: Strawberry, Pink, 10\n",
      "Cupcake: Vanilla, Tan, 11\n",
      "Cupcake: Chocolate, Brown, 4\n",
      "\n",
      "class [LREPL.$JShell$40D$Cupcake; 9\n",
      "Collectable: Cupcake listed by flavor\n",
      "Apple\n",
      "Blackberry\n",
      "Blueberry\n",
      "Chocolate\n",
      "Lemon\n",
      "Orange\n",
      "Red Velvet\n",
      "Strawberry\n",
      "Vanilla\n",
      "\n",
      "Number of swaps: 126\n",
      "Number of comparisons: 231\n"
     ]
    }
   ],
   "source": [
    "\n",
    "public class Cupcake extends Collectable {\n",
    "\t// Class data\n",
    "\tpublic static KeyTypes key = KeyType.title;  // static initializer\n",
    "\tpublic static void setOrder(KeyTypes key) {Cupcake.key = key;}\n",
    "\tpublic enum KeyType implements KeyTypes {title, flavor, frosting, sprinkles}\n",
    "\n",
    "\t// Instance data\n",
    "\tprivate final String frosting;\n",
    "\tprivate final int sprinkles;\n",
    "\tprivate final String flavor;\n",
    "\n",
    "\tprivate static int swap = 0;\n",
    "\tprivate static int comp = 0;\n",
    "\n",
    "\t// Constructor\n",
    "\tCupcake(String frosting, int sprinkles, String flavor)\n",
    "\t{\n",
    "\t\tthis.setType(\"Cupcake\");\n",
    "\t\tthis.frosting = frosting;\n",
    "\t\tthis.sprinkles = sprinkles;\n",
    "\t\tthis.flavor = flavor;\n",
    "\t}\n",
    "\n",
    "\t/* 'Collectable' requires getKey to help enforce KeyTypes usage */\n",
    "\t@Override\n",
    "\tprotected KeyTypes getKey() { return Cupcake.key; }\n",
    "\n",
    "\t/* 'Collectable' requires toString override\n",
    "\t * toString provides data based off of Static Key setting\n",
    "\t */\n",
    "\n",
    "\tpublic static int getSwap(){\n",
    "\t\treturn swap;\n",
    "\t}\n",
    "\n",
    "\tpublic static int getComparison(){\n",
    "\t\treturn comp;\n",
    "\t}\n",
    "\n",
    "\t@Override\n",
    "\tpublic String toString() {\t\t\n",
    "\t\tString output=\"\";\n",
    "\t\tif (KeyType.flavor.equals(this.getKey())) {\n",
    "\t\t\toutput += this.flavor;\n",
    "\t\t} else if (KeyType.frosting.equals(this.getKey())) {\n",
    "\t\t\toutput += this.frosting;\n",
    "\t\t} else if (KeyType.sprinkles.equals(this.getKey())) {\n",
    "\t\t\toutput += \"00\" + this.sprinkles;\n",
    "\t\t\toutput = output.substring(output.length() - 2);\n",
    "\t\t} else {\n",
    "\t\t\toutput = super.getType() + \": \" + this.flavor + \", \" + this.frosting + \", \" + this.sprinkles;\n",
    "\t\t}\n",
    "\t\treturn output;\n",
    "\t}\n",
    "\n",
    "\tpublic static void bubbleSort(Cupcake[] cupcakes) {\n",
    "\t\tboolean swapped = true;\n",
    "\t\tint n = cupcakes.length;\n",
    "\t\twhile (swapped) {\n",
    "\t\t\tswapped = false;\t\n",
    "\t\t\tfor (int i = 1; i < n; i++) {\n",
    "\t\t\t\tcomp++; \n",
    "\t\t\t\tif (cupcakes[i - 1].compareTo(cupcakes[i]) > 0) {\n",
    "\t\t\t\t\tCupcake temp = cupcakes[i - 1];\n",
    "\t\t\t\t\tcupcakes[i - 1] = cupcakes[i];\n",
    "\t\t\t\t\tcupcakes[i] = temp;\n",
    "\t\t\t\t\tswapped = true;\n",
    "\t\t\t\t\tswap++;\n",
    "\t\t\t\t}\n",
    "\t\t\t}\n",
    "\t\t\tn--;\n",
    "\t\t} \n",
    "\t}\n",
    "\n",
    "\t\n",
    "\t// Test data initializer\n",
    "\tpublic static Cupcake[] cupcakes() {\n",
    "\t\treturn new Cupcake[]{\n",
    "\t\t\t\tnew Cupcake(\"Red\", 12, \"Red Velvet\"),\n",
    "\t\t\t    new Cupcake(\"Orange\", 5, \"Orange\"),\n",
    "\t\t\t    new Cupcake(\"Yellow\", 6, \"Lemon\"),\n",
    "\t\t\t    new Cupcake(\"Green\", 7, \"Apple\"),\n",
    "\t\t\t    new Cupcake(\"Blue\", 8, \"Blueberry\"),\n",
    "\t\t\t    new Cupcake(\"Purple\", 9, \"Blackberry\"),\n",
    "\t\t\t    new Cupcake(\"Pink\", 10, \"Strawberry\"),\n",
    "\t\t\t    new Cupcake(\"Tan\", 11, \"Vanilla\"),\n",
    "\t\t\t    new Cupcake(\"Brown\", 4, \"Chocolate\"),\n",
    "\t\t};\n",
    "\t}\n",
    "\t\n",
    "\tpublic static void main(String[] args)\n",
    "\t{\n",
    "\t\t// Inheritance Hierarchy\n",
    "\t\tCupcake[] cupcakes = cupcakes();  // Array is reference type only, no methods\n",
    "\n",
    "\t\t// print with title\n",
    "\t\tCupcake.setOrder(Cupcake.KeyType.title);\n",
    "\t\tCupcake.print(cupcakes);\n",
    "\n",
    "\t\t// convert to Coolection and sort in flavor order\n",
    "\t\tCupcake.setOrder(Cupcake.KeyType.flavor);\n",
    "\t\tbubbleSort(cupcakes);  // This works because of Collectable compareTo method\n",
    "\t\tCupcake.print(cupcakes);\n",
    "\n",
    "\t\tSystem.out.println(\"Number of swaps: \" + getSwap());\n",
    "\t\tSystem.out.println(\"Number of comparisons: \" + getComparison());\n",
    "\t\t\n",
    "\t}\n",
    "\t\n",
    "}\n",
    "Cupcake.main(null);"
   ]
  },
  {
   "attachments": {},
   "cell_type": "markdown",
   "metadata": {},
   "source": [
    "I use bubble sort here to sort the cupcakes by their flavor alphabetically. The number of swaps is 33 times, and the number of swaps is 18 times. It takes 0.5 s to run the code. \n",
    "\n",
    "I made 2 getters getSwap() and getComparison() because I originally uses int swap = 0 and int comp = 0 in the bubble sort method, but because variable swap and comp are inside of this method, i can't just do System.out.println(\"Number of swaps: \" + swap) in the tester method. So I moved swap and comp to the top as private static int swap = 0 and private static int comp = 0, but doing that, I will need to use getters and use them in the tester method since they are private instances."
   ]
  },
  {
   "attachments": {},
   "cell_type": "markdown",
   "metadata": {},
   "source": [
    "## Big O Notation\n",
    "\n",
    "Big O Notation is a tool used to describe the time complexity of algorithms. It calculates the time taken to run an algorithm as the input grows. In other words, it calculates the worst-case time complexity of an algorithm. Big O Notation in Data Structure describes the upper bound of an algorithm's runtime.\n",
    "\n",
    "\n",
    "O(1) - Excellent/Best - algorithm processes only one statement without any iteration. <br>\n",
    "O(log n) - Good<br>\n",
    "O(n) - Fair<br>\n",
    "O(n log n) - Bad<br>\n",
    "O(n^2), O(2^n) and O(n!) - Horrible/Worst<br>\n",
    "\n"
   ]
  },
  {
   "attachments": {},
   "cell_type": "markdown",
   "metadata": {},
   "source": [
    "## Hashmap"
   ]
  },
  {
   "attachments": {},
   "cell_type": "markdown",
   "metadata": {},
   "source": [
    "a collection of key-value pairs, like a lookup table"
   ]
  },
  {
   "cell_type": "code",
   "execution_count": 341,
   "metadata": {
    "vscode": {
     "languageId": "java"
    }
   },
   "outputs": [
    {
     "name": "stdout",
     "output_type": "stream",
     "text": [
      "{ramen=12345, ice cream=13579, fried rice=831740, sushi=54321}\n",
      "12345\n",
      "{ramen=12345, ice cream=24680, fried rice=831740, sushi=54321}\n",
      "{ramen=12345, ice cream=24680, fried rice=831740, sushi=54321}\n",
      "{ice cream=24680, fried rice=831740, sushi=54321}\n"
     ]
    }
   ],
   "source": [
    "import java.util.HashMap;\n",
    "\n",
    "HashMap<String, Integer> foodIds = new HashMap<>(); //declare hashmap, key/value type have to java wrapper classes, not primitive types\n",
    "\n",
    "foodIds.put(\"ramen\", 12345); //add\n",
    "foodIds.put(\"ice cream\", 13579);\n",
    "foodIds.put(\"sushi\", 54321);\n",
    "foodIds.put(\"fried rice\", 831740);\n",
    "\n",
    "System.out.println(foodIds);\n",
    "\n",
    "System.out.println(foodIds.get(\"ramen\")); //look up ramen's id\n",
    "\n",
    "foodIds.put(\"ice cream\", 24680); //overwrite current value and update new value\n",
    "System.out.println(foodIds);\n",
    "\n",
    "\n",
    "foodIds.replace(\"cake\", 24680); //different from put, won't add a new one if doesn't exist\n",
    "System.out.println(foodIds);\n",
    "\n",
    "foodIds.remove(\"ramen\"); //remove\n",
    "System.out.println(foodIds); \n",
    "\n"
   ]
  },
  {
   "attachments": {},
   "cell_type": "markdown",
   "metadata": {},
   "source": [
    "### Randomly Generate 5000 Elements"
   ]
  },
  {
   "cell_type": "code",
   "execution_count": 342,
   "metadata": {
    "vscode": {
     "languageId": "java"
    }
   },
   "outputs": [],
   "source": [
    "//randomly generate 5000 elements and store them in an int array\n",
    "\n",
    "import java.util.Random;\n",
    "\n",
    "Random random = new Random();\n",
    "int intArray[] = new int[5000];\n",
    "\n",
    "for (int i = 0; i < intArray.length; i++) {\n",
    "    intArray[i] = random.nextInt(); // storing random integers in an array\n",
    "}"
   ]
  },
  {
   "attachments": {},
   "cell_type": "markdown",
   "metadata": {},
   "source": [
    "### Bubble Sort\n",
    "\n",
    "We’ll compare each adjacent pair and check if the elements are in order. If they aren’t, we swap both elements. We keep doing this until all elements are sorted."
   ]
  },
  {
   "cell_type": "code",
   "execution_count": 343,
   "metadata": {
    "vscode": {
     "languageId": "java"
    }
   },
   "outputs": [
    {
     "name": "stdout",
     "output_type": "stream",
     "text": [
      "Total time: 62429916 nanoseconds\n",
      "Comparisons: 12493129\n",
      "Swaps: 6217022\n"
     ]
    }
   ],
   "source": [
    " //use the randomly generated 5000 elements\n",
    "int bubbleSort[] = new int[5000];\n",
    "for (int i = 0; i < bubbleSort.length; i++) {\n",
    "    int random = intArray[i];\n",
    "    bubbleSort[i] = random; \n",
    "}\n",
    "\n",
    "int comparison = 0;\n",
    "int swap = 0;\n",
    "public static void bubbleSort(int[] data) {\n",
    "    boolean swapped = true;\n",
    "    int n = data.length;\n",
    "    int i = 0;\n",
    "    while(swapped) {\n",
    "        swapped = false;\n",
    "        for(int j = 1; j < n - i; j++) {\n",
    "            if(data[j - 1] > data[j]) {\n",
    "                int temp = data[j - 1];\n",
    "                data[j - 1] = data[j];\n",
    "                data[j] = temp;\n",
    "                swapped = true;\n",
    "                swap++; \n",
    "            }\n",
    "            comparison++;\n",
    "        }\n",
    "        i++;\n",
    "    }\n",
    "}\n",
    "\n",
    "//calculate total time\n",
    "long start = System.nanoTime();\n",
    "bubbleSort(bubbleSort); \n",
    "long end = System.nanoTime();\n",
    "long timeElapsed = end - start;\n",
    "\n",
    "//total time & number of comparisons/swaps\n",
    "System.out.println(\"Total time: \" + timeElapsed + \" nanoseconds\");\n",
    "System.out.println(\"Comparisons: \" + comparison);\n",
    "System.out.println(\"Swaps: \" + swap);\n"
   ]
  },
  {
   "attachments": {},
   "cell_type": "markdown",
   "metadata": {},
   "source": [
    "12 times: 33089750 37889125 23138459 21927125 21635708 22061292 25474041 25069542 20424875 22383375 22391875 22257667\n",
    "<br>\n",
    "average (throw out highest and lowest): 23940900\n"
   ]
  },
  {
   "attachments": {},
   "cell_type": "markdown",
   "metadata": {},
   "source": [
    "The bubble sort has a space complexity of O(1). <br>\n",
    "The number of swaps in bubble sort equals the number of inversion pairs in the given array. <br>\n",
    "When the array elements are few and the array is nearly sorted, bubble sort is effective and efficient."
   ]
  },
  {
   "attachments": {},
   "cell_type": "markdown",
   "metadata": {},
   "source": [
    "### Merge Sort\n",
    "\n",
    "uses the divide and conquer technique <br>\n",
    "Except in merge sort, most of the work is done during the merging of the sub-arrays. In quick sort, the majority of work is done during the partitioning/dividing of the array. This is why quick sort is also known as a partition sort.\n",
    "\n"
   ]
  },
  {
   "cell_type": "code",
   "execution_count": 344,
   "metadata": {
    "vscode": {
     "languageId": "java"
    }
   },
   "outputs": [
    {
     "name": "stdout",
     "output_type": "stream",
     "text": [
      "Total time: 53071042 nanoseconds\n",
      "Comparisons: 55216\n",
      "Swaps: 61808\n"
     ]
    }
   ],
   "source": [
    " //use the randomly generated 5000 elements\n",
    "int mergeSort[] = new int[5000];\n",
    "for (int i = 0; i < mergeSort.length; i++) {\n",
    "    int random = intArray[i];\n",
    "    mergeSort[i] = random; \n",
    "}\n",
    "\n",
    "int comparison = 0;\n",
    "int swap = 0;\n",
    "public void mergeSort(int data[], int l, int r) {\n",
    "    if (l < r) {\n",
    "        int m = l + (r-l)/2;\n",
    "        mergeSort(data, l, m);\n",
    "        mergeSort(data , m+1, r);\n",
    "        merge(data, l, m, r);\n",
    "    }\n",
    "}\n",
    "\n",
    "public void merge(int data[], int l, int m, int r) {\n",
    "    int n1 = m - l + 1;\n",
    "    int n2 = r - m;\n",
    "    int[] L = new int[n1];\n",
    "    int[] R = new int[n2];\n",
    "    for (int i = 0; i < n1; i++) {\n",
    "        L[i] = data[l + i];\n",
    "    }\n",
    "    for (int j = 0; j < n2; j++) {\n",
    "        R[j] = data[m + 1 + j];\n",
    "    }\n",
    "\n",
    "    int i = 0, j = 0, k = l;\n",
    "    while (i < n1 && j < n2) {\n",
    "        if (L[i] <= R[j]) {\n",
    "            data[k] = L[i];\n",
    "            i++;\n",
    "        }\n",
    "        else {\n",
    "            data[k] = R[j];\n",
    "            j++;\n",
    "        }\n",
    "        k++;\n",
    "        comparison++;\n",
    "        swap++;\n",
    "    }\n",
    "\n",
    "    while (i < n1) {\n",
    "        data[k] = L[i];\n",
    "        i++;\n",
    "        k++;\n",
    "        swap++;\n",
    "    }\n",
    "\n",
    "    while (j < n2) {\n",
    "        data[k] = R[j];\n",
    "        j++;\n",
    "        k++;\n",
    "        swap++;\n",
    "    }\n",
    "}\n",
    "\n",
    "\n",
    "//calculate total time\n",
    "long start = System.nanoTime();\n",
    "mergeSort(mergeSort, 0, mergeSort.length-1); //left -> 0, right -> length of mergesort\n",
    "long end = System.nanoTime();\n",
    "long timeElapsed = end - start;\n",
    "\n",
    "//total time & number of comparisons/swaps\n",
    "System.out.println(\"Total time: \" + timeElapsed + \" nanoseconds\");\n",
    "System.out.println(\"Comparisons: \" + comparison);\n",
    "System.out.println(\"Swaps: \" + swap);"
   ]
  },
  {
   "attachments": {},
   "cell_type": "markdown",
   "metadata": {},
   "source": [
    "12 times: 13142708 15338583 13292792 12895541 14663292 14833125 14769292 12804833 16318958 12847708 14018666 13988792 <Br>\n",
    "average (throw out highest and lowest): 13979000"
   ]
  },
  {
   "attachments": {},
   "cell_type": "markdown",
   "metadata": {},
   "source": [
    "Time complexity:\n",
    "\n",
    "Worst case: O(nlogn). The worst-case time complexity is the same as the best case. <br>\n",
    "Best case: O(nlogn). We are dividing the array into two sub-arrays recursively, which will cost a time complexity of O(logn). For each function call, we are calling the partition function, which costs O(n) time complexity. Hence the total time complexity is O(nlogn)."
   ]
  },
  {
   "attachments": {},
   "cell_type": "markdown",
   "metadata": {},
   "source": [
    "### Selection Sort\n",
    "\n",
    "In this sorting algorithm, we assume that the first element is the minimum element. Then we check to see if an element lower than the assumed minimum is present in the rest of the array. If there is, we swap the assumed minimum and the actual minimum. Otherwise, we move on to the next element."
   ]
  },
  {
   "cell_type": "code",
   "execution_count": 345,
   "metadata": {
    "vscode": {
     "languageId": "java"
    }
   },
   "outputs": [
    {
     "name": "stdout",
     "output_type": "stream",
     "text": [
      "Total time: 51802750 nanoseconds\n",
      "Comparisons: 12497500\n",
      "Swaps: 5000\n"
     ]
    }
   ],
   "source": [
    " //use the randomly generated 5000 elements\n",
    " int selectionSort[] = new int[5000];\n",
    " for (int i = 0; i < selectionSort.length; i++) {\n",
    "     int random = intArray[i];\n",
    "     selectionSort[i] = random; \n",
    " }\n",
    " \n",
    " int comparison = 0;\n",
    " int swap = 0;\n",
    " public static void selectionSort(int[] data)\n",
    " {\n",
    "     for(int i=0;i<intArray.length; i++) {\n",
    "         int minIndex = i;  \n",
    "         for(int j=i+1;j<intArray.length; j++) {\n",
    "            if(data[j]<data[minIndex]) {\n",
    "              minIndex = j;\n",
    "           }\n",
    "           comparison++;\n",
    "         }\n",
    "       int temp = data[i];\n",
    "       data[i] = data[minIndex];\n",
    "       data[minIndex] = temp;\n",
    "       swap++;\n",
    "     }\n",
    " }\n",
    " \n",
    " //calculate total time\n",
    " long start = System.nanoTime();\n",
    " selectionSort(selectionSort); \n",
    " long end = System.nanoTime();\n",
    " long timeElapsed = end - start;\n",
    " \n",
    " //total time & number of comparisons/swaps\n",
    " System.out.println(\"Total time: \" + timeElapsed + \" nanoseconds\");\n",
    " System.out.println(\"Comparisons: \" + comparison);\n",
    " System.out.println(\"Swaps: \" + swap);"
   ]
  },
  {
   "attachments": {},
   "cell_type": "markdown",
   "metadata": {},
   "source": [
    "12 times: 18416625 24675583 19899291 18860458 20516875 25488542 19593875 21603375 20720833 20482000 18509000 18327583 <br>\n",
    "average (throw out highest and lowest): 18276114"
   ]
  },
  {
   "attachments": {},
   "cell_type": "markdown",
   "metadata": {},
   "source": [
    "Time complexity:\n",
    "\n",
    "Worst case: O(n²). Since we traverse through the remaining array to find the minimum for each element, the time complexity will become O(n²). <br>\n",
    "Best case: O(n²). Even if the array has already been sorted, our algorithm looks for the minimum in the rest of the array. As a result, the best-case time complexity is the same as the worst-case."
   ]
  },
  {
   "attachments": {},
   "cell_type": "markdown",
   "metadata": {},
   "source": [
    "### Insertion Sort\n",
    "\n",
    "In this sorting algorithm, we check to see if the order is correct for each element until we reach the current element. Since the first element is in order, we start from the second element and check if the order is maintained. If not, then we swap them. So, on any given element, we check if the current element is greater than the previous element. If it’s not, we keep swapping elements until our current element is greater than the previous element."
   ]
  },
  {
   "cell_type": "code",
   "execution_count": 346,
   "metadata": {
    "vscode": {
     "languageId": "java"
    }
   },
   "outputs": [
    {
     "name": "stdout",
     "output_type": "stream",
     "text": [
      "Total time: 37626917 nanoseconds\n",
      "Comparisons: 6217022\n",
      "Swaps: 6217022\n"
     ]
    }
   ],
   "source": [
    " //use the randomly generated 5000 elements\n",
    " int insertionSort[] = new int[5000];\n",
    " for (int i = 0; i < insertionSort.length; i++) {\n",
    "     int random = intArray[i];\n",
    "     insertionSort[i] = random; \n",
    " }\n",
    " \n",
    " int comparison = 0;\n",
    " int swap = 0;\n",
    " public static void insertionSort(int[] data)\n",
    " {\n",
    "     for(int i = 1;i < data.length; i++) {\n",
    "         int j = i;\n",
    "         while(j > 0 && data[j] < data[j-1]) {\n",
    "            comparison++;\n",
    "             int temp = data[j];\n",
    "             data[j] = data[j-1];\n",
    "             data[j-1] = temp;\n",
    "             j--;\n",
    "             swap++;\n",
    "         }\n",
    "     }\n",
    " }\n",
    " \n",
    " //calculate total time\n",
    " long start = System.nanoTime();\n",
    " insertionSort(insertionSort); \n",
    " long end = System.nanoTime();\n",
    " long timeElapsed = end - start;\n",
    " \n",
    " //total time & number of comparisons/swaps\n",
    " System.out.println(\"Total time: \" + timeElapsed + \" nanoseconds\");\n",
    " System.out.println(\"Comparisons: \" + comparison);\n",
    " System.out.println(\"Swaps: \" + swap);"
   ]
  },
  {
   "attachments": {},
   "cell_type": "markdown",
   "metadata": {},
   "source": [
    "12 times: 16628125 25556083 16362125 18691042 20512375 15466167 16299208 16018667 19741208 18525333 16624042 16343375 <br>\n",
    "average (throw out highest and lowest): 17519300"
   ]
  },
  {
   "attachments": {},
   "cell_type": "markdown",
   "metadata": {},
   "source": [
    "Time complexity:\n",
    "\n",
    "Worst case: O(n²). In a worst case situation, our array is sorted in descending order. So, for each element, we have to keep traversing and swapping elements to the left. <br>\n",
    "Best case: O(n). In the best case, our array is already sorted. So for each element, we compare our current element to the element at the left only once. Since the order is correct, we don’t swap and move on to the next element. Hence the time complexity will be O(n).\n",
    "\n"
   ]
  },
  {
   "attachments": {},
   "cell_type": "markdown",
   "metadata": {},
   "source": [
    "#### Comparison/Analysis\n",
    "<br>\n",
    "merge sort - 13979000<br>\n",
    "insertion sort - 17519300<br>\n",
    "selection sort - 18276114<br>\n",
    "bubble sort - 23940900<br>\n",
    "\n",
    "Best sort: merge sort"
   ]
  },
  {
   "attachments": {},
   "cell_type": "markdown",
   "metadata": {},
   "source": [
    "### Binary Search\n",
    "\n",
    "an efficient algorithm for finding an item from a sorted list of items<br>\n",
    "It works by repeatedly dividing in half the portion of the list that could contain the item, until you've narrowed down the possible locations to just one.\n",
    "<br>\n",
    "time complexity - O(log n)\n",
    "\n",
    "\n"
   ]
  },
  {
   "cell_type": "code",
   "execution_count": 347,
   "metadata": {
    "vscode": {
     "languageId": "java"
    }
   },
   "outputs": [
    {
     "name": "stdout",
     "output_type": "stream",
     "text": [
      "Total time: 43645375 nanoseconds\n"
     ]
    }
   ],
   "source": [
    "import java.util.Random;\n",
    "\n",
    "//randomKey method\n",
    "int[] randomKey = new int[100]; //int array of 100 keys\n",
    "for (int i=0; i<100; i++) {\n",
    "   int randomNum = (int)(Math.random()*5000); //randomly generate 0-5000\n",
    "   randomKey[i] = randomNum; //sort in randomKey array\n",
    "}\n",
    "\n",
    "int binarySearch[] = new int[5000]; //5000 record\n",
    "for (int i = 1; i < binarySearch.length-1; i++) {\n",
    "    binarySearch[i] = i; //store 0-5000\n",
    "}\n",
    "public static void binarySearch(int arr[], int first, int last, int key){  \n",
    "    int mid = (first + last)/2;  \n",
    "    while( first <= last ){   \n",
    "       if ( arr[mid] < key ){  //if key is below mid (first half)\n",
    "         first = mid + 1;    \n",
    "       }else if ( arr[mid] == key ){  //if key = mid\n",
    "         break;  \n",
    "       }else{  \n",
    "          last = mid - 1;  //key is above mid (last half)\n",
    "       }  \n",
    "       mid = (first + last)/2;  \n",
    "    }  \n",
    "    if ( first > last ){  \n",
    "       System.out.println(\"Element is not found!\");  \n",
    "    }  \n",
    "\n",
    "  }  \n",
    "\n",
    " //calculate total time\n",
    " long start = System.nanoTime();\n",
    " for(int i =0; i<100; i++){  //search 100 times, find 100 keys in 5000 records\n",
    " binarySearch(binarySearch, 0, binarySearch.length-1, binarySearch[randomKey[i]]); \n",
    " }\n",
    " long end = System.nanoTime();\n",
    " long timeElapsed = end - start;\n",
    " \n",
    " //total time\n",
    " System.out.println(\"Total time: \" + timeElapsed + \" nanoseconds\");\n"
   ]
  },
  {
   "attachments": {},
   "cell_type": "markdown",
   "metadata": {},
   "source": [
    "12 times: 22146083 85147084 38236958 42400792 37585375 31104541 25279333 44280500 30291208 25094125 33030208 36175458 <br>\n",
    "average (throw out highest and lowest): 34347800"
   ]
  },
  {
   "attachments": {},
   "cell_type": "markdown",
   "metadata": {},
   "source": [
    "The time complexity of the binary search algorithm is O(log n). <br>\n",
    "The best-case time complexity would be O(1) when the central index would directly match the desired value. Binary search worst case differs from that. <br>\n",
    "The worst-case scenario could be the values at either extremity of the list or values not in the list."
   ]
  },
  {
   "attachments": {},
   "cell_type": "markdown",
   "metadata": {},
   "source": [
    "### Hashmap Lookup"
   ]
  },
  {
   "cell_type": "code",
   "execution_count": 348,
   "metadata": {
    "vscode": {
     "languageId": "java"
    }
   },
   "outputs": [
    {
     "name": "stdout",
     "output_type": "stream",
     "text": [
      "Total time: 32205166 nanoseconds\n"
     ]
    }
   ],
   "source": [
    "import java.util.HashMap;\n",
    "\n",
    "HashMap<Integer, Integer> hashmap = new HashMap<>(); //declare hashmap, key/value type have to java wrapper classes, not primitive types\n",
    "for(int i=0; i<5000; i++){\n",
    "    hashmap.put(i, i); //add 5000 key value pairs in hashmap \n",
    "}\n",
    "\n",
    "\n",
    "//calculate total time\n",
    "long start = System.nanoTime();\n",
    "for(int i =0; i<100; i++){  //search 100 times, find 100 keys in 5000 records\n",
    "    hashmap.get(randomKey[i]);\n",
    "}\n",
    "long end = System.nanoTime();\n",
    "long timeElapsed = end - start;\n",
    "\n",
    "//total time\n",
    "System.out.println(\"Total time: \" + timeElapsed + \" nanoseconds\");\n",
    "\n",
    "\n"
   ]
  },
  {
   "attachments": {},
   "cell_type": "markdown",
   "metadata": {},
   "source": [
    "12 times: 29524917 26524416 38187625 35060125 38538542 49850750 39018792 35456125 29634542 32697208 29407792 26733166 <br>\n",
    "average (throw out highest and lowest): 33637500"
   ]
  },
  {
   "attachments": {},
   "cell_type": "markdown",
   "metadata": {},
   "source": [
    "#### Comprison/Analysis\n",
    "\n",
    "binary search - 34347800<br>\n",
    "hashmap lookup - 33637500<br>\n",
    "\n",
    "\n",
    "The performance is the same. However, in the average case scenario, hash lookup is significantly faster than binary search. In real applications, we mainly consider an average case scenario in order to test and compare the performance of different methods"
   ]
  }
 ],
 "metadata": {
  "kernelspec": {
   "display_name": "Java",
   "language": "java",
   "name": "java"
  },
  "language_info": {
   "codemirror_mode": "java",
   "file_extension": ".jshell",
   "mimetype": "text/x-java-source",
   "name": "Java",
   "pygments_lexer": "java",
   "version": "17.0.5+0"
  },
  "orig_nbformat": 4
 },
 "nbformat": 4,
 "nbformat_minor": 2
}
