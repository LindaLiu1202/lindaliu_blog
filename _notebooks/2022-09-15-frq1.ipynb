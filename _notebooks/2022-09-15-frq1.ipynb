{
 "cells": [
  {
   "cell_type": "markdown",
   "metadata": {},
   "source": [
    "# FRQ No. 1: Methods and control structures\n",
    "\n",
    "\n",
    "- toc: true \n",
    "- badges: true\n",
    "- comments: true\n",
    "- categories: [jupyter]"
   ]
  },
  {
   "cell_type": "markdown",
   "metadata": {},
   "source": [
    "## 2021 Free Response Question 1\n"
   ]
  },
  {
   "cell_type": "markdown",
   "metadata": {},
   "source": [
    "![img](../images/frq1.png)\n",
    "\n",
    "\n"
   ]
  },
  {
   "cell_type": "markdown",
   "metadata": {},
   "source": [
    "(a) Write the WordMatch method scoreGuess. To determine the score to be returned,\n",
    "scoreGuess finds the number of times that guess occurs as a substring of secret and then\n",
    "multiplies that number by the square of the length of guess. Occurrences of guess may overlap\n",
    "within secret.\n",
    "\n",
    "Assume that the length of guess is less than or equal to the length of secret and that guess is\n",
    "not an empty string. "
   ]
  },
  {
   "cell_type": "code",
   "execution_count": 11,
   "metadata": {
    "vscode": {
     "languageId": "java"
    }
   },
   "outputs": [],
   "source": [
    "\n",
    "public int scoreGuess(String guess) \n",
    "{\n",
    "\n",
    "  //Initialize the counter variable\n",
    "  int count = 0;\n",
    "\n",
    "  // Execute the for loop \n",
    "  for(int i = 0; i < secret.length(); i++) \n",
    "  {\n",
    "    int j = i + guess.length();\n",
    " // substring \n",
    "    if(j <= secret.length() && secret.substring(i,j).equals(guess))\n",
    "//if equals to the guess, the count increases by 1 \n",
    "      count++;\n",
    "  }\n",
    "//returning the final answer\n",
    "  return count * (guess.length() * guess.length());\n",
    "}\n"
   ]
  },
  {
   "cell_type": "markdown",
   "metadata": {},
   "source": []
  },
  {
   "cell_type": "markdown",
   "metadata": {},
   "source": [
    "(b) Write the WordMatch method findBetterGuess, which returns the better guess of its two\n",
    "String parameters, guess1 and guess2. If the scoreGuess method returns different\n",
    "values for guess1 and guess2, then the guess with the higher score is returned. If the\n",
    "scoreGuess method returns the same value for guess1 and guess2, then the\n",
    "alphabetically greater guess is returned. "
   ]
  },
  {
   "cell_type": "code",
   "execution_count": 12,
   "metadata": {
    "vscode": {
     "languageId": "java"
    }
   },
   "outputs": [],
   "source": [
    "public String findBetterGuess(String guess1, String guess2)\n",
    "{\n",
    "  //variables \n",
    "  int score1 = scoreGuess(guess1);\n",
    "  int score2 = scoreGuess(guess2);\n",
    "//comparing the scores\n",
    "  if(score1 > score2)\n",
    "    return guess1;\n",
    "  else if(score2 > score1)\n",
    "    return guess2;\n",
    "  else\n",
    "  {\n",
    "    if(guess1.compareTo(guess2) > 0)\n",
    "      return guess1;\n",
    "    else\n",
    "      return guess2;\n",
    "  }\n",
    "}\n"
   ]
  }
 ],
 "metadata": {
  "kernelspec": {
   "display_name": "Java",
   "language": "java",
   "name": "java"
  },
  "language_info": {
   "codemirror_mode": "java",
   "file_extension": ".jshell",
   "mimetype": "text/x-java-source",
   "name": "Java",
   "pygments_lexer": "java",
   "version": "17.0.4+8"
  },
  "orig_nbformat": 4,
  "vscode": {
   "interpreter": {
    "hash": "b0fa6594d8f4cbf19f97940f81e996739fb7646882a419484c72d19e05852a7e"
   }
  }
 },
 "nbformat": 4,
 "nbformat_minor": 2
}
