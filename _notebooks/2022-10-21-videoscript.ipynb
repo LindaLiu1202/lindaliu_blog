{
 "cells": [
  {
   "cell_type": "markdown",
   "metadata": {},
   "source": [
    "### Video - DevOps Engineer"
   ]
  },
  {
   "cell_type": "markdown",
   "metadata": {},
   "source": [
    "- Describe software and programming tools\n",
    "- Identify authoring tools (IDE’s, Docker, GitHub) used\n",
    "- Describe and/or show visuals of interactions and integration of programming languages, protocols, and data \n",
    "- within project. For instance, deployed systems of Docker Images, Nginx, DNS hosting the application.\n",
    "- Describe and/or illustrate key Web Applications, APIs, and dependency systems that will be required to complete this system (Diagram)."
   ]
  },
  {
   "cell_type": "markdown",
   "metadata": {},
   "source": [
    "## Video Script"
   ]
  },
  {
   "cell_type": "markdown",
   "metadata": {},
   "source": [
    "Hi I am Linda and I am the DevOps of our team, and i am responsible for deploying the website and ensuring the ability to do continuous updates, and help with backend development\n",
    "\n",
    "\n",
    "Our website is successful running as a subdomain under nightkawkcodingsociety.com (showing our deployed website)\n",
    "\n",
    "We have the backend restraurant api running in our website as for now (showing code and runtime)\n",
    "\n",
    "in terms of deployment, i use ubuntu terminal as a local version of project for deploying and updating, such as making edit to the docker file, nginx configuration... (certbox - \"not secure\" - establish working https web application) (showing cding to repo, access docker file etc.) \n",
    "\n",
    "Our team members are also able to update or make changes to the project through vscode, ubuntu terminal, and github.\n",
    "\n",
    "\n",
    "(or they can make edit on Github repo directly, however, if doing that, other members need to, on terminal, kill the process, update code by doing git pull, force rebuild of docker container, and run docker-compose in order to keep the versions consistent and avoid conflict.) (not gonna be included in the video)\n",
    "\n",
    "In order to understand more about deployment, me and divya made a diagram on Docker, (show the diagram we made and open ubuntu to show how does it connect to our own dockerfile...) \n",
    "\n",
    "\n"
   ]
  },
  {
   "cell_type": "markdown",
   "metadata": {},
   "source": [
    "## Video"
   ]
  },
  {
   "cell_type": "markdown",
   "metadata": {},
   "source": [
    "<iframe width=\"560\" height=\"315\" src=\"https://drive.google.com/file/d/147vCTVEZMxrSfxNsgP0scWzug2z_ROeV/view\" title=\"YouTube video player\" frameborder=\"0\" allow=\"accelerometer; autoplay; clipboard-write; encrypted-media; gyroscope; picture-in-picture\" allowfullscreen></iframe>"
   ]
  }
 ],
 "metadata": {
  "kernelspec": {
   "display_name": "Java",
   "language": "java",
   "name": "java"
  },
  "language_info": {
   "name": "java"
  },
  "orig_nbformat": 4
 },
 "nbformat": 4,
 "nbformat_minor": 2
}
