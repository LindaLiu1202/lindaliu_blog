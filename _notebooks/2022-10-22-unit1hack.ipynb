{
 "cells": [
  {
   "cell_type": "markdown",
   "metadata": {},
   "source": [
    "# Period 2 Unit 1 Homework:"
   ]
  },
  {
   "cell_type": "markdown",
   "metadata": {},
   "source": [
    "Hacks\n",
    "Final Grade Calculator (calculates necessary score for the final):\n",
    "- First takes in boolean of whether final is in a seperate category or tests cateogry\n",
    "- If final is in seperate category\n",
    "  - take in current grade\n",
    "  - take in % of grade that is final\n",
    "  - take in the desired grade\n",
    "  - output % score needed on the final\n",
    "- If final is in a \"tests\" category\n",
    "  - take in current grade\n",
    "  - take in % of grade that is tests category\n",
    "  - take in current % in tests category\n",
    "  - take in CURRENT amount of points in tests category (here integer can be used i suppose)\n",
    "  - take in amount of points that the final is (here integer can be used i suppose)\n",
    "  - take in the desired grade\n",
    "  - output # of points needed on the final\n",
    "\n",
    "All of these should be taken using user input (Scanner).\n",
    "Example Input:\n",
    "false\n",
    "20\n",
    "93.0\n",
    "90.0\n",
    "Example Output (would be correct if contains a 78):\n",
    "Is the final in the tests category?\n",
    "What is your current grade?\n",
    "How much percent of your grade is the final?\n",
    "What is your desired grade?\n",
    "You need a 78.0 on the test\n",
    "Please DM Rohan Juneja a repository with a single JAVA file (not jupyter notebook). Please call the file GradeCalculator.java"
   ]
  },
  {
   "cell_type": "code",
   "execution_count": null,
   "metadata": {},
   "outputs": [],
   "source": [
    "import java.util.Scanner;\n",
    "\n",
    "public class FinalGradeCalculator {\n",
    "    public static void main(String args[]) {\n",
    "       Scanner sc = new Scanner(System.in);\n",
    "\n"
   ]
  }
 ],
 "metadata": {
  "kernelspec": {
   "display_name": "Java",
   "language": "java",
   "name": "java"
  },
  "language_info": {
   "name": "java"
  },
  "orig_nbformat": 4
 },
 "nbformat": 4,
 "nbformat_minor": 2
}
