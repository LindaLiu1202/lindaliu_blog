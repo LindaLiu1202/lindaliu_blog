{
 "cells": [
  {
   "cell_type": "markdown",
   "id": "8b865592",
   "metadata": {},
   "source": [
    "# Installation Check"
   ]
  },
  {
   "cell_type": "code",
   "execution_count": 2,
   "id": "149a63ec",
   "metadata": {},
   "outputs": [
    {
     "name": "stdout",
     "output_type": "stream",
     "text": [
      "Python 3.9.12\n"
     ]
    }
   ],
   "source": [
    "#Python2 install on MacOS\n",
    "python --version"
   ]
  },
  {
   "cell_type": "code",
   "execution_count": 5,
   "id": "74eed2fd",
   "metadata": {},
   "outputs": [
    {
     "name": "stdout",
     "output_type": "stream",
     "text": [
      "anaconda Command line client (version 1.9.0)\n"
     ]
    }
   ],
   "source": [
    "#Anaconda install on MacOS\n",
    "anaconda --version"
   ]
  },
  {
   "cell_type": "code",
   "execution_count": 6,
   "id": "f6b83c91",
   "metadata": {},
   "outputs": [
    {
     "name": "stdout",
     "output_type": "stream",
     "text": [
      "Homebrew 3.5.10\n",
      "Homebrew/homebrew-core (git revision fa385accb12; last commit 2022-08-24)\n"
     ]
    }
   ],
   "source": [
    "#Homebrew install on MacOS\n",
    "brew --version"
   ]
  },
  {
   "cell_type": "code",
   "execution_count": 9,
   "id": "0d1a0b93",
   "metadata": {},
   "outputs": [
    {
     "name": "stdout",
     "output_type": "stream",
     "text": [
      "conda 4.13.0\n",
      "Available kernels:\n",
      "  bash          /Users/lin/Library/Jupyter/kernels/bash\n",
      "  java          /Users/lin/Library/Jupyter/kernels/java\n",
      "  javascript    /Users/lin/Library/Jupyter/kernels/javascript\n",
      "  python3       /Users/lin/opt/anaconda3/share/jupyter/kernels/python3\n"
     ]
    }
   ],
   "source": [
    "#Install Jupyter and check kernels\n",
    "conda --version \n",
    "\n",
    "jupyter kernelspec list # list installed kernels"
   ]
  },
  {
   "cell_type": "code",
   "execution_count": 10,
   "id": "0de2a56c",
   "metadata": {
    "scrolled": true
   },
   "outputs": [
    {
     "name": "stdout",
     "output_type": "stream",
     "text": [
      "GNU bash, version 3.2.57(1)-release (x86_64-apple-darwin21)\n",
      "Copyright (C) 2007 Free Software Foundation, Inc.\n"
     ]
    }
   ],
   "source": [
    "#Install Bash kernel\n",
    "bash --version\n",
    "\n",
    "jupyter kernelspec list # list kernels"
   ]
  },
  {
   "cell_type": "code",
   "execution_count": 11,
   "id": "566d7e2e",
   "metadata": {},
   "outputs": [
    {
     "name": "stdout",
     "output_type": "stream",
     "text": [
      "6.4.1\n",
      "Available kernels:\n",
      "  bash          /Users/lin/Library/Jupyter/kernels/bash\n",
      "  java          /Users/lin/Library/Jupyter/kernels/java\n",
      "  javascript    /Users/lin/Library/Jupyter/kernels/javascript\n",
      "  python3       /Users/lin/opt/anaconda3/share/jupyter/kernels/python3\n"
     ]
    }
   ],
   "source": [
    "#Install JavaScript kernel\n",
    "npm -version  # node package manager comes with nodejs\n",
    "\n",
    "jupyter kernelspec list # list kernels"
   ]
  },
  {
   "cell_type": "code",
   "execution_count": 12,
   "id": "60af559c",
   "metadata": {},
   "outputs": [
    {
     "name": "stdout",
     "output_type": "stream",
     "text": [
      "Available kernels:\n",
      "  bash          /Users/lin/Library/Jupyter/kernels/bash\n",
      "  java          /Users/lin/Library/Jupyter/kernels/java\n",
      "  javascript    /Users/lin/Library/Jupyter/kernels/javascript\n",
      "  python3       /Users/lin/opt/anaconda3/share/jupyter/kernels/python3\n"
     ]
    }
   ],
   "source": [
    "#Install Java kernel\n",
    "jupyter kernelspec list # list kernels"
   ]
  },
  {
   "cell_type": "code",
   "execution_count": null,
   "id": "40690b62",
   "metadata": {},
   "outputs": [],
   "source": [
    "#Install Java\n",
    "java --version"
   ]
  }
 ],
 "metadata": {
  "kernelspec": {
   "display_name": "Bash",
   "language": "bash",
   "name": "bash"
  },
  "language_info": {
   "codemirror_mode": "shell",
   "file_extension": ".sh",
   "mimetype": "text/x-sh",
   "name": "bash"
  }
 },
 "nbformat": 4,
 "nbformat_minor": 5
}
