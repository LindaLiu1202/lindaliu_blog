{
 "cells": [
  {
   "attachments": {},
   "cell_type": "markdown",
   "metadata": {},
   "source": [
    "# Key Technicals & Learning"
   ]
  },
  {
   "attachments": {},
   "cell_type": "markdown",
   "metadata": {},
   "source": [
    "## JWT authentication \n",
    "\n",
    "user authenticate with server using credentials\n",
    "\n",
    "server validates credentials and return user a JSON web token"
   ]
  },
  {
   "attachments": {},
   "cell_type": "markdown",
   "metadata": {},
   "source": [
    "mindmap on jwt when learning from articles\n",
    "![jwt](../images/jwt.png)\n",
    "how jwt works\n",
    "![jwt2](../images/jwt2.png)\n",
    "jwt files\n",
    "![jwt3](../images/jwt3.png)\n",
    "\n",
    "testing using postman\n",
    "\n",
    "receiving cookie from posting authenticate method for the person\n",
    "![jwt4](../images/jwt4.png)\n",
    "using cookie to access person data\n",
    "![jwt5](../images/jwt5.png)"
   ]
  },
  {
   "attachments": {},
   "cell_type": "markdown",
   "metadata": {},
   "source": [
    "## Login\n",
    "\n",
    "get user input from html form (button calls javascript login_user()\n",
    "\n",
    "connect frontend to backend\n",
    " - URL for deployment (backend server)\n",
    "```java\n",
    "    // URL for deployment\n",
    "    var url = \"https://serafina.tk\"\n",
    "    // Local testing\n",
    "    url = \"http://localhost:8192\"\n",
    "    // Authenticate endpoint\n",
    "    const login_url = url + '/authenticate';\n",
    "```\n",
    " - /authenticate (jwt - user post /authenticate with email and password)\n",
    "![login](../images/login.png)\n",
    "\n",
    "javascript login_user() \n",
    " - get email and password input from users\n",
    "![login](../images/login2.png)\n",
    "\n",
    " - fetch jwt\n",
    "   - If not successful - error message\n",
    "   - If successful - redirect to gallery page (window.location.href = \"/gallery\")\n",
    "![login](../images/login3.png)\n",
    "\n",
    "Demonstration\n",
    "![login](../images/login4.png)\n",
    "![login](../images/login5.png)"
   ]
  }
 ],
 "metadata": {
  "kernelspec": {
   "display_name": "Java",
   "language": "java",
   "name": "java"
  },
  "language_info": {
   "name": "java"
  },
  "orig_nbformat": 4
 },
 "nbformat": 4,
 "nbformat_minor": 2
}
