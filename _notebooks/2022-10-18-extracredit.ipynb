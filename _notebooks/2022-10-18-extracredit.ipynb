{
 "cells": [
  {
   "cell_type": "markdown",
   "metadata": {},
   "source": [
    "# Intersections of Business and STEM at Qualcomm (extra credit opportunity)\n",
    "- notes and lessons learned"
   ]
  },
  {
   "cell_type": "markdown",
   "metadata": {},
   "source": [
    "Sreeja Nair:\n",
    "\n",
    "Tenet 1: stay curious. Her journey starts with her fascination about the scientific calculator and she wonders how it works and asks the teacher. However, the teacher can’t answer her question and tells her to go with an engineering major in college to figure it out. This curiosity and desire to question things to figure out how it works is what prompts Sreeja into the path of engineering.\n",
    "\n",
    "Tenet 2: you can lead from any chair. When opportunity comes, don’t be afraid that you are not the best one to fit the position; instead, take the opportunity and most importantly learn from others (seniors/people with more experience). This learning experience will boost your confidence, and by taking that opportunity, more opportunities will come. That’s when Sreeja transitioned to product manager. She told us that when landing in a room with people who are more experienced than you, don't be scared and take any opportunity that is presented to you. This advice is very applicable to us students because we usually are not confident in our skills since we are still learning and is scared to be the one in lead (e.g. scrum master); however, when opportunity is presented in from of us, the more beneficial way is to take that opportunity and that we will be able to grow and learn and gain more opportunities.\n",
    "\n",
    "Tenet 3: begin with the end in mind. Invention -  creating something new for users. Innovation - adding something one to it, making it useful. Product manager’s job is to connect the dots between invention and innovation, coordinate different teams that hold the pieces, talk to customers, collect their requirements, identify product position, pricing, and etc. \n",
    "\n",
    "(A good question that Collin asked is that in CSA, we are subscribing to follow processes such as SCRUM, and why? The benefit of subscribing to these processes is to improve efficiency and let folks understand and do things in a certain way. At the same time, it is good to have this healthy skepticism of questioning why am i doing this, is this the best thing to do, and remember that, while subscribing to these processes, there is always room for improvements. )\n"
   ]
  },
  {
   "cell_type": "markdown",
   "metadata": {},
   "source": [
    "---"
   ]
  },
  {
   "cell_type": "markdown",
   "metadata": {},
   "source": [
    "Lindsey Kostas:\n",
    "\n",
    "Having a hazy long term goal, loving every subject in school, not sure what major to be in. I feel like her story is more relatable to most of us students, who are still not sure about the future major or career to be in. She often asks herself questions such as is she enjoying the things that she is doing, and she is learning. Later on, she found what she likes, which is economics, and she liked it and saw the practical value of it, so she decided to take more econ classes an major in economics. She also understands the practical value of being exposed to computer science, but doesn't have any opportunities. After having the chance to take intro to java at stanford, she likes it because she likes creating things. Since economics is theoretical grounding, she feels like there is a gap between theoretical knowledge and practical application. And computer science can take theories and create something and transfer theories into a useful model, and that’s the reason why she chose to get a master degree in computer science even though she is still not sure to become an economist or computer scientist since she feel need for more learning.This is Lindsey’s story.\n",
    "\n",
    "What advice and lessons she gave up is that, as high school students, so much learning happens, including going to office hours, going to teacher’s office, and doing group projects.\n",
    "It is especially really useful and beneficial to learn how to perform in a team with people and people that you have never worked with before. Not just learning and focusing entirely on technical stuff but also learning how to work with other people is what is most valuable about doing group projects. Another thing that i found really important is that advice of don’t just sit and watch, but have an idea, speak your mind, give perspectives/suggestions, and that’s how you provide your value to the group."
   ]
  },
  {
   "cell_type": "markdown",
   "metadata": {},
   "source": [
    "---"
   ]
  },
  {
   "cell_type": "markdown",
   "metadata": {},
   "source": [
    "In terms of internship, Lindsey’s advice on how to stand out is that when in an interview, treat it more like a conversation, and ask questions. Not just answering questions, but also thinking and asking questions, which creates a more compelling interview because you are showing perspective and your value."
   ]
  },
  {
   "cell_type": "markdown",
   "metadata": {},
   "source": [
    "In terms of failure, the advice they give is to not think of it as a failure. Learning from mistakes and avoiding making the same mistakes again is more valuable. Also keep in mind that no one will care about your failure. Successful people are not always successful. \n",
    "When making mistakes or facing failures: reflect and see what you can do better, make new mistakes, share your mistakes with others so that others won’t make the same mistakes.\n",
    "When receiving feedback, having the right attitude, taking it positively, and learning from feedback. (This is where I need to improve on because sometimes I get emotional when receiving feedback, I should have the right attitude and take the feedback positively and learn and improve from it.)"
   ]
  }
 ],
 "metadata": {
  "language_info": {
   "name": "python"
  },
  "orig_nbformat": 4
 },
 "nbformat": 4,
 "nbformat_minor": 2
}
