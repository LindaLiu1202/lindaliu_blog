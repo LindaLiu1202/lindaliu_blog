{
 "cells": [
  {
   "cell_type": "markdown",
   "metadata": {},
   "source": [
    "# 2019 FRQ 1 \n",
    "- toc: true \n",
    "- badges: true\n",
    "- comments: true\n",
    "- categories: [jupyter]"
   ]
  },
  {
   "cell_type": "markdown",
   "metadata": {},
   "source": [
    "isLeapYear() test"
   ]
  },
  {
   "cell_type": "code",
   "execution_count": 2,
   "metadata": {},
   "outputs": [],
   "source": [
    "int year = 2000;\n",
    "\n",
    "public static boolean isLeapYear(int year) {\n",
    "    // implementation not shown\n",
    "\n",
    "      // if the year is divided by 4\n",
    "if (year % 4 == 0) {\n",
    "\n",
    "    // if the year is century\n",
    "    if (year % 100 == 0) {\n",
    "\n",
    "      // if year is divided by 400\n",
    "      // then it is a leap year\n",
    "      if (year % 400 == 0) \n",
    "        return true;\n",
    "\n",
    "      else\n",
    "        return false;\n",
    "    }\n",
    "\n",
    "    // if the year is not century\n",
    "    else\n",
    "      return true;\n",
    "  }\n",
    "  \n",
    "  else\n",
    "    return false;\n",
    "\n",
    "}"
   ]
  },
  {
   "cell_type": "markdown",
   "metadata": {},
   "source": [
    "firstDayOfYear() test"
   ]
  },
  {
   "cell_type": "code",
   "execution_count": 3,
   "metadata": {},
   "outputs": [],
   "source": [
    "int year = 2007;\n",
    "\n",
    "private static int firstDayOfYear(int year) {\n",
    "    // implementation not shown\n",
    "\n",
    "        int leapyear, rest, totaldays, day;\n",
    "\n",
    "        // Count years between\n",
    "        year = (year - 1) - 1978;\n",
    "\n",
    "        // Count leap years\n",
    "        leapyear = year / 4;\n",
    "\n",
    "        // Non leap years\n",
    "        rest = year - leapyear;\n",
    "\n",
    "        // Total number of days in the years lying between the years\n",
    "        totaldays = (rest * 365) + (leapyear * 366) + 1;\n",
    "\n",
    "        // Actual day\n",
    "        day = (totaldays % 7);\n",
    "\n",
    "        return day;\n",
    "    }"
   ]
  },
  {
   "cell_type": "markdown",
   "metadata": {},
   "source": [
    "dayOfYear()"
   ]
  },
  {
   "cell_type": "code",
   "execution_count": null,
   "metadata": {},
   "outputs": [],
   "source": [
    "private static int dayOfYear(int month, int day, int year) {\n",
    "    //if year is divisible by 4 - leap year\n",
    "    //leap year has 2/29, total days = 366\n",
    "    //1) figure out is year a leap year or not \n",
    "    //2) calculate total days/ get counts for days of previous month\n",
    "    //3) how many days are in a month (march 1 = how many days (has a extra day or not according to the year)\n",
    "\n",
    "    int days[] = { 31, 28, 31, 30, 31, 30, 31, 31, 30, 31, 30, 31 };\n",
    "\n",
    "    // if is leap year and month is after 28th of february, then should include february 29th \n",
    "    if (month > 2 && year % 4 == 0\n",
    "    && (year % 100 != 0 || year % 400 == 0)) {\n",
    "    ++day;\n",
    "    }\n",
    "\n",
    "    // Add the days in the previous months\n",
    "    while (month-- > 0) {\n",
    "        day = day + days[month - 1];\n",
    "    }\n",
    "    return day;\n",
    "    }"
   ]
  },
  {
   "cell_type": "code",
   "execution_count": null,
   "metadata": {},
   "outputs": [],
   "source": [
    "double m;\n",
    "int days;\n",
    "if (isLeapYear(year)) {\n",
    "    m = 30.5;\n",
    "    days = (int) (m * (month - 1) + day);\n",
    "} else {\n",
    "    m = 30.417;\n",
    "    days = (int) (m * (month - 1) + day);\n",
    "}\n",
    "return days;"
   ]
  }
 ],
 "metadata": {
  "kernelspec": {
   "display_name": "Java",
   "language": "java",
   "name": "java"
  },
  "language_info": {
   "codemirror_mode": "java",
   "file_extension": ".jshell",
   "mimetype": "text/x-java-source",
   "name": "java",
   "pygments_lexer": "java",
   "version": "17.0.4+8"
  },
  "orig_nbformat": 4
 },
 "nbformat": 4,
 "nbformat_minor": 2
}
