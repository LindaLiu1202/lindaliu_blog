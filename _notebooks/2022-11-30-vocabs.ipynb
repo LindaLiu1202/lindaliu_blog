{
 "cells": [
  {
   "cell_type": "markdown",
   "metadata": {},
   "source": [
    "### Binary Search"
   ]
  },
  {
   "cell_type": "code",
   "execution_count": null,
   "metadata": {},
   "outputs": [],
   "source": [
    "//iteration method\n",
    "\n",
    "binarySearch(arr, x, low, high)\n",
    "        repeat till low = high\n",
    "               mid = (low + high)/2\n",
    "                   if (x == arr[mid])\n",
    "                   return mid\n",
    "   \n",
    "                   else if (x > arr[mid]) // x is on the right side\n",
    "                       low = mid + 1\n",
    "   \n",
    "                   else                  // x is on the left side\n",
    "                       high = mid - 1"
   ]
  },
  {
   "cell_type": "code",
   "execution_count": null,
   "metadata": {},
   "outputs": [],
   "source": [
    "//recursive method (divide and conquer approach)\n",
    "\n",
    "binarySearch(arr, x, low, high)\n",
    "if low > high\n",
    "    return False \n",
    "\n",
    "else\n",
    "    mid = (low + high) / 2 \n",
    "        if x == arr[mid]\n",
    "        return mid\n",
    "\n",
    "    else if x > arr[mid]        // x is on the right side\n",
    "        return binarySearch(arr, x, mid + 1, high)\n",
    "    \n",
    "    else                        // x is on the left side\n",
    "        return binarySearch(arr, x, low, mid - 1)\n"
   ]
  },
  {
   "cell_type": "markdown",
   "metadata": {},
   "source": [
    "### Polymorphism: any of overloading, overriding, late binding"
   ]
  },
  {
   "cell_type": "markdown",
   "metadata": {},
   "source": [
    "![polymorphism](http://media.geeksforgeeks.org/wp-content/uploads/OverridingVsOverloading.png)"
   ]
  },
  {
   "cell_type": "markdown",
   "metadata": {},
   "source": [
    "At run time, objects of a derived class may be treated as objects of a base class in places such as method parameters and collections or arrays. When this polymorphism occurs, the object's declared type is no longer identical to its run-time ty"
   ]
  },
  {
   "cell_type": "markdown",
   "metadata": {},
   "source": [
    "### Late binding of object, referencing superclass object, ie Animal a = new Chicken(); Animal b = new Goat();"
   ]
  },
  {
   "cell_type": "markdown",
   "metadata": {},
   "source": [
    "?"
   ]
  },
  {
   "cell_type": "markdown",
   "metadata": {},
   "source": [
    "## Standard methods: toString(), equals(), hashCode()"
   ]
  },
  {
   "cell_type": "markdown",
   "metadata": {},
   "source": [
    "The toString method is used to return a string representation of an object.\n",
    "If any object is printed, the toString() method is internally invoked by the java compiler. Else, the user implemented or overridden toString() method is called.\n",
    "If you override the toString() method of the Object class, it will return values of the object, hence you are not required to write a lot of code."
   ]
  },
  {
   "cell_type": "markdown",
   "metadata": {},
   "source": [
    "1) first implementation is when it is called as a method of an object instance"
   ]
  },
  {
   "cell_type": "code",
   "execution_count": null,
   "metadata": {},
   "outputs": [],
   "source": [
    "class HelloWorld {\n",
    "    public static void main( String args[] ) {\n",
    "\n",
    "        //Creating an integer of value 10\n",
    "        Integer number=10;\n",
    "        // Calling the toString() method as a function of the Integer variable\n",
    "        System.out.println( number.toString() );\n",
    "    }\n",
    "}"
   ]
  },
  {
   "cell_type": "markdown",
   "metadata": {},
   "source": [
    "2) second implementation is when you call the member method of the relevant class by passing the value as an argument"
   ]
  },
  {
   "cell_type": "code",
   "execution_count": null,
   "metadata": {},
   "outputs": [],
   "source": [
    "class HelloWorld {\n",
    "    public static void main( String args[] ) {\n",
    "        \n",
    "        // The method is called on datatype Double\n",
    "        // It is passed the double value as an argument\n",
    "        System.out.println(Double.toString(11.0)); \n",
    "        // Implementing this on other datatypes\n",
    "\n",
    "        //Integer\n",
    "        System.out.println(Integer.toString(12)); \n",
    "\n",
    "        // Long\n",
    "        System.out.println(Long.toString(123213123));\n",
    "\n",
    "        // Booleam\n",
    "        System.out.println(Boolean.toString(false));\n",
    "    }\n",
    "}"
   ]
  },
  {
   "cell_type": "markdown",
   "metadata": {},
   "source": [
    "The equals() method compares two strings, and returns true if the strings are equal, and false if not.\n",
    "\n",
    "Tip: Use the compareTo() method to compare two strings lexicographically.\n"
   ]
  },
  {
   "cell_type": "code",
   "execution_count": null,
   "metadata": {},
   "outputs": [],
   "source": [
    "//syntax\n",
    "public boolean equals(Object anotherObject)"
   ]
  },
  {
   "cell_type": "markdown",
   "metadata": {},
   "source": [
    "hashCode() returns an integer value, generated by a hashing algorithm"
   ]
  }
 ],
 "metadata": {
  "kernelspec": {
   "display_name": "Java",
   "language": "java",
   "name": "java"
  },
  "language_info": {
   "codemirror_mode": "java",
   "file_extension": ".jshell",
   "mimetype": "text/x-java-source",
   "name": "java",
   "pygments_lexer": "java",
   "version": "17.0.5+0"
  },
  "orig_nbformat": 4
 },
 "nbformat": 4,
 "nbformat_minor": 2
}
