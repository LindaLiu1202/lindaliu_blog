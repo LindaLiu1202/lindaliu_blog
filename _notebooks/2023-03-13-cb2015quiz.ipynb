{
 "cells": [
  {
   "attachments": {},
   "cell_type": "markdown",
   "metadata": {},
   "source": [
    "# CB 2015 Practice Exam Quiz"
   ]
  },
  {
   "attachments": {},
   "cell_type": "markdown",
   "metadata": {},
   "source": [
    "## Finish the rest that I didn't complete"
   ]
  },
  {
   "attachments": {},
   "cell_type": "markdown",
   "metadata": {},
   "source": [
    "### Q25 Incrementing count in nested loops\n",
    "![quiz](../images/q25.jpeg)\n",
    "\n",
    "What is printed as a result of executing the code segment? <br>\n",
    "4+3+2+1=10<br>\n",
    "Answer: C 10\n"
   ]
  },
  {
   "attachments": {},
   "cell_type": "markdown",
   "metadata": {},
   "source": [
    "### Q26 Methods start and changeIt with aliases\n",
    "\n",
    "\n",
    "What is printed as a result of the call start()?<br>\n",
    " \n",
    "won't change anything\n",
    "\n",
    "Answer: E  1 2 3 4 5 6 blackboard\n"
   ]
  },
  {
   "attachments": {},
   "cell_type": "markdown",
   "metadata": {},
   "source": [
    "### Q27 Sorting 1D int array\n",
    "\n",
    "Assume that sort is called with the array {6, 3, 2, 5, 4, 1}. What will the value of data be after three passes of the outer loop (i.e., when j = 2 at the point indicated by / * End of outer loop * /)?\n",
    "\n",
    "Answer: B {1, 2, 3, 5, 4, 6}"
   ]
  },
  {
   "attachments": {},
   "cell_type": "markdown",
   "metadata": {},
   "source": [
    "### Q29 what method with int parameter\n",
    "\n",
    "Assume that int val has been declared and initialized with a value that satisfies the precondition of the method. Which of the following best describes the value returned by the call what(val)?\n"
   ]
  },
  {
   "cell_type": "markdown",
   "metadata": {},
   "source": [
    "## Corrections"
   ]
  }
 ],
 "metadata": {
  "kernelspec": {
   "display_name": "Java",
   "language": "java",
   "name": "java"
  },
  "language_info": {
   "name": "java"
  },
  "orig_nbformat": 4
 },
 "nbformat": 4,
 "nbformat_minor": 2
}
