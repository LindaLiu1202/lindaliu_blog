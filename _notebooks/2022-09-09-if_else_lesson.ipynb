{
 "cells": [
  {
   "cell_type": "markdown",
   "metadata": {},
   "source": [
    "# Boolean Expressions and If Statements Lesson\n",
    "\n",
    "- toc: true \n",
    "- badges: true\n",
    "- comments: true\n",
    "- categories: [jupyter]"
   ]
  },
  {
   "cell_type": "markdown",
   "metadata": {},
   "source": [
    "## Explain if, if-else, and if-elseif-else"
   ]
  },
  {
   "cell_type": "markdown",
   "metadata": {},
   "source": [
    "The if/else statement extends the if statement by specifying an action if the if (true/false expression) is false.\n",
    "\n",
    "With the if statement, a program will execute the true code block or do nothing. With the if/else statement, the program will execute either the true code block or the false code block so something is always executed with an if/else statement."
   ]
  },
  {
   "cell_type": "markdown",
   "metadata": {},
   "source": [
    "### if statement example:"
   ]
  },
  {
   "cell_type": "code",
   "execution_count": 77,
   "metadata": {},
   "outputs": [
    {
     "name": "stdout",
     "output_type": "stream",
     "text": [
      "A"
     ]
    }
   ],
   "source": [
    "// if (score >= 90)\n",
    "//   grade = 'A';\n",
    "   \n",
    "int score = 92;\n",
    "\n",
    "if (score >= 90)\n",
    "    System.out.print(\"A\");"
   ]
  },
  {
   "cell_type": "markdown",
   "metadata": {},
   "source": [
    "### if-else statement example:"
   ]
  },
  {
   "cell_type": "code",
   "execution_count": 78,
   "metadata": {},
   "outputs": [
    {
     "name": "stdout",
     "output_type": "stream",
     "text": [
      "Number is positive\n"
     ]
    }
   ],
   "source": [
    "int a = 1;\n",
    "\n",
    "if (a >= 0)\n",
    "    System.out.print(\"Number is positive\\n\");\n",
    "else\n",
    "    System.out.print(\"Number is negative\\n\");"
   ]
  },
  {
   "cell_type": "markdown",
   "metadata": {},
   "source": [
    "### if else if statement example:"
   ]
  },
  {
   "cell_type": "markdown",
   "metadata": {},
   "source": [
    "The if/else if statement allows you to create a chain of if statements. The if statements are evaluated in order until one of the if expressions is true or the end of the if/else if chain is reached.  If the end of the if/else if chain is reached without a true expression, no code blocks are executed."
   ]
  },
  {
   "cell_type": "markdown",
   "metadata": {},
   "source": [
    "if (condition)\n",
    "{\n",
    "  multiple\n",
    "  statements\n",
    "}\n",
    "else\n",
    "  single statement\n",
    "\n",
    "if (condition) {\n",
    "  multiple\n",
    "  statements\n",
    "}\n",
    "else {\n",
    "  multiple \n",
    "  statements\n",
    "}"
   ]
  },
  {
   "cell_type": "markdown",
   "metadata": {},
   "source": [
    "### elseif statement example:"
   ]
  },
  {
   "cell_type": "markdown",
   "metadata": {},
   "source": [
    "elseif, as its name suggests, is a combination of if and else. \n",
    "Like else, it extends an if statement to execute a different statement in case the original if expression evaluates to false. \n",
    "However, unlike else, it will execute that alternative expression only if the elseif conditional expression evaluates to true. "
   ]
  },
  {
   "cell_type": "code",
   "execution_count": 79,
   "metadata": {},
   "outputs": [
    {
     "name": "stdout",
     "output_type": "stream",
     "text": [
      "a is smaller than b"
     ]
    }
   ],
   "source": [
    "int a = 1;\n",
    "int b = 2;\n",
    "\n",
    "if (a > b) {\n",
    "    System.out.print(\"a is bigger than b\");\n",
    "} \n",
    "else if (a == b) {\n",
    "    System.out.print(\"a is equal to b\");\n",
    "} \n",
    "else {\n",
    "    System.out.print(\"a is smaller than b\");\n",
    "}"
   ]
  },
  {
   "cell_type": "markdown",
   "metadata": {},
   "source": [
    "## Add to lesson switch-case\n",
    "\n",
    "- Create and if-elseif-elseif-elseif-else statement, 5 or more conditions.\n",
    "- Covert the 5 or more decisions to a switch-case-case-case-case-otherwise.\n",
    "- Make a markdown block before each code example\n",
    "- Comment/establish a style of comments for your if-elseif and switch-case code blocks"
   ]
  },
  {
   "cell_type": "markdown",
   "metadata": {},
   "source": [
    "### Attempt to create an if-elseif-elseif-elseif-else statement, 5 or more conditions, but failed"
   ]
  },
  {
   "cell_type": "code",
   "execution_count": 80,
   "metadata": {},
   "outputs": [
    {
     "name": "stdout",
     "output_type": "stream",
     "text": [
      "c is the largest number"
     ]
    }
   ],
   "source": [
    "// attempt to create an if-elseif-elseif-elseif-else statement, 5 or more conditions, but failed\n",
    "int a = 1;\n",
    "int b = 2;\n",
    "int c = 3;\n",
    "\n",
    "if (a > b && a > c) {  // && means and\n",
    "    System.out.print(\"a is the largest number\"); \n",
    "}\n",
    "\n",
    "else if (b > c && b > a) {\n",
    "    System.out.print(\"b is the largest number\");\n",
    "}\n",
    "\n",
    "else if (c > b & c > a) {\n",
    "    System.out.print(\"c is the largest number\");\n",
    "}\n",
    "\n"
   ]
  },
  {
   "cell_type": "markdown",
   "metadata": {},
   "source": [
    "### Create and if-elseif-elseif-elseif-else statement, 5 or more conditions.\n",
    "\n",
    "### Example 1:"
   ]
  },
  {
   "cell_type": "code",
   "execution_count": 81,
   "metadata": {},
   "outputs": [
    {
     "name": "stdout",
     "output_type": "stream",
     "text": [
      "Need to work harder! You got a C"
     ]
    }
   ],
   "source": [
    "//Create and if-elseif-elseif-elseif-else statement, 5 or more conditions.\n",
    "//Example 1\n",
    "\n",
    "int grade = 77;\n",
    "\n",
    "if (grade >= 90){\n",
    "    System.out.print(\"Amazing job! You got an A\");\n",
    "}\n",
    "\n",
    "else if (grade >= 80){\n",
    "    System.out.print(\"Good! You got a B\");\n",
    "}\n",
    "\n",
    "else if (grade >= 70){\n",
    "    System.out.print(\"Need to work harder! You got a C\");\n",
    "}\n",
    "\n",
    "else if (grade >= 60){\n",
    "    System.out.print(\"Ah oh. You should put more effort. You got a D\");\n",
    "}\n",
    "\n",
    "else {\n",
    "    System.out.print(\":(\");\n",
    "}"
   ]
  },
  {
   "cell_type": "markdown",
   "metadata": {},
   "source": [
    "#### Create and if-elseif-elseif-elseif-else statement, 5 or more conditions.\n",
    "\n",
    "### Example 2:"
   ]
  },
  {
   "cell_type": "code",
   "execution_count": 82,
   "metadata": {},
   "outputs": [
    {
     "name": "stdout",
     "output_type": "stream",
     "text": [
      "Friday\n"
     ]
    }
   ],
   "source": [
    "// Create and if-elseif-elseif-elseif-else statement, 5 or more conditions.\n",
    "// Example 2\n",
    "\n",
    "int day = 5;\n",
    "\n",
    "if (day == 7){\n",
    "    System.out.println(\"Sunday\");\n",
    "} \n",
    "\n",
    "else if (day == 1) {\n",
    "    System.out.println(\"Monday\");\n",
    "} \n",
    "\n",
    "else if (day == 2) {\n",
    "    System.out.println(\"Tuesday\");\n",
    "} \n",
    "\n",
    "else if (day == 3) {\n",
    "    System.out.println(\"Wednesday\");\n",
    "} \n",
    "\n",
    "else if (day == 4) {\n",
    "    System.out.println(\"Thursday\");\n",
    "} \n",
    "\n",
    "else if (day == 5) {\n",
    "    System.out.println(\"Friday\");\n",
    "} \n",
    "\n",
    "else {\n",
    "    System.out.println(\"Saturday\");\n",
    "}"
   ]
  },
  {
   "cell_type": "markdown",
   "metadata": {},
   "source": [
    "#### Covert the 5 or more decisions to a switch-case-case-case-case-otherwise.\n",
    "\n",
    "### Switch Case for Example 2:"
   ]
  },
  {
   "cell_type": "code",
   "execution_count": 83,
   "metadata": {},
   "outputs": [
    {
     "name": "stdout",
     "output_type": "stream",
     "text": [
      "Friday\n"
     ]
    }
   ],
   "source": [
    "// Covert the 5 or more decisions to a switch-case-case-case-case-otherwise.\n",
    "// For example 2\n",
    "\n",
    "int day = 5;\n",
    "\n",
    "switch(day) { //switch between the day variable\n",
    "\n",
    "case 7:\n",
    "    System.out.println (\"Sunday\"); // if day=7, do this line of code\n",
    "    break;\n",
    "case 1:\n",
    "    System.out.println (\"Monday\"); // if day=1, do this line of code\n",
    "    break;\n",
    "case 2:\n",
    "    System.out.println(\"Tuesday\");\n",
    "    break;\n",
    "case 3:\n",
    "    System.out.println (\"Wednesday\");\n",
    "    break;\n",
    "case 4:\n",
    "    System.out.println(\"Thursday\");\n",
    "    break;\n",
    "case 5:\n",
    "    System.out.println(\"Friday\");\n",
    "    break;\n",
    "case 6:\n",
    "    System.out.println (\"Saturday\");\n",
    "    break;\n",
    "    \n",
    "}"
   ]
  },
  {
   "cell_type": "markdown",
   "metadata": {},
   "source": [
    "## Finish lesson with De Morgan's law\n",
    "\n",
    "- Describe De Morgan's law\n",
    "- Illustrate De Morgan's law\n",
    "- Show some code running that shows understanding"
   ]
  },
  {
   "cell_type": "markdown",
   "metadata": {},
   "source": [
    "## Describe De Morgan's law"
   ]
  },
  {
   "cell_type": "markdown",
   "metadata": {},
   "source": [
    "ccording to De Morgan's Law, the complement of the union of two sets will be equal to the intersection of their individual complements. Likewise, the complement of the intersection of two sets will be equal to the union of their individual complements.\n",
    "\n",
    "Example:\n",
    "!(a || b) == !a && !b\n",
    "not (A or B) = not A and not B\n",
    "\"I don't like chocolate or vanilla\" =  \"I do not like chocolate and I do not like vanilla\" \n",
    "\n",
    "\n",
    "They show how to handle the negation of a complex conditional, which is a conditional statement with more than one condition joined by an and (&&) or or (||), such as (x < 3) && (y > 2).\n",
    "\n",
    "The negation modifies each conditional as shown below.\n",
    "\n",
    "< becomes >=\n",
    "\n",
    "\"> becomes <=\"\n",
    "\n",
    "== becomes !=\n",
    "\n",
    "<= becomes >\n",
    "\n",
    "\">= becomes <\"\n",
    "\n",
    "!= becomes ==\n"
   ]
  },
  {
   "cell_type": "markdown",
   "metadata": {},
   "source": [
    "## Illustrate De Morgan's law"
   ]
  },
  {
   "cell_type": "markdown",
   "metadata": {},
   "source": [
    "![demorgan1](../images/demorgan1.png)"
   ]
  },
  {
   "cell_type": "markdown",
   "metadata": {},
   "source": [
    "### Example:\n",
    "\n",
    "!(a || b) == !a && !b \n",
    "\n",
    "not (A or B) = not A and not B\n",
    "\n",
    "\"I don't like chocolate or vanilla\" =  \"I do not like chocolate and I do not like vanilla\" "
   ]
  },
  {
   "cell_type": "markdown",
   "metadata": {},
   "source": [
    "![demorgan2](../images/demorgan2.png)"
   ]
  },
  {
   "cell_type": "markdown",
   "metadata": {},
   "source": [
    "## Show some code running that shows understanding"
   ]
  },
  {
   "cell_type": "code",
   "execution_count": 84,
   "metadata": {},
   "outputs": [
    {
     "name": "stdout",
     "output_type": "stream",
     "text": [
      "true\n",
      "true\n"
     ]
    }
   ],
   "source": [
    "// using De Morgan's Law, outputs are the same\n",
    "int x = 2;\n",
    "int y = 2;\n",
    "     System.out.println(!(x < 3 && y > 2)); \n",
    "     System.out.println(x >= 3 || y <= 2); // < becomes >=; > becomes <=; and && becomes ||"
   ]
  },
  {
   "cell_type": "code",
   "execution_count": 85,
   "metadata": {},
   "outputs": [
    {
     "name": "stdout",
     "output_type": "stream",
     "text": [
      "true\n",
      "false\n"
     ]
    }
   ],
   "source": [
    "// if not use De Morgan's Law correctly, you will get different outputs\n",
    "int x = 2;\n",
    "int y = 2;\n",
    "     System.out.println(!(x < 3 && y > 2)); \n",
    "     System.out.println(x >= 3 || y < 2);    // > should become <="
   ]
  }
 ],
 "metadata": {
  "kernelspec": {
   "display_name": "Java",
   "language": "java",
   "name": "java"
  },
  "language_info": {
   "codemirror_mode": "java",
   "file_extension": ".jshell",
   "mimetype": "text/x-java-source",
   "name": "java",
   "pygments_lexer": "java",
   "version": "17.0.4+8"
  },
  "orig_nbformat": 4,
  "vscode": {
   "interpreter": {
    "hash": "b0fa6594d8f4cbf19f97940f81e996739fb7646882a419484c72d19e05852a7e"
   }
  }
 },
 "nbformat": 4,
 "nbformat_minor": 2
}
