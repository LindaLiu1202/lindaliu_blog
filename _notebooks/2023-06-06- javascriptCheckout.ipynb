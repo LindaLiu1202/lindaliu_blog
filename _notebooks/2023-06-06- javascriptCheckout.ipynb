{
 "cells": [
  {
   "attachments": {},
   "cell_type": "markdown",
   "metadata": {},
   "source": [
    "# Javascript Checkout"
   ]
  },
  {
   "attachments": {},
   "cell_type": "markdown",
   "metadata": {},
   "source": [
    "quiz.js"
   ]
  },
  {
   "attachments": {},
   "cell_type": "markdown",
   "metadata": {},
   "source": [
    "```javascript\n",
    "//Variable Declaration\n",
    "const question = document.querySelector('#question'); //This variable represents the HTML element with the id \"question\".\n",
    "const cardContainer = document.querySelector('.card-container'); //class \"card-container\"\n",
    "const dropText = document.querySelector('.drop-text'); //class \"drop-text\"\n",
    "const progressText = document.querySelector('#progressText'); //id \"progressText\"\n",
    "const scoreText = document.querySelector('#score'); //id \"score\"\n",
    "const progressBarFull = document.querySelector('#progressBarFull'); //id \"progressBarFull\"\n",
    "```"
   ]
  },
  {
   "attachments": {},
   "cell_type": "markdown",
   "metadata": {},
   "source": [
    "const declaration - creates block-scoped constants, much like variables declared using the let keyword.\n",
    "Document method querySelector() - returns the first Element within the document that matches the specified selector, or group of selectors."
   ]
  },
  {
   "attachments": {},
   "cell_type": "markdown",
   "metadata": {},
   "source": [
    "```javascript\n",
    "//Variable Initialization\n",
    "let currentQuestion = {}; //this variable stores the currently displayed question object\n",
    "let acceptingAnswers = true; //this variable determines whether the user's answers are accepted or not\n",
    "let score = 0; //score variable holds current score\n",
    "let questionCounter = 0; //this variable keeps track of the number of questions answered\n",
    "let availableQuestions = []; //this variable stores the array of available questions\n",
    "let selectedChoice = null; //this variable holds the selected choice by the user\n",
    "```"
   ]
  },
  {
   "attachments": {},
   "cell_type": "markdown",
   "metadata": {},
   "source": [
    "```javascript\n",
    "\n",
    "//Array of Questions\n",
    "let questions = [ //declared and initialized the array \"questions\" with properties like \"question\" \"choice1\" to \"choice4\" and \"answer\"\n",
    "    {\n",
    "        question: 'Which of the following expressions evaluate to 3.5? \\n I. (double) 2 / 4 + 3  \\n  II. (double) (2 / 4) + 3  \\n III.(double) (2 / 4 + 3) ',\n",
    "        choice1: 'I only',\n",
    "        choice2: 'II and III only',\n",
    "        choice3: 'I and II only',\n",
    "        choice4: 'I, II, and III',\n",
    "        answer: 1,  \n",
    "    },\n",
    "    {\n",
    "        question: 'Assume that a, b, and c are boolean variables that have been properly declared and initialized. Which of the following boolean expressions is equivalent to !(a && b) || c ?',\n",
    "        choice1: 'a || b || c',\n",
    "        choice2: '!a && !b || c',\n",
    "        choice3: '!a && !b && c',\n",
    "        choice4: '!a || !b || c',\n",
    "        answer: 4, \n",
    "    },\n",
    "    ...\n",
    "];\n",
    "\n",
    "```"
   ]
  },
  {
   "attachments": {},
   "cell_type": "markdown",
   "metadata": {},
   "source": [
    "```javascript\n",
    "\n",
    "//Constants\n",
    "const SCORE_POINTS = 100; // points awarded for each correct answer\n",
    "const MAX_QUESTIONS = 9; // maximum number of questions in the game\n",
    "\n",
    "```\n"
   ]
  },
  {
   "attachments": {},
   "cell_type": "markdown",
   "metadata": {},
   "source": [
    "```javascript\n",
    "\n",
    "// Function to start the game\n",
    "startGame = () => { //initializes the game by resetting the question counter, score, and available questions\n",
    "    questionCounter = 0;\n",
    "    score = 0;\n",
    "    availableQuestions = [...questions]; //spread operator to get all the question values in the array\n",
    "    getNewQuestion(); //calls getNewQuestion function to display a new questions\n",
    "};\n",
    "\n",
    "```"
   ]
  },
  {
   "attachments": {},
   "cell_type": "markdown",
   "metadata": {},
   "source": [
    "startGame = () => {\n",
    "...\n",
    "};\n",
    "\n",
    "Arrow functions allow us to write shorter function syntax ([w3schools](https://www.w3schools.com/js/js_arrow_function.asp))\n",
    "\n",
    "The spread (...) syntax allows an iterable, such as an array or string, to be expanded in places. "
   ]
  },
  {
   "attachments": {},
   "cell_type": "markdown",
   "metadata": {},
   "source": [
    "```javascript\n",
    "\n",
    "// Function to retrieve and display a new question\n",
    "getNewQuestion = () => {\n",
    "    if (availableQuestions.length === 0 || questionCounter >= MAX_QUESTIONS) {\n",
    "        localStorage.setItem('mostRecentScore', score); //save to local storage (not working)\n",
    "\n",
    "        return (window.location.href = 'https://tianbinliu.github.io/CSA-FinalProject/');  //redirect to the menu page\n",
    "    }\n",
    "\n",
    "    questionCounter++;  //increment question counter\n",
    "    //update progress text and progress var\n",
    "    progressText.innerText = `Question ${questionCounter} of ${MAX_QUESTIONS}`; //question 1 of 4, 2 of 4, etc. incrementing by 1 each time\n",
    "    progressBarFull.style.width = `${(questionCounter / MAX_QUESTIONS) * 100}%`; //calculate what question we are on and correspond w/ the percentage\n",
    "\n",
    "    //select a random question form the available questions\n",
    "    const questionsIndex = Math.floor(Math.random() * availableQuestions.length); //calculate value of the question index\n",
    "    currentQuestion = availableQuestions[questionsIndex]; //keep track of what questions we are on\n",
    "    question.innerText = currentQuestion.question; //know what the question asked\n",
    "\n",
    "\n",
    "    cardContainer.innerHTML = ''; // Clear the card container, remove previous answer choices\n",
    "    for (let i = 1; i <= 4; i++) { //loop 4 times creating answer choice elements for each iteration\n",
    "        const choiceCard = document.createElement('div'); //create new div and assign it to the choiceCard variable\n",
    "        choiceCard.classList.add('choice-card'); //adds css class choice-card to the choiceCard element\n",
    "        choiceCard.draggable = true; //allow card to be dragged and dropped\n",
    "        choiceCard.dataset.number = i; \n",
    "        choiceCard.innerText = currentQuestion['choice' + i]; //set text to corresponding choice text from currentQuestion object\n",
    "        cardContainer.appendChild(choiceCard);  //make answer choice visible within the container\n",
    "    }\n",
    "\n",
    "    availableQuestions.splice(questionsIndex, 1); //splice(start, deleteCount) - remove elements from an array\n",
    "\n",
    "    acceptingAnswers = true; \n",
    "\n",
    "    cardContainer.addEventListener('dragstart', (e) => {\n",
    "        selectedChoice = e.target.dataset.number; //assign data-number attribute from the dragged element to the selectedChoice variable\n",
    "    });\n",
    "};\n",
    "\n",
    "```"
   ]
  },
  {
   "attachments": {},
   "cell_type": "markdown",
   "metadata": {},
   "source": [
    "```javascript\n",
    "\n",
    "const dropArea = document.getElementById('drop-area'); //represent drop area\n",
    "\n",
    "// Drag and drop event listeners\n",
    "dropArea.addEventListener('dragover', (e) => { //triggered when card is dragged over the drop area, allowing element to be dropped\n",
    "    e.preventDefault();\n",
    "  });\n",
    "  \n",
    "  dropArea.addEventListener('drop', (e) => { //triggered when card is dropped on the drop area\n",
    "    e.preventDefault(); \n",
    "    if (!acceptingAnswers) return; //if accpetingAnswers = false, end game\n",
    "\n",
    "    // Get the selected choice from the stored variable\n",
    "    const selectedAnswer = selectedChoice;\n",
    "\n",
    "    let classToApply = selectedAnswer == currentQuestion.answer ? 'correct' : 'incorrect'; //compare selectedAnswer with the correct answer, if match, classToApply = \"correct\"\n",
    "\n",
    "    console.log('classToApply:', classToApply); //console (for checking)\n",
    "\n",
    "    if (classToApply === 'correct') { //correct answer, called incrementScore function\n",
    "        incrementScore(SCORE_POINTS); \n",
    "    }\n",
    "\n",
    "    dropArea.classList.add(classToApply); //apply styling to indicate whether the answer is correct or not\n",
    "\n",
    "    setTimeout(() => {\n",
    "        dropArea.classList.remove(classToApply);\n",
    "        getNewQuestion();\n",
    "    }, 1000); //delay 1 second, allow user to see visual feedback before moving on to the next question\n",
    "});\n",
    "```"
   ]
  },
  {
   "attachments": {},
   "cell_type": "markdown",
   "metadata": {},
   "source": [
    "e.preventDefault(); \n",
    "\n",
    "By default, dropping an element onto another element reloads the page or opens the dropped file.\n"
   ]
  },
  {
   "attachments": {},
   "cell_type": "markdown",
   "metadata": {},
   "source": [
    "```javascript\n",
    "// Function to increment the score\n",
    "incrementScore = (num) => { \n",
    "    score += num; //adding num to score\n",
    "    scoreText.innerText = score; //innerText - display score\n",
    "}\n",
    "\n",
    "startGame(); //initialize the game and display the first questions\n",
    "```\n"
   ]
  }
 ],
 "metadata": {
  "kernelspec": {
   "display_name": "Java",
   "language": "java",
   "name": "java"
  },
  "language_info": {
   "codemirror_mode": "java",
   "file_extension": ".jshell",
   "mimetype": "text/x-java-source",
   "name": "java",
   "pygments_lexer": "java",
   "version": "17.0.5+0"
  },
  "orig_nbformat": 4
 },
 "nbformat": 4,
 "nbformat_minor": 2
}
