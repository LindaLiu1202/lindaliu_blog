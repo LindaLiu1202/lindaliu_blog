{
 "cells": [
  {
   "cell_type": "markdown",
   "metadata": {},
   "source": [
    "# Create a interactive quiz using java"
   ]
  },
  {
   "cell_type": "code",
   "execution_count": 3,
   "metadata": {
    "vscode": {
     "languageId": "java"
    }
   },
   "outputs": [],
   "source": [
    "public class Question {\n",
    "    //two attributes\n",
    "    String prompt;\n",
    "    String answer;\n",
    "\n",
    "    //initialize method to initialize the object(give object intial value)\n",
    "    public Question(String prompt, String answer) {  //accepting input\n",
    "    this.prompt = prompt;\n",
    "    this.answer = answer;\n",
    "    \n",
    "    }\n",
    "}"
   ]
  },
  {
   "cell_type": "code",
   "execution_count": 4,
   "metadata": {
    "vscode": {
     "languageId": "java"
    }
   },
   "outputs": [
    {
     "name": "stdout",
     "output_type": "stream",
     "text": [
      "What is 1+1?\n",
      "(a)1\n",
      "(B)2\n",
      "(c)3\n",
      "\n"
     ]
    }
   ],
   "source": [
    "import java.util.Scanner; \n",
    "\n",
    "\n",
    "public class App{\n",
    "    public static void main(String [] args) {\n",
    "        String q1 = \"What is 1+1?\\n\" \n",
    "        + \"(a)1\\n(B)2\\n(c)3\\n\" ; \n",
    "        String q2 = \"What is 2+1?\\n\" \n",
    "        + \"(a)0\\n(B)2\\n(c)3\\n\" ; \n",
    "        \n",
    "        Question [] questions = {  //create an array of question\n",
    "            new Question(q1, \"a\"),  //q1 - prompt; a - answer\n",
    "            new Question(q2, \"b\")\n",
    "        };\n",
    "        takeTest(questions); //call the method\n",
    "        \n",
    "    }\n",
    "\n",
    "    public static void takeTest(Question [] questions) { //accepting a parameter that is an array of question\n",
    "        int score = 0;\n",
    "        Scanner keyboardInput = new Scanner (System.in); //be able to get input from user\n",
    "\n",
    "        for(int i = 0; 1 < questions.length; i++) {\n",
    "            //print out question from array that we are looping through\n",
    "            System.out.println(questions[i].prompt);  //in each interation through this loop, access a different question's prompt\n",
    "            String answer = keyboardInput.nextLine();  //create a variable to store user input as answer\n",
    "            //check if the answer is right\n",
    "            if(answer.equals(questions[1].answer)) {  //compare the user's answer to the correct answer\n",
    "                score++;\n",
    "            }\n",
    "        }\n",
    "\n",
    "        System.out.println(\"You got \" + score + \"/\" + questions.length);\n",
    "        \n",
    "    }\n",
    "}\n",
    "\n",
    "App.main(null);\n"
   ]
  }
 ],
 "metadata": {
  "kernelspec": {
   "display_name": "Java",
   "language": "java",
   "name": "java"
  },
  "language_info": {
   "codemirror_mode": "java",
   "file_extension": ".jshell",
   "mimetype": "text/x-java-source",
   "name": "Java",
   "pygments_lexer": "java",
   "version": "17.0.4+8"
  },
  "orig_nbformat": 4
 },
 "nbformat": 4,
 "nbformat_minor": 2
}
