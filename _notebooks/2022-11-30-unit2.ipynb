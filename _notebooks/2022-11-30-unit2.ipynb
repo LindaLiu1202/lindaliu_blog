{
 "cells": [
  {
   "cell_type": "markdown",
   "metadata": {},
   "source": [
    "# Unit 2 Using Objects\n",
    "- badges: true\n",
    "- categories: [jupyter]"
   ]
  },
  {
   "cell_type": "markdown",
   "metadata": {},
   "source": [
    "## 2021 FRQ "
   ]
  },
  {
   "cell_type": "markdown",
   "metadata": {},
   "source": [
    "This question involves the WordMatch class, which stores a secret string and provides methods that\n",
    "compare other strings to the secret string. You will write two methods in the WordMatch class. "
   ]
  },
  {
   "cell_type": "markdown",
   "metadata": {},
   "source": [
    "## 1a"
   ]
  },
  {
   "cell_type": "markdown",
   "metadata": {},
   "source": [
    "Write the WordMatch method scoreGuess. To determine the score to be returned,\n",
    "scoreGuess finds the number of times that guess occurs as a substring of secret and then\n",
    "multiplies that number by the square of the length of guess. Occurrences of guess may overlap\n",
    "within secret. "
   ]
  },
  {
   "cell_type": "markdown",
   "metadata": {},
   "source": [
    "thoughts before writing code:\n",
    "\n",
    "number of times guess occurs - counter? for loop, if guess = substring of secret, counter++\n",
    "multiplies by the square of the length of guess - guess.length(), times the length two times\n",
    "return score"
   ]
  },
  {
   "cell_type": "code",
   "execution_count": 2,
   "metadata": {
    "vscode": {
     "languageId": "java"
    }
   },
   "outputs": [
    {
     "ename": "CompilationException",
     "evalue": "",
     "output_type": "error",
     "traceback": [
      "\u001b[1m\u001b[30m|   \u001b[1m\u001b[30m    for (i = 0, \u001b[0m\u001b[1m\u001b[30m\u001b[41mi <= secret.length()\u001b[0m\u001b[1m\u001b[30m, i++) {  //bound error would occur\u001b[0m",
      "\u001b[1m\u001b[31mnot a statement\u001b[0m",
      "",
      "\u001b[1m\u001b[30m|   \u001b[1m\u001b[30m    for (i = 0, i <= secret.length(), i++\u001b[0m\u001b[1m\u001b[30m\u001b[41m\u001b[0m\u001b[1m\u001b[30m) {  //bound error would occur\u001b[0m",
      "\u001b[1m\u001b[31m';' expected\u001b[0m",
      ""
     ]
    }
   ],
   "source": [
    "public int scoreGuess(String guess) {\n",
    "    counter = 0;\n",
    "    for (i = 0, i <= secret.length(), i++) {  //bound error would occur\n",
    "        if (guess == substring.secret(i)) {   //didn't account for guess that has multiple characters\n",
    "            counter ++;\n",
    "        }\n",
    "    }\n",
    "    score = counter * guess.length() * guess.length(); \n",
    "    return score;\n",
    "}\n"
   ]
  },
  {
   "cell_type": "markdown",
   "metadata": {},
   "source": [
    "Example Solution"
   ]
  },
  {
   "cell_type": "code",
   "execution_count": null,
   "metadata": {
    "vscode": {
     "languageId": "java"
    }
   },
   "outputs": [],
   "source": [
    "public int scoreGuess(String guess){\n",
    "    int count = 0;\n",
    "    for(int i = 0; i < secret.length()-guess.length(); i++){  //avoid bound error\n",
    "        if(secret.substring(i, i+guess.length()).equals(guess)){ . //account for guess lenghh > 1\n",
    "            count ++;\n",
    "        }\n",
    "    }\n",
    "    return count * guess.length() * guess.length();\n",
    "}"
   ]
  },
  {
   "cell_type": "markdown",
   "metadata": {},
   "source": [
    "Grade Myself According to AP Scoring Guidelines (i know it's not going to be good)"
   ]
  },
  {
   "cell_type": "markdown",
   "metadata": {},
   "source": [
    "2/5"
   ]
  },
  {
   "cell_type": "markdown",
   "metadata": {},
   "source": [
    "places that i missed points on:\n",
    "\n",
    "Compares guess to a substring of secret - Responses will not earn the point if they use == instead of equals\n",
    "\n",
    "Loops through all necessary substrings of secret (no bounds errors) - Responses will not earn the point if they skip overlapping occurrences\n",
    "\n",
    "Loops through all necessary substrings of secret (no bounds errors) - Responses will not earn the point if they skip overlapping occurrences\n",
    "\n",
    "avoid index out of bound (condition for for loop -> i < secret.length() - guess.length() )\n",
    "\n"
   ]
  },
  {
   "cell_type": "markdown",
   "metadata": {},
   "source": [
    "## 1b"
   ]
  },
  {
   "cell_type": "markdown",
   "metadata": {},
   "source": [
    "Write the WordMatch method findBetterGuess, which returns the better guess of its two\n",
    "String parameters, guess1 and guess2. If the scoreGuess method returns different\n",
    "values for guess1 and guess2, then the guess with the higher score is returned. If the\n",
    "scoreGuess method returns the same value for guess1 and guess2, then the\n",
    "alphabetically greater guess is returned. "
   ]
  },
  {
   "cell_type": "markdown",
   "metadata": {},
   "source": [
    "Thoughts before writing code"
   ]
  },
  {
   "cell_type": "markdown",
   "metadata": {},
   "source": [
    "1) if guess1 and guess 2 have different values from scoreGuess method, compared which one is higher and reture the one, so use if else statement to compare\n",
    "2) if same value, compared the alphabet using if statement (.compareTo())"
   ]
  },
  {
   "cell_type": "code",
   "execution_count": null,
   "metadata": {
    "vscode": {
     "languageId": "java"
    }
   },
   "outputs": [],
   "source": [
    "public String findBetterGuess(String guess1, String guess2){\n",
    "    if (scoreGuess(guess1) != scoreGuess(guess1)){ .  //different values\n",
    "        if (scoreGuess(guess1) > scoreGuess(guess1)){\n",
    "            return guess1;\n",
    "        }\n",
    "        else\n",
    "            return guess2;\n",
    "    }\n",
    "    else if (scoreGuess(guess1) = scoreGuess(guess1)){ //same value\n",
    "        if(guess1.compareTo(guess2) > 0) { \n",
    "            return guess1;\n",
    "        }\n",
    "        else\n",
    "            return guess2;\n",
    "    }\n",
    "}"
   ]
  },
  {
   "cell_type": "markdown",
   "metadata": {},
   "source": [
    "Solution"
   ]
  },
  {
   "cell_type": "code",
   "execution_count": null,
   "metadata": {
    "vscode": {
     "languageId": "java"
    }
   },
   "outputs": [],
   "source": [
    "public String findBetterGuess(String guess1, String guess2){\n",
    "    if (score.Guess(guess1) > score.Guess(guess1)){\n",
    "        return guess1;\n",
    "    }\n",
    "    if (score.Guess(guess1) < score.Guess(guess1)){\n",
    "        return guess2;\n",
    "    }\n",
    "    if(guess1.compareTo(guess2) > 0) { \n",
    "        return guess1;\n",
    "    }\n",
    "        return guess2;\n",
    "}"
   ]
  },
  {
   "cell_type": "markdown",
   "metadata": {},
   "source": [
    "Grade Myself According to AP Scoring Guidelines (did better on this one)"
   ]
  },
  {
   "cell_type": "markdown",
   "metadata": {},
   "source": [
    "4/4"
   ]
  },
  {
   "cell_type": "markdown",
   "metadata": {},
   "source": [
    ".compareTo()\n",
    "compares two strings lexicographically\n",
    "returns 0 if the string is equal to the other string. A value less than 0 is returned if the string is less than the other string (less characters) and a value greater than 0 if the string is greater than the other string (more characters)"
   ]
  },
  {
   "cell_type": "markdown",
   "metadata": {},
   "source": [
    "Reflection"
   ]
  },
  {
   "cell_type": "markdown",
   "metadata": {},
   "source": [
    "Tbh this is the only frq that I did without looking things up on the internet, I wrote the code purely based on my existing knowledge. For me, the hardest part of these frqs was understanding the prompts and really knowing what I needed to write, I often became impatient because I didn't understand what I needed to write and I didn't know what those tables or other provided methods did. Because before I just wanted to get the assignment done, but now I know I'm not doing it for the grader or the teacher, I need to do more exercises like this to work on my knowledge and blog about what I did wrong and what I learned from it so that I can improve later on.\n",
    "\n",
    "part b is relatively easier than part a for me because it is about comparing and making if else statement while part a requires more thinking and not only need if else statement."
   ]
  },
  {
   "cell_type": "markdown",
   "metadata": {},
   "source": [
    "![unit2](../images/unit2.png)"
   ]
  },
  {
   "cell_type": "markdown",
   "metadata": {},
   "source": [
    "Completed with Divya, but we don't have permission to the google form anymore, but here is an evidence"
   ]
  }
 ],
 "metadata": {
  "kernelspec": {
   "display_name": "Java",
   "language": "java",
   "name": "java"
  },
  "language_info": {
   "codemirror_mode": "java",
   "file_extension": ".jshell",
   "mimetype": "text/x-java-source",
   "name": "Java",
   "pygments_lexer": "java",
   "version": "17.0.5+0"
  },
  "orig_nbformat": 4
 },
 "nbformat": 4,
 "nbformat_minor": 2
}
