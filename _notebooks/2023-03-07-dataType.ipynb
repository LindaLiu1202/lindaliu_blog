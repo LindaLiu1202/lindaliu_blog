{
 "cells": [
  {
   "attachments": {},
   "cell_type": "markdown",
   "metadata": {},
   "source": [
    "# Data Type"
   ]
  },
  {
   "attachments": {},
   "cell_type": "markdown",
   "metadata": {},
   "source": [
    "Binary Addition"
   ]
  },
  {
   "cell_type": "code",
   "execution_count": 3,
   "metadata": {},
   "outputs": [
    {
     "name": "stdout",
     "output_type": "stream",
     "text": [
      "Binary sum: 101111\n"
     ]
    }
   ],
   "source": [
    "public class BinaryAddition {\n",
    "    public static void main(String[] args) {\n",
    "        // define the two binary strings to add\n",
    "        String binary1 = \"10101\";\n",
    "        String binary2 = \"11010\";\n",
    "\n",
    "        // convert binary strings to decimal integers using radix 2\n",
    "        int decimal1 = Integer.parseInt(binary1, 2);\n",
    "        int decimal2 = Integer.parseInt(binary2, 2);\n",
    "\n",
    "        // perform binary addition on decimal integers\n",
    "        int sum = decimal1 + decimal2;\n",
    "\n",
    "        // convert decimal sum back to binary string\n",
    "        String binarySum = Integer.toBinaryString(sum);\n",
    "\n",
    "        // print out the binary sum\n",
    "        System.out.println(\"Binary sum: \" + binarySum);\n",
    "    }\n",
    "}\n",
    "\n",
    "BinaryAddition.main(null);"
   ]
  },
  {
   "cell_type": "code",
   "execution_count": 8,
   "metadata": {},
   "outputs": [
    {
     "name": "stdout",
     "output_type": "stream",
     "text": [
      "10\n"
     ]
    }
   ],
   "source": [
    "public class BinaryAddition {\n",
    "    public static void main(String[] args) {\n",
    "        int binary1 = 1;\n",
    "        int binary2 = 1;\n",
    "\n",
    "        String sum = Integer.toBinaryString(binary1 + binary2);\n",
    "\n",
    "        System.out.println(sum);\n",
    "    }\n",
    "}\n",
    "\n",
    "BinaryAddition.main(null);"
   ]
  }
 ],
 "metadata": {
  "kernelspec": {
   "display_name": "Java",
   "language": "java",
   "name": "java"
  },
  "language_info": {
   "codemirror_mode": "java",
   "file_extension": ".jshell",
   "mimetype": "text/x-java-source",
   "name": "java",
   "pygments_lexer": "java",
   "version": "17.0.5+0"
  },
  "orig_nbformat": 4
 },
 "nbformat": 4,
 "nbformat_minor": 2
}
