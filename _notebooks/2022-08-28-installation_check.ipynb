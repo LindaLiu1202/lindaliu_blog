{
 "cells": [
  {
   "cell_type": "markdown",
   "id": "8b865592",
   "metadata": {},
   "source": [
    "# Installation Check\n",
    "\n",
    "- toc: true \n",
    "- badges: true\n",
    "- comments: true\n",
    "- categories: [jupyter]\n",
    "- image: images/chart-preview.png"
   ]
  },
  {
   "cell_type": "markdown",
   "id": "0532e24e",
   "metadata": {},
   "source": [
    "Python Installed"
   ]
  },
  {
   "cell_type": "code",
   "execution_count": null,
   "id": "149a63ec",
   "metadata": {},
   "outputs": [
    {
     "name": "stdout",
     "output_type": "stream",
     "text": [
      "Python 3.9.12\n"
     ]
    }
   ],
   "source": [
    "#Python2 install on MacOS\n",
    "python --version"
   ]
  },
  {
   "cell_type": "code",
   "execution_count": 25,
   "id": "12c2e29b",
   "metadata": {},
   "outputs": [
    {
     "name": "stdout",
     "output_type": "stream",
     "text": [
      "Python 2.7.18\n"
     ]
    }
   ],
   "source": [
    "python2 --version"
   ]
  },
  {
   "cell_type": "code",
   "execution_count": 26,
   "id": "b5e6d04f",
   "metadata": {},
   "outputs": [
    {
     "name": "stdout",
     "output_type": "stream",
     "text": [
      "Python 3.9.12\n"
     ]
    }
   ],
   "source": [
    "python3 --version"
   ]
  },
  {
   "cell_type": "markdown",
   "id": "1ceb24fa",
   "metadata": {},
   "source": [
    "Anaconda Installed"
   ]
  },
  {
   "cell_type": "code",
   "execution_count": null,
   "id": "74eed2fd",
   "metadata": {},
   "outputs": [
    {
     "name": "stdout",
     "output_type": "stream",
     "text": [
      "anaconda Command line client (version 1.9.0)\n"
     ]
    }
   ],
   "source": [
    "#Anaconda install on MacOS\n",
    "anaconda --version"
   ]
  },
  {
   "cell_type": "code",
   "execution_count": 28,
   "id": "aee7a5ad",
   "metadata": {},
   "outputs": [
    {
     "name": "stdout",
     "output_type": "stream",
     "text": [
      "\n",
      "     active environment : base\n",
      "    active env location : /Users/lin/opt/anaconda3\n",
      "            shell level : 1\n",
      "       user config file : /Users/lin/.condarc\n",
      " populated config files : \n",
      "          conda version : 4.13.0\n",
      "    conda-build version : 3.21.8\n",
      "         python version : 3.9.12.final.0\n",
      "       virtual packages : __osx=10.16=0\n",
      "                          __unix=0=0\n",
      "                          __archspec=1=x86_64\n",
      "       base environment : /Users/lin/opt/anaconda3  (writable)\n",
      "      conda av data dir : /Users/lin/opt/anaconda3/etc/conda\n",
      "  conda av metadata url : None\n",
      "           channel URLs : https://repo.anaconda.com/pkgs/main/osx-64\n",
      "                          https://repo.anaconda.com/pkgs/main/noarch\n",
      "                          https://repo.anaconda.com/pkgs/r/osx-64\n",
      "                          https://repo.anaconda.com/pkgs/r/noarch\n",
      "          package cache : /Users/lin/opt/anaconda3/pkgs\n",
      "                          /Users/lin/.conda/pkgs\n",
      "       envs directories : /Users/lin/opt/anaconda3/envs\n",
      "                          /Users/lin/.conda/envs\n",
      "               platform : osx-64\n",
      "             user-agent : conda/4.13.0 requests/2.27.1 CPython/3.9.12 Darwin/21.5.0 OSX/10.16\n",
      "                UID:GID : 501:20\n",
      "             netrc file : None\n",
      "           offline mode : False\n",
      "\n"
     ]
    }
   ],
   "source": [
    "conda info"
   ]
  },
  {
   "cell_type": "markdown",
   "id": "d894732e",
   "metadata": {},
   "source": [
    "Homebrew Installed"
   ]
  },
  {
   "cell_type": "code",
   "execution_count": null,
   "id": "f6b83c91",
   "metadata": {},
   "outputs": [
    {
     "name": "stdout",
     "output_type": "stream",
     "text": [
      "Homebrew 3.5.10\n",
      "Homebrew/homebrew-core (git revision fa385accb12; last commit 2022-08-24)\n"
     ]
    }
   ],
   "source": [
    "#Homebrew install on MacOS\n",
    "brew --version"
   ]
  },
  {
   "cell_type": "markdown",
   "id": "37e0f7a9",
   "metadata": {},
   "source": [
    "Jupyter Installed and Check Kernels"
   ]
  },
  {
   "cell_type": "code",
   "execution_count": null,
   "id": "0d1a0b93",
   "metadata": {},
   "outputs": [
    {
     "name": "stdout",
     "output_type": "stream",
     "text": [
      "conda 4.13.0\n",
      "Available kernels:\n",
      "  bash          /Users/lin/Library/Jupyter/kernels/bash\n",
      "  java          /Users/lin/Library/Jupyter/kernels/java\n",
      "  javascript    /Users/lin/Library/Jupyter/kernels/javascript\n",
      "  python3       /Users/lin/opt/anaconda3/share/jupyter/kernels/python3\n"
     ]
    }
   ],
   "source": [
    "#Install Jupyter and check kernels\n",
    "conda --version \n",
    "\n",
    "jupyter kernelspec list # list installed kernels"
   ]
  },
  {
   "cell_type": "markdown",
   "id": "797cd14d",
   "metadata": {},
   "source": [
    "Bash Kernel Installed"
   ]
  },
  {
   "cell_type": "code",
   "execution_count": null,
   "id": "0de2a56c",
   "metadata": {
    "scrolled": true
   },
   "outputs": [
    {
     "name": "stdout",
     "output_type": "stream",
     "text": [
      "GNU bash, version 3.2.57(1)-release (x86_64-apple-darwin21)\n",
      "Copyright (C) 2007 Free Software Foundation, Inc.\n"
     ]
    }
   ],
   "source": [
    "#Install Bash kernel\n",
    "bash --version\n",
    "\n",
    "jupyter kernelspec list # list kernels"
   ]
  },
  {
   "cell_type": "code",
   "execution_count": null,
   "id": "566d7e2e",
   "metadata": {},
   "outputs": [
    {
     "name": "stdout",
     "output_type": "stream",
     "text": [
      "6.4.1\n",
      "Available kernels:\n",
      "  bash          /Users/lin/Library/Jupyter/kernels/bash\n",
      "  java          /Users/lin/Library/Jupyter/kernels/java\n",
      "  javascript    /Users/lin/Library/Jupyter/kernels/javascript\n",
      "  python3       /Users/lin/opt/anaconda3/share/jupyter/kernels/python3\n"
     ]
    }
   ],
   "source": [
    "#Install JavaScript kernel\n",
    "npm -version  # node package manager comes with nodejs\n",
    "\n",
    "jupyter kernelspec list # list kernels"
   ]
  },
  {
   "cell_type": "markdown",
   "id": "97bbc374",
   "metadata": {},
   "source": [
    "Java Kernel Installed"
   ]
  },
  {
   "cell_type": "code",
   "execution_count": null,
   "id": "60af559c",
   "metadata": {},
   "outputs": [
    {
     "name": "stdout",
     "output_type": "stream",
     "text": [
      "Available kernels:\n",
      "  bash          /Users/lin/Library/Jupyter/kernels/bash\n",
      "  java          /Users/lin/Library/Jupyter/kernels/java\n",
      "  javascript    /Users/lin/Library/Jupyter/kernels/javascript\n",
      "  python3       /Users/lin/opt/anaconda3/share/jupyter/kernels/python3\n"
     ]
    }
   ],
   "source": [
    "#Install Java kernel\n",
    "jupyter kernelspec list # list kernels"
   ]
  },
  {
   "cell_type": "markdown",
   "id": "f9af54c4",
   "metadata": {},
   "source": [
    "Java Installed"
   ]
  },
  {
   "cell_type": "markdown",
   "id": "6fe54b46",
   "metadata": {},
   "source": []
  },
  {
   "cell_type": "code",
   "execution_count": null,
   "id": "6168aceb",
   "metadata": {},
   "outputs": [
    {
     "name": "stdout",
     "output_type": "stream",
     "text": [
      "openjdk 17.0.4 2022-07-19\n",
      "OpenJDK Runtime Environment Temurin-17.0.4+8 (build 17.0.4+8)\n",
      "OpenJDK 64-Bit Server VM Temurin-17.0.4+8 (build 17.0.4+8, mixed mode)\n"
     ]
    }
   ],
   "source": [
    "java --version"
   ]
  }
 ],
 "metadata": {
  "kernelspec": {
   "display_name": "Java",
   "language": "java",
   "name": "java"
  },
  "language_info": {
   "codemirror_mode": "shell",
   "file_extension": ".sh",
   "mimetype": "text/x-sh",
   "name": "java"
  }
 },
 "nbformat": 4,
 "nbformat_minor": 5
}
