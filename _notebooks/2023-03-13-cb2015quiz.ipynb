{
 "cells": [
  {
   "attachments": {},
   "cell_type": "markdown",
   "metadata": {},
   "source": [
    "# CB 2015 Practice Exam Quiz"
   ]
  },
  {
   "attachments": {},
   "cell_type": "markdown",
   "metadata": {},
   "source": [
    "## Finish the rest that I didn't complete"
   ]
  },
  {
   "attachments": {},
   "cell_type": "markdown",
   "metadata": {},
   "source": [
    "### Q25 Incrementing count in nested loops\n",
    "![quiz](../images/q25.jpeg)\n",
    "\n",
    "What is printed as a result of executing the code segment? <br>\n",
    "4+3+2+1=10<br>\n",
    "Answer: C 10\n"
   ]
  },
  {
   "attachments": {},
   "cell_type": "markdown",
   "metadata": {},
   "source": [
    "### Q26 Methods start and changeIt with aliases\n",
    "\n",
    "\n",
    "What is printed as a result of the call start()?<br>\n",
    " \n",
    "won't change anything\n",
    "\n",
    "Answer: E  1 2 3 4 5 6 blackboard\n"
   ]
  },
  {
   "attachments": {},
   "cell_type": "markdown",
   "metadata": {},
   "source": [
    "### Q27 Sorting 1D int array\n",
    "\n",
    "Assume that sort is called with the array {6, 3, 2, 5, 4, 1}. What will the value of data be after three passes of the outer loop (i.e., when j = 2 at the point indicated by / * End of outer loop * /)?\n",
    "\n",
    "Answer: B {1, 2, 3, 5, 4, 6}"
   ]
  },
  {
   "attachments": {},
   "cell_type": "markdown",
   "metadata": {},
   "source": [
    "### Q29 what method with int parameter\n",
    "\n",
    "Assume that int val has been declared and initialized with a value that satisfies the precondition of the method. Which of the following best describes the value returned by the call what(val)?\n",
    "\n",
    "Answer: A The number of digits in the decimal representation of val is returned."
   ]
  },
  {
   "attachments": {},
   "cell_type": "markdown",
   "metadata": {},
   "source": [
    "### Q30 Price of ink pens using getCost method\n",
    "\n",
    "Which of the following code segments can be used to replace /* missing code */ so that method getCost will work as intended?\n",
    "\n",
    "Answer: B II only"
   ]
  },
  {
   "attachments": {},
   "cell_type": "markdown",
   "metadata": {},
   "source": [
    "### Q31 X and O board\n",
    "\n",
    "Which of the following represents board after this code segment is executed?\n",
    "\n",
    "Answer: E"
   ]
  },
  {
   "attachments": {},
   "cell_type": "markdown",
   "metadata": {},
   "source": [
    "### Q32 StudentInfo class and averageInMajor method\n",
    "\n",
    "Which of the following could be used to replace /* missing code */ so that averageAgeInMajor will compile without error?\n",
    "\n",
    "Answer: B"
   ]
  },
  {
   "attachments": {},
   "cell_type": "markdown",
   "metadata": {},
   "source": [
    "### Q33 Find maximum in 1D int array\n",
    "Consider the problem of finding the maximum value in an array of integers. The following code segments are proposed solutions to the problem. Assume that the variable arr has been defined as an array of int values and has been initialized with one or more values.\n",
    "\n",
    "Which of the code segments will always correctly assign the maximum element of the array to the variable max ?\n",
    "\n",
    "Answer: E I, II, and III"
   ]
  },
  {
   "attachments": {},
   "cell_type": "markdown",
   "metadata": {},
   "source": [
    "### Q34 listOfWords List and wordsWithCommas method\n",
    "Consider the following instance variable and method. Method wordsWithCommas is intended to return a string containing all the words in listOfWords separated by commas and enclosed in braces.For example, if listOfWords contains [\"one\", \"two\", \"three\"], the string returned by the call wordsWithCommas () should be \"{one, two, three}\".\n",
    "\n",
    "Which of the following can be used to replace /* expression */ and /* condition */ so thatwordsWithCommas will work as intended?\n",
    "\n",
    "Answer: D \n",
    "/ * expression * / / / * condition * /\n",
    "listOfWords.size() / k != sizeOfList - 1"
   ]
  },
  {
   "attachments": {},
   "cell_type": "markdown",
   "metadata": {},
   "source": [
    "### Q35 Iterative binarySearch of 1D int array\n",
    "Consider the following code segment.\n",
    "\n",
    "int [ ] values = {1, 2, 3, 4, 5, 8, 8, 8};int target = 8;\n",
    "\n",
    "What value is returned by the call binarySearch (values, target) ?\n",
    "\n",
    "Answer: C 5"
   ]
  },
  {
   "attachments": {},
   "cell_type": "markdown",
   "metadata": {},
   "source": [
    "### Q36 Iterative binarySearch statement execution count\n",
    "\n",
    "Suppose the binarySearch method is called with an array containing 2,000 elements sorted in increasing order. What is the maximum number of times that the statement indicated by / * Calculate midpoint * / could execute?\n",
    "\n",
    "Answer: D 11"
   ]
  },
  {
   "attachments": {},
   "cell_type": "markdown",
   "metadata": {},
   "source": [
    "### Q37 concatWords method with String array\n",
    "\n",
    "Which of these code segments can be used to replace /* missing code */ so that concatWords will work as intended?\n",
    "\n",
    "Answer: E II and III"
   ]
  },
  {
   "attachments": {},
   "cell_type": "markdown",
   "metadata": {},
   "source": [
    "### Q38 mystery method with 1D int array, v and numVals\n",
    "\n",
    "Which of the following best describes what the call mystery(numbers, val, numbers.length) does? You may assume that variables numbers and val have been declared and initialized.\n",
    "\n",
    "Answer: C Returns the number of elements in numbers that are equal to val"
   ]
  },
  {
   "attachments": {},
   "cell_type": "markdown",
   "metadata": {},
   "source": [
    "### Q39 Consider the following code segment. Wh...\n",
    "\n",
    "What is printed as a result of executing the code segment?\n",
    "\n",
    "Answer: C \n",
    "\n",
    "Alex Bob Carl\n",
    "\n",
    "Alex Alex Alex"
   ]
  },
  {
   "cell_type": "markdown",
   "metadata": {},
   "source": [
    "## Corrections"
   ]
  }
 ],
 "metadata": {
  "kernelspec": {
   "display_name": "Java",
   "language": "java",
   "name": "java"
  },
  "language_info": {
   "name": "java"
  },
  "orig_nbformat": 4
 },
 "nbformat": 4,
 "nbformat_minor": 2
}
