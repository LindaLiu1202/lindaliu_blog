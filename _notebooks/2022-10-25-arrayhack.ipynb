{
 "cells": [
  {
   "cell_type": "markdown",
   "metadata": {},
   "source": [
    "# Array Hack\n",
    "- toc: true \n",
    "- badges: true\n",
    "- comments: true\n",
    "- categories: [jupyter]"
   ]
  },
  {
   "cell_type": "markdown",
   "metadata": {},
   "source": [
    "Hack 2\n",
    "Which of the following is FALSE about arrays\n",
    "\n",
    "A. A java array is an object\n",
    "B. Length of array can be changed after creation of array\n",
    "C. Numerical data types of arrays are initialized to 0 to start\n",
    "\n",
    "B"
   ]
  },
  {
   "cell_type": "markdown",
   "metadata": {},
   "source": [
    "Hack 3\n",
    "Create a function that takes in a list of integers and returns the list with the integers in ascending order. Print every element in this list\n",
    "\n",
    "Example\n",
    "int[] myNumbers = new int[] {5, 3, 4, 1, 2};\n",
    "arraySorter(myNumbers);\n",
    "Expected Output\n",
    "1\n",
    "2\n",
    "3\n",
    "4\n",
    "5"
   ]
  },
  {
   "cell_type": "code",
   "execution_count": 1,
   "metadata": {},
   "outputs": [
    {
     "ename": "CompilationException",
     "evalue": "",
     "output_type": "error",
     "traceback": [
      "\u001b[1m\u001b[30m|   \u001b[1m\u001b[30m    myNumbers.sort(\u001b[0m\u001b[1m\u001b[30m\u001b[41marraysorter\u001b[0m\u001b[1m\u001b[30m);\u001b[0m",
      "\u001b[1m\u001b[31mcannot find symbol\u001b[0m",
      "\u001b[1m\u001b[31m  symbol:   variable arraysorter\u001b[0m",
      "",
      "\u001b[1m\u001b[30m|   \u001b[1m\u001b[30m    System.out.print(\u001b[0m\u001b[1m\u001b[30m\u001b[41marraysorter\u001b[0m\u001b[1m\u001b[30m);\u001b[0m",
      "\u001b[1m\u001b[31mcannot find symbol\u001b[0m",
      "\u001b[1m\u001b[31m  symbol:   variable arraysorter\u001b[0m",
      ""
     ]
    }
   ],
   "source": [
    "int[] myNumbers = new int[] {5, 3, 4, 1, 2};\n",
    "\n",
    "for (int i = 0; i < myNumbers.length; i++) {\n",
    " \n",
    "}\n"
   ]
  },
  {
   "cell_type": "markdown",
   "metadata": {},
   "source": [
    "Hack 4\n",
    "Given the following code segment, which of the following will cause an infinite loop? Assume that temp is an int variable initialized to be greater than zero and that a is an array of integers."
   ]
  },
  {
   "cell_type": "code",
   "execution_count": null,
   "metadata": {},
   "outputs": [],
   "source": [
    "for ( int k = 0; k < a.length; k++ )\n",
    "{\n",
    "   while ( a[ k ] < temp )\n",
    "   {\n",
    "      a[ k ] *= 2;\n",
    "   }\n",
    "}"
   ]
  },
  {
   "cell_type": "markdown",
   "metadata": {},
   "source": [
    "B\n",
    "\n",
    "When a contains a value that is less than or equal to zero then multiplying that value by 2 will never make the result larger than temp (which was set to some value > 0), so an infinite loop will occur."
   ]
  },
  {
   "cell_type": "markdown",
   "metadata": {},
   "source": [
    "6.3 Enhanced for loop for Arrays\n",
    "\n",
    "- can only traverse in a forward direction"
   ]
  },
  {
   "cell_type": "code",
   "execution_count": null,
   "metadata": {},
   "outputs": [],
   "source": [
    "for (dataType i: arrayName) {\n",
    "    do something with i\n",
    "  }"
   ]
  }
 ],
 "metadata": {
  "kernelspec": {
   "display_name": "Java",
   "language": "java",
   "name": "java"
  },
  "language_info": {
   "codemirror_mode": "java",
   "file_extension": ".jshell",
   "mimetype": "text/x-java-source",
   "name": "java",
   "pygments_lexer": "java",
   "version": "17.0.4+8"
  },
  "orig_nbformat": 4
 },
 "nbformat": 4,
 "nbformat_minor": 2
}
