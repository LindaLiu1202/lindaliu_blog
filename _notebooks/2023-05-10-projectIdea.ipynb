{
 "cells": [
  {
   "attachments": {},
   "cell_type": "markdown",
   "metadata": {},
   "source": [
    "# Project Idea"
   ]
  },
  {
   "cell_type": "markdown",
   "metadata": {},
   "source": [
    "Frontend Animation and Gaming ideas for my new course next year.  My focus focus is on JavaScript and Animation.   I have some code that does basic animations, but I want to add scenes, obstacles, more."
   ]
  },
  {
   "attachments": {},
   "cell_type": "markdown",
   "metadata": {},
   "source": [
    "## Storybook (learning csa topics)\n",
    "- interactive storybook with JavaScript and animations (stories -> learning computer science topics)\n",
    "- have different scenes and characters with animations \n",
    "- user can use keyboard to control the figure and walk up to a character/npc to enable a new chapter (enable conversation with the character and interact with the character)\n",
    "    - during the dialogue, there will be small quizzes/questions during dialogue (user can choose an answer) to ensure that user is not skipping all the dialogues and test user's knowledge\n",
    "      - after completing the questions and going through the dialogues(learning), there would be a game -> obstacle/problem that user need to solve (a new scene with music)\n",
    "        - multiple questions (like quizzez)\n",
    "        - for each questions, randomly assign cards with different possible answers to user and user can drag the card to answer the questions\n",
    "        - answering all the question would receive some kind of rewards (title)\n"
   ]
  },
  {
   "attachments": {},
   "cell_type": "markdown",
   "metadata": {},
   "source": [
    "![](../images/2.webp)\n",
    "![](../images/1.webp)\n",
    "![](../images/3.avif)"
   ]
  }
 ],
 "metadata": {
  "kernelspec": {
   "display_name": "Java",
   "language": "java",
   "name": "java"
  },
  "language_info": {
   "name": "java"
  },
  "orig_nbformat": 4
 },
 "nbformat": 4,
 "nbformat_minor": 2
}
