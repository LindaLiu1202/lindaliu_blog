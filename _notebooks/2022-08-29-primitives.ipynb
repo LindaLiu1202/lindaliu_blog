{
 "cells": [
  {
   "cell_type": "markdown",
   "metadata": {},
   "source": [
    "# Primitives\n",
    "\n",
    "- toc: true \n",
    "- badges: true\n",
    "- comments: true\n",
    "- categories: [jupyter]\n",
    "- image: images/chart-preview.png"
   ]
  },
  {
   "cell_type": "markdown",
   "metadata": {},
   "source": [
    "Define in a Class the following data types\n",
    " - Demonstrate use of Primitives: int, double, boolean, string\n",
    " - Demonstrate use of Wrapper Class object: String\n",
    "\n",
    "Describe in comments how each data type choice is appropriate to application "
   ]
  },
  {
   "cell_type": "code",
   "execution_count": 105,
   "metadata": {},
   "outputs": [
    {
     "name": "stdout",
     "output_type": "stream",
     "text": [
      "anInt: 55\n",
      "aDouble: 12.2\n",
      "aBoolean: false\n",
      "aString: Hello, I am Linda Liu!\n",
      "aStringFormal: Greetings, World!\n"
     ]
    }
   ],
   "source": [
    "public class DefinePrimitives {\n",
    "    public static void main(String[] args) {\n",
    "      int anInt = 55; //can be used to calculate people's age or grades\n",
    "      double aDouble = 12.2; //can be used in a grade calculator\n",
    "      boolean aBoolean = false; //can be used in a survay\n",
    "\n",
    "      // not primitives but essential\n",
    "      String aString = \"Hello, I am Linda Liu!\";   // can be used to display text\n",
    "      String aStringFormal = new String(\"Greetings, World!\");\n",
    "  \n",
    "      System.out.println(\"anInt: \" + anInt);\n",
    "      System.out.println(\"aDouble: \" + aDouble);\n",
    "      System.out.println(\"aBoolean: \" + aBoolean);\n",
    "      System.out.println(\"aString: \" + aString);\n",
    "      System.out.println(\"aStringFormal: \" + aStringFormal);\n",
    "    }\n",
    "  }\n",
    "  DefinePrimitives.main(null)"
   ]
  },
  {
   "cell_type": "markdown",
   "metadata": {},
   "source": [
    "Perform arithmetic expressions and assignment in a program code\n",
    "- simple operations\n",
    "- use compound assignment operator to perform an operation on both operands and store the result into the variable on the left\n",
    "\n",
    "Perform compound assignment operator (ie +=), add comments to describe the result of operator"
   ]
  },
  {
   "cell_type": "code",
   "execution_count": 106,
   "metadata": {},
   "outputs": [
    {
     "name": "stdout",
     "output_type": "stream",
     "text": [
      "d = 1500\n",
      "d = 15\n",
      "d = 65\n"
     ]
    }
   ],
   "source": [
    "int a = 10;\n",
    "int b = 5;\n",
    "int c = 100;\n",
    "int d = 0;\n",
    "\n",
    "d = ( a + b ) * c;\n",
    "System.out.println(\"d = \" + d);\n",
    "\n",
    "\n",
    "d /= c; //use compound assignment operator (/=)\n",
    "System.out.println(\"d = \" + d);\n",
    "\n",
    "d += (a * b); //use compound assignment operator (+=)\n",
    "System.out.println(\"d = \" + d);"
   ]
  },
  {
   "cell_type": "markdown",
   "metadata": {},
   "source": [
    "Determine what is result is in a variable as a result of an data type and expression (ie integer vs double)\n",
    "\n",
    "- the result of the variable d as a result of the operations (of intergers) is also an interger"
   ]
  },
  {
   "cell_type": "markdown",
   "metadata": {},
   "source": [
    "Perform an arithmetic expressions that uses casting, add comments that show how it produces desired result. \n",
    "\n",
    "- we use casting in java to change the data type of a variable frome one type to another\n",
    "- if one of the value in an expression is a double, java will assume that you want a double result\n",
    "  - or we can use the casting operator double\n",
    "- we can also use the casting operators to round"
   ]
  },
  {
   "cell_type": "code",
   "execution_count": 107,
   "metadata": {},
   "outputs": [
    {
     "name": "stdout",
     "output_type": "stream",
     "text": [
      "2\n",
      "2.0\n",
      "2.0\n"
     ]
    }
   ],
   "source": [
    "System.out.println(10/5);\n",
    "System.out.println(10.0/5);\n",
    "System.out.println((double) 10/5); //use casting operator double in ()"
   ]
  },
  {
   "cell_type": "code",
   "execution_count": 108,
   "metadata": {},
   "outputs": [
    {
     "name": "stdout",
     "output_type": "stream",
     "text": [
      "3.3333333333333335\n",
      "3\n",
      "4\n"
     ]
    }
   ],
   "source": [
    "double number = 10/3;\n",
    "\n",
    "System.out.println((double)10/3);\n",
    "\n",
    "System.out.println((int)10/3); //int will drop everything after decimal, not rounding it\n",
    "\n",
    "int roundedNumber = (int) (number + 1.1); //add 1.1 to the number, cast that as an int, store result in roundedNumber\n",
    "\n",
    "System.out.println(roundedNumber);\n",
    "\n"
   ]
  },
  {
   "cell_type": "markdown",
   "metadata": {},
   "source": []
  },
  {
   "cell_type": "code",
   "execution_count": null,
   "metadata": {},
   "outputs": [],
   "source": []
  }
 ],
 "metadata": {
  "kernelspec": {
   "display_name": "Java",
   "language": "java",
   "name": "java"
  },
  "language_info": {
   "codemirror_mode": "java",
   "file_extension": ".jshell",
   "mimetype": "text/x-java-source",
   "name": "java",
   "pygments_lexer": "java",
   "version": "17.0.4+8"
  },
  "orig_nbformat": 4,
  "vscode": {
   "interpreter": {
    "hash": "b0fa6594d8f4cbf19f97940f81e996739fb7646882a419484c72d19e05852a7e"
   }
  }
 },
 "nbformat": 4,
 "nbformat_minor": 2
}
